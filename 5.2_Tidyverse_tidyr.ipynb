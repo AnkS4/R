{
 "cells": [
  {
   "cell_type": "code",
   "execution_count": 1,
   "metadata": {},
   "outputs": [
    {
     "name": "stderr",
     "output_type": "stream",
     "text": [
      "── \u001b[1mAttaching packages\u001b[22m ─────────────────────────────────────── tidyverse 1.3.0 ──\n",
      "\n",
      "\u001b[32m✔\u001b[39m \u001b[34mggplot2\u001b[39m 3.2.1     \u001b[32m✔\u001b[39m \u001b[34mpurrr  \u001b[39m 0.3.3\n",
      "\u001b[32m✔\u001b[39m \u001b[34mtibble \u001b[39m 2.1.3     \u001b[32m✔\u001b[39m \u001b[34mdplyr  \u001b[39m 0.8.4\n",
      "\u001b[32m✔\u001b[39m \u001b[34mtidyr  \u001b[39m 1.0.2     \u001b[32m✔\u001b[39m \u001b[34mstringr\u001b[39m 1.4.0\n",
      "\u001b[32m✔\u001b[39m \u001b[34mreadr  \u001b[39m 1.3.1     \u001b[32m✔\u001b[39m \u001b[34mforcats\u001b[39m 0.4.0\n",
      "\n",
      "── \u001b[1mConflicts\u001b[22m ────────────────────────────────────────── tidyverse_conflicts() ──\n",
      "\u001b[31m✖\u001b[39m \u001b[34mdplyr\u001b[39m::\u001b[32mfilter()\u001b[39m masks \u001b[34mstats\u001b[39m::filter()\n",
      "\u001b[31m✖\u001b[39m \u001b[34mdplyr\u001b[39m::\u001b[32mlag()\u001b[39m    masks \u001b[34mstats\u001b[39m::lag()\n",
      "\n"
     ]
    }
   ],
   "source": [
    "df <- read.csv(\"comb1.csv\")\n",
    "library(\"tidyverse\")"
   ]
  },
  {
   "cell_type": "code",
   "execution_count": 2,
   "metadata": {},
   "outputs": [
    {
     "data": {
      "text/html": [
       "<table>\n",
       "<caption>A tibble: 6 × 5</caption>\n",
       "<thead>\n",
       "\t<tr><th scope=col>District</th><th scope=col>Highlighter</th><th scope=col>Marker</th><th scope=col>Pen</th><th scope=col>Refill</th></tr>\n",
       "\t<tr><th scope=col>&lt;fct&gt;</th><th scope=col>&lt;int&gt;</th><th scope=col>&lt;int&gt;</th><th scope=col>&lt;int&gt;</th><th scope=col>&lt;int&gt;</th></tr>\n",
       "</thead>\n",
       "<tbody>\n",
       "\t<tr><td>Ahmednagar</td><td>225</td><td> 51</td><td>674</td><td>69</td></tr>\n",
       "\t<tr><td>Aurangabad</td><td>162</td><td>159</td><td>755</td><td>50</td></tr>\n",
       "\t<tr><td>Buldhana  </td><td> 30</td><td> 32</td><td>616</td><td>38</td></tr>\n",
       "\t<tr><td>Dhule     </td><td>193</td><td>390</td><td>553</td><td>40</td></tr>\n",
       "\t<tr><td>Goa       </td><td> 81</td><td>243</td><td>518</td><td>NA</td></tr>\n",
       "\t<tr><td>Kolhapur  </td><td>108</td><td>118</td><td>352</td><td>NA</td></tr>\n",
       "</tbody>\n",
       "</table>\n"
      ],
      "text/latex": [
       "A tibble: 6 × 5\n",
       "\\begin{tabular}{lllll}\n",
       " District & Highlighter & Marker & Pen & Refill\\\\\n",
       " <fct> & <int> & <int> & <int> & <int>\\\\\n",
       "\\hline\n",
       "\t Ahmednagar & 225 &  51 & 674 & 69\\\\\n",
       "\t Aurangabad & 162 & 159 & 755 & 50\\\\\n",
       "\t Buldhana   &  30 &  32 & 616 & 38\\\\\n",
       "\t Dhule      & 193 & 390 & 553 & 40\\\\\n",
       "\t Goa        &  81 & 243 & 518 & NA\\\\\n",
       "\t Kolhapur   & 108 & 118 & 352 & NA\\\\\n",
       "\\end{tabular}\n"
      ],
      "text/markdown": [
       "\n",
       "A tibble: 6 × 5\n",
       "\n",
       "| District &lt;fct&gt; | Highlighter &lt;int&gt; | Marker &lt;int&gt; | Pen &lt;int&gt; | Refill &lt;int&gt; |\n",
       "|---|---|---|---|---|\n",
       "| Ahmednagar | 225 |  51 | 674 | 69 |\n",
       "| Aurangabad | 162 | 159 | 755 | 50 |\n",
       "| Buldhana   |  30 |  32 | 616 | 38 |\n",
       "| Dhule      | 193 | 390 | 553 | 40 |\n",
       "| Goa        |  81 | 243 | 518 | NA |\n",
       "| Kolhapur   | 108 | 118 | 352 | NA |\n",
       "\n"
      ],
      "text/plain": [
       "  District   Highlighter Marker Pen Refill\n",
       "1 Ahmednagar 225          51    674 69    \n",
       "2 Aurangabad 162         159    755 50    \n",
       "3 Buldhana    30          32    616 38    \n",
       "4 Dhule      193         390    553 40    \n",
       "5 Goa         81         243    518 NA    \n",
       "6 Kolhapur   108         118    352 NA    "
      ]
     },
     "metadata": {},
     "output_type": "display_data"
    }
   ],
   "source": [
    "tbl <- as_tibble(df)\n",
    "head(tbl)"
   ]
  },
  {
   "cell_type": "code",
   "execution_count": 3,
   "metadata": {},
   "outputs": [
    {
     "data": {
      "text/html": [
       "<table>\n",
       "<caption>A tibble: 6 × 3</caption>\n",
       "<thead>\n",
       "\t<tr><th scope=col>District</th><th scope=col>type</th><th scope=col>value</th></tr>\n",
       "\t<tr><th scope=col>&lt;fct&gt;</th><th scope=col>&lt;chr&gt;</th><th scope=col>&lt;int&gt;</th></tr>\n",
       "</thead>\n",
       "<tbody>\n",
       "\t<tr><td>Ahmednagar</td><td>Highlighter</td><td>225</td></tr>\n",
       "\t<tr><td>Aurangabad</td><td>Highlighter</td><td>162</td></tr>\n",
       "\t<tr><td>Buldhana  </td><td>Highlighter</td><td> 30</td></tr>\n",
       "\t<tr><td>Dhule     </td><td>Highlighter</td><td>193</td></tr>\n",
       "\t<tr><td>Goa       </td><td>Highlighter</td><td> 81</td></tr>\n",
       "\t<tr><td>Kolhapur  </td><td>Highlighter</td><td>108</td></tr>\n",
       "</tbody>\n",
       "</table>\n"
      ],
      "text/latex": [
       "A tibble: 6 × 3\n",
       "\\begin{tabular}{lll}\n",
       " District & type & value\\\\\n",
       " <fct> & <chr> & <int>\\\\\n",
       "\\hline\n",
       "\t Ahmednagar & Highlighter & 225\\\\\n",
       "\t Aurangabad & Highlighter & 162\\\\\n",
       "\t Buldhana   & Highlighter &  30\\\\\n",
       "\t Dhule      & Highlighter & 193\\\\\n",
       "\t Goa        & Highlighter &  81\\\\\n",
       "\t Kolhapur   & Highlighter & 108\\\\\n",
       "\\end{tabular}\n"
      ],
      "text/markdown": [
       "\n",
       "A tibble: 6 × 3\n",
       "\n",
       "| District &lt;fct&gt; | type &lt;chr&gt; | value &lt;int&gt; |\n",
       "|---|---|---|\n",
       "| Ahmednagar | Highlighter | 225 |\n",
       "| Aurangabad | Highlighter | 162 |\n",
       "| Buldhana   | Highlighter |  30 |\n",
       "| Dhule      | Highlighter | 193 |\n",
       "| Goa        | Highlighter |  81 |\n",
       "| Kolhapur   | Highlighter | 108 |\n",
       "\n"
      ],
      "text/plain": [
       "  District   type        value\n",
       "1 Ahmednagar Highlighter 225  \n",
       "2 Aurangabad Highlighter 162  \n",
       "3 Buldhana   Highlighter  30  \n",
       "4 Dhule      Highlighter 193  \n",
       "5 Goa        Highlighter  81  \n",
       "6 Kolhapur   Highlighter 108  "
      ]
     },
     "metadata": {},
     "output_type": "display_data"
    }
   ],
   "source": [
    "tbl2 <- gather(tbl, 'Highlighter', 'Marker', 'Pen', 'Refill', key=\"type\", value=\"value\")\n",
    "head(tbl2)"
   ]
  },
  {
   "cell_type": "code",
   "execution_count": 4,
   "metadata": {},
   "outputs": [
    {
     "data": {
      "text/html": [
       "<table>\n",
       "<caption>A tibble: 6 × 3</caption>\n",
       "<thead>\n",
       "\t<tr><th scope=col>District</th><th scope=col>type</th><th scope=col>value</th></tr>\n",
       "\t<tr><th scope=col>&lt;fct&gt;</th><th scope=col>&lt;chr&gt;</th><th scope=col>&lt;int&gt;</th></tr>\n",
       "</thead>\n",
       "<tbody>\n",
       "\t<tr><td>Ahmednagar</td><td>Highlighter</td><td>225</td></tr>\n",
       "\t<tr><td>Aurangabad</td><td>Highlighter</td><td>162</td></tr>\n",
       "\t<tr><td>Buldhana  </td><td>Highlighter</td><td> 30</td></tr>\n",
       "\t<tr><td>Dhule     </td><td>Highlighter</td><td>193</td></tr>\n",
       "\t<tr><td>Goa       </td><td>Highlighter</td><td> 81</td></tr>\n",
       "\t<tr><td>Kolhapur  </td><td>Highlighter</td><td>108</td></tr>\n",
       "</tbody>\n",
       "</table>\n"
      ],
      "text/latex": [
       "A tibble: 6 × 3\n",
       "\\begin{tabular}{lll}\n",
       " District & type & value\\\\\n",
       " <fct> & <chr> & <int>\\\\\n",
       "\\hline\n",
       "\t Ahmednagar & Highlighter & 225\\\\\n",
       "\t Aurangabad & Highlighter & 162\\\\\n",
       "\t Buldhana   & Highlighter &  30\\\\\n",
       "\t Dhule      & Highlighter & 193\\\\\n",
       "\t Goa        & Highlighter &  81\\\\\n",
       "\t Kolhapur   & Highlighter & 108\\\\\n",
       "\\end{tabular}\n"
      ],
      "text/markdown": [
       "\n",
       "A tibble: 6 × 3\n",
       "\n",
       "| District &lt;fct&gt; | type &lt;chr&gt; | value &lt;int&gt; |\n",
       "|---|---|---|\n",
       "| Ahmednagar | Highlighter | 225 |\n",
       "| Aurangabad | Highlighter | 162 |\n",
       "| Buldhana   | Highlighter |  30 |\n",
       "| Dhule      | Highlighter | 193 |\n",
       "| Goa        | Highlighter |  81 |\n",
       "| Kolhapur   | Highlighter | 108 |\n",
       "\n"
      ],
      "text/plain": [
       "  District   type        value\n",
       "1 Ahmednagar Highlighter 225  \n",
       "2 Aurangabad Highlighter 162  \n",
       "3 Buldhana   Highlighter  30  \n",
       "4 Dhule      Highlighter 193  \n",
       "5 Goa        Highlighter  81  \n",
       "6 Kolhapur   Highlighter 108  "
      ]
     },
     "metadata": {},
     "output_type": "display_data"
    }
   ],
   "source": [
    "tbl2 <- tbl %>% gather('Highlighter', 'Marker', 'Pen', 'Refill', key=\"type\", value=\"value\")\n",
    "head(tbl2)"
   ]
  },
  {
   "cell_type": "code",
   "execution_count": 5,
   "metadata": {},
   "outputs": [
    {
     "data": {
      "text/html": [
       "<table>\n",
       "<caption>A tibble: 6 × 5</caption>\n",
       "<thead>\n",
       "\t<tr><th scope=col>District</th><th scope=col>Highlighter</th><th scope=col>Marker</th><th scope=col>Pen</th><th scope=col>Refill</th></tr>\n",
       "\t<tr><th scope=col>&lt;fct&gt;</th><th scope=col>&lt;int&gt;</th><th scope=col>&lt;int&gt;</th><th scope=col>&lt;int&gt;</th><th scope=col>&lt;int&gt;</th></tr>\n",
       "</thead>\n",
       "<tbody>\n",
       "\t<tr><td>Ahmednagar</td><td>225</td><td> 51</td><td>674</td><td>69</td></tr>\n",
       "\t<tr><td>Aurangabad</td><td>162</td><td>159</td><td>755</td><td>50</td></tr>\n",
       "\t<tr><td>Buldhana  </td><td> 30</td><td> 32</td><td>616</td><td>38</td></tr>\n",
       "\t<tr><td>Dhule     </td><td>193</td><td>390</td><td>553</td><td>40</td></tr>\n",
       "\t<tr><td>Goa       </td><td> 81</td><td>243</td><td>518</td><td>NA</td></tr>\n",
       "\t<tr><td>Kolhapur  </td><td>108</td><td>118</td><td>352</td><td>NA</td></tr>\n",
       "</tbody>\n",
       "</table>\n"
      ],
      "text/latex": [
       "A tibble: 6 × 5\n",
       "\\begin{tabular}{lllll}\n",
       " District & Highlighter & Marker & Pen & Refill\\\\\n",
       " <fct> & <int> & <int> & <int> & <int>\\\\\n",
       "\\hline\n",
       "\t Ahmednagar & 225 &  51 & 674 & 69\\\\\n",
       "\t Aurangabad & 162 & 159 & 755 & 50\\\\\n",
       "\t Buldhana   &  30 &  32 & 616 & 38\\\\\n",
       "\t Dhule      & 193 & 390 & 553 & 40\\\\\n",
       "\t Goa        &  81 & 243 & 518 & NA\\\\\n",
       "\t Kolhapur   & 108 & 118 & 352 & NA\\\\\n",
       "\\end{tabular}\n"
      ],
      "text/markdown": [
       "\n",
       "A tibble: 6 × 5\n",
       "\n",
       "| District &lt;fct&gt; | Highlighter &lt;int&gt; | Marker &lt;int&gt; | Pen &lt;int&gt; | Refill &lt;int&gt; |\n",
       "|---|---|---|---|---|\n",
       "| Ahmednagar | 225 |  51 | 674 | 69 |\n",
       "| Aurangabad | 162 | 159 | 755 | 50 |\n",
       "| Buldhana   |  30 |  32 | 616 | 38 |\n",
       "| Dhule      | 193 | 390 | 553 | 40 |\n",
       "| Goa        |  81 | 243 | 518 | NA |\n",
       "| Kolhapur   | 108 | 118 | 352 | NA |\n",
       "\n"
      ],
      "text/plain": [
       "  District   Highlighter Marker Pen Refill\n",
       "1 Ahmednagar 225          51    674 69    \n",
       "2 Aurangabad 162         159    755 50    \n",
       "3 Buldhana    30          32    616 38    \n",
       "4 Dhule      193         390    553 40    \n",
       "5 Goa         81         243    518 NA    \n",
       "6 Kolhapur   108         118    352 NA    "
      ]
     },
     "metadata": {},
     "output_type": "display_data"
    }
   ],
   "source": [
    "tbl3 <- spread(tbl2, key=\"type\", value=\"value\")\n",
    "head(tbl3)"
   ]
  },
  {
   "cell_type": "code",
   "execution_count": 6,
   "metadata": {},
   "outputs": [
    {
     "data": {
      "text/html": [
       "<table>\n",
       "<caption>A tibble: 6 × 27</caption>\n",
       "<thead>\n",
       "\t<tr><th scope=col>NO</th><th scope=col>D</th><th scope=col>YR</th><th scope=col>R1</th><th scope=col>R2</th><th scope=col>R3</th><th scope=col>R4</th><th scope=col>R5</th><th scope=col>R6</th><th scope=col>R7</th><th scope=col>⋯</th><th scope=col>R15</th><th scope=col>R16</th><th scope=col>R17</th><th scope=col>R18</th><th scope=col>R19</th><th scope=col>R20</th><th scope=col>R21</th><th scope=col>R22</th><th scope=col>R23</th><th scope=col>R24</th></tr>\n",
       "\t<tr><th scope=col>&lt;int&gt;</th><th scope=col>&lt;int&gt;</th><th scope=col>&lt;int&gt;</th><th scope=col>&lt;dbl&gt;</th><th scope=col>&lt;dbl&gt;</th><th scope=col>&lt;dbl&gt;</th><th scope=col>&lt;dbl&gt;</th><th scope=col>&lt;dbl&gt;</th><th scope=col>&lt;dbl&gt;</th><th scope=col>&lt;dbl&gt;</th><th scope=col>⋯</th><th scope=col>&lt;dbl&gt;</th><th scope=col>&lt;dbl&gt;</th><th scope=col>&lt;dbl&gt;</th><th scope=col>&lt;dbl&gt;</th><th scope=col>&lt;dbl&gt;</th><th scope=col>&lt;dbl&gt;</th><th scope=col>&lt;dbl&gt;</th><th scope=col>&lt;dbl&gt;</th><th scope=col>&lt;dbl&gt;</th><th scope=col>&lt;dbl&gt;</th></tr>\n",
       "</thead>\n",
       "<tbody>\n",
       "\t<tr><td>1</td><td>0</td><td>78</td><td>0.23</td><td>0.08</td><td>0.02</td><td>0.03</td><td>0.46</td><td>0.12</td><td>0.19</td><td>⋯</td><td> 0.05</td><td>0.57</td><td>0.15</td><td>0.23</td><td> 3.56</td><td>0.26</td><td>1.55</td><td> 0.43</td><td> 0.11</td><td> 0.17</td></tr>\n",
       "\t<tr><td>2</td><td>0</td><td>77</td><td>0.19</td><td>0.07</td><td>0.09</td><td>0.12</td><td>0.02</td><td>0.02</td><td>0.03</td><td>⋯</td><td> 0.09</td><td>0.12</td><td>0.16</td><td>0.22</td><td> 3.78</td><td>1.29</td><td>1.40</td><td> 0.06</td><td> 0.07</td><td> 0.10</td></tr>\n",
       "\t<tr><td>3</td><td>0</td><td>72</td><td>0.07</td><td>0.02</td><td>0.03</td><td>0.05</td><td>0.06</td><td>0.10</td><td>0.14</td><td>⋯</td><td>-0.03</td><td>0.02</td><td>0.02</td><td>0.04</td><td>13.29</td><td>1.61</td><td>1.43</td><td> 0.03</td><td> 0.05</td><td> 0.07</td></tr>\n",
       "\t<tr><td>4</td><td>0</td><td>80</td><td>0.07</td><td>0.03</td><td>0.04</td><td>0.04</td><td>0.04</td><td>0.06</td><td>0.06</td><td>⋯</td><td>-0.02</td><td>0.01</td><td>0.02</td><td>0.02</td><td> 5.36</td><td>1.30</td><td>1.12</td><td>-0.06</td><td>-0.08</td><td>-0.09</td></tr>\n",
       "\t<tr><td>5</td><td>0</td><td>81</td><td>0.09</td><td>0.02</td><td>0.03</td><td>0.04</td><td>0.06</td><td>0.08</td><td>0.11</td><td>⋯</td><td> 0.02</td><td>0.07</td><td>0.10</td><td>0.14</td><td> 7.74</td><td>1.48</td><td>1.41</td><td> 0.03</td><td> 0.04</td><td> 0.06</td></tr>\n",
       "\t<tr><td>6</td><td>0</td><td>70</td><td>0.24</td><td>0.07</td><td>0.14</td><td>0.22</td><td>0.10</td><td>0.18</td><td>0.29</td><td>⋯</td><td> 0.10</td><td>0.06</td><td>0.11</td><td>0.18</td><td> 9.82</td><td>1.82</td><td>1.60</td><td> 0.06</td><td> 0.11</td><td> 0.18</td></tr>\n",
       "</tbody>\n",
       "</table>\n"
      ],
      "text/latex": [
       "A tibble: 6 × 27\n",
       "\\begin{tabular}{lllllllllllllllllllll}\n",
       " NO & D & YR & R1 & R2 & R3 & R4 & R5 & R6 & R7 & ⋯ & R15 & R16 & R17 & R18 & R19 & R20 & R21 & R22 & R23 & R24\\\\\n",
       " <int> & <int> & <int> & <dbl> & <dbl> & <dbl> & <dbl> & <dbl> & <dbl> & <dbl> & ⋯ & <dbl> & <dbl> & <dbl> & <dbl> & <dbl> & <dbl> & <dbl> & <dbl> & <dbl> & <dbl>\\\\\n",
       "\\hline\n",
       "\t 1 & 0 & 78 & 0.23 & 0.08 & 0.02 & 0.03 & 0.46 & 0.12 & 0.19 & ⋯ &  0.05 & 0.57 & 0.15 & 0.23 &  3.56 & 0.26 & 1.55 &  0.43 &  0.11 &  0.17\\\\\n",
       "\t 2 & 0 & 77 & 0.19 & 0.07 & 0.09 & 0.12 & 0.02 & 0.02 & 0.03 & ⋯ &  0.09 & 0.12 & 0.16 & 0.22 &  3.78 & 1.29 & 1.40 &  0.06 &  0.07 &  0.10\\\\\n",
       "\t 3 & 0 & 72 & 0.07 & 0.02 & 0.03 & 0.05 & 0.06 & 0.10 & 0.14 & ⋯ & -0.03 & 0.02 & 0.02 & 0.04 & 13.29 & 1.61 & 1.43 &  0.03 &  0.05 &  0.07\\\\\n",
       "\t 4 & 0 & 80 & 0.07 & 0.03 & 0.04 & 0.04 & 0.04 & 0.06 & 0.06 & ⋯ & -0.02 & 0.01 & 0.02 & 0.02 &  5.36 & 1.30 & 1.12 & -0.06 & -0.08 & -0.09\\\\\n",
       "\t 5 & 0 & 81 & 0.09 & 0.02 & 0.03 & 0.04 & 0.06 & 0.08 & 0.11 & ⋯ &  0.02 & 0.07 & 0.10 & 0.14 &  7.74 & 1.48 & 1.41 &  0.03 &  0.04 &  0.06\\\\\n",
       "\t 6 & 0 & 70 & 0.24 & 0.07 & 0.14 & 0.22 & 0.10 & 0.18 & 0.29 & ⋯ &  0.10 & 0.06 & 0.11 & 0.18 &  9.82 & 1.82 & 1.60 &  0.06 &  0.11 &  0.18\\\\\n",
       "\\end{tabular}\n"
      ],
      "text/markdown": [
       "\n",
       "A tibble: 6 × 27\n",
       "\n",
       "| NO &lt;int&gt; | D &lt;int&gt; | YR &lt;int&gt; | R1 &lt;dbl&gt; | R2 &lt;dbl&gt; | R3 &lt;dbl&gt; | R4 &lt;dbl&gt; | R5 &lt;dbl&gt; | R6 &lt;dbl&gt; | R7 &lt;dbl&gt; | ⋯ ⋯ | R15 &lt;dbl&gt; | R16 &lt;dbl&gt; | R17 &lt;dbl&gt; | R18 &lt;dbl&gt; | R19 &lt;dbl&gt; | R20 &lt;dbl&gt; | R21 &lt;dbl&gt; | R22 &lt;dbl&gt; | R23 &lt;dbl&gt; | R24 &lt;dbl&gt; |\n",
       "|---|---|---|---|---|---|---|---|---|---|---|---|---|---|---|---|---|---|---|---|---|\n",
       "| 1 | 0 | 78 | 0.23 | 0.08 | 0.02 | 0.03 | 0.46 | 0.12 | 0.19 | ⋯ |  0.05 | 0.57 | 0.15 | 0.23 |  3.56 | 0.26 | 1.55 |  0.43 |  0.11 |  0.17 |\n",
       "| 2 | 0 | 77 | 0.19 | 0.07 | 0.09 | 0.12 | 0.02 | 0.02 | 0.03 | ⋯ |  0.09 | 0.12 | 0.16 | 0.22 |  3.78 | 1.29 | 1.40 |  0.06 |  0.07 |  0.10 |\n",
       "| 3 | 0 | 72 | 0.07 | 0.02 | 0.03 | 0.05 | 0.06 | 0.10 | 0.14 | ⋯ | -0.03 | 0.02 | 0.02 | 0.04 | 13.29 | 1.61 | 1.43 |  0.03 |  0.05 |  0.07 |\n",
       "| 4 | 0 | 80 | 0.07 | 0.03 | 0.04 | 0.04 | 0.04 | 0.06 | 0.06 | ⋯ | -0.02 | 0.01 | 0.02 | 0.02 |  5.36 | 1.30 | 1.12 | -0.06 | -0.08 | -0.09 |\n",
       "| 5 | 0 | 81 | 0.09 | 0.02 | 0.03 | 0.04 | 0.06 | 0.08 | 0.11 | ⋯ |  0.02 | 0.07 | 0.10 | 0.14 |  7.74 | 1.48 | 1.41 |  0.03 |  0.04 |  0.06 |\n",
       "| 6 | 0 | 70 | 0.24 | 0.07 | 0.14 | 0.22 | 0.10 | 0.18 | 0.29 | ⋯ |  0.10 | 0.06 | 0.11 | 0.18 |  9.82 | 1.82 | 1.60 |  0.06 |  0.11 |  0.18 |\n",
       "\n"
      ],
      "text/plain": [
       "  NO D YR R1   R2   R3   R4   R5   R6   R7   ⋯ R15   R16  R17  R18  R19   R20 \n",
       "1 1  0 78 0.23 0.08 0.02 0.03 0.46 0.12 0.19 ⋯  0.05 0.57 0.15 0.23  3.56 0.26\n",
       "2 2  0 77 0.19 0.07 0.09 0.12 0.02 0.02 0.03 ⋯  0.09 0.12 0.16 0.22  3.78 1.29\n",
       "3 3  0 72 0.07 0.02 0.03 0.05 0.06 0.10 0.14 ⋯ -0.03 0.02 0.02 0.04 13.29 1.61\n",
       "4 4  0 80 0.07 0.03 0.04 0.04 0.04 0.06 0.06 ⋯ -0.02 0.01 0.02 0.02  5.36 1.30\n",
       "5 5  0 81 0.09 0.02 0.03 0.04 0.06 0.08 0.11 ⋯  0.02 0.07 0.10 0.14  7.74 1.48\n",
       "6 6  0 70 0.24 0.07 0.14 0.22 0.10 0.18 0.29 ⋯  0.10 0.06 0.11 0.18  9.82 1.82\n",
       "  R21  R22   R23   R24  \n",
       "1 1.55  0.43  0.11  0.17\n",
       "2 1.40  0.06  0.07  0.10\n",
       "3 1.43  0.03  0.05  0.07\n",
       "4 1.12 -0.06 -0.08 -0.09\n",
       "5 1.41  0.03  0.04  0.06\n",
       "6 1.60  0.06  0.11  0.18"
      ]
     },
     "metadata": {},
     "output_type": "display_data"
    }
   ],
   "source": [
    "df2 <- read.csv(\"Bankruptcy.csv\")\n",
    "tbl4 <- as_tibble(df2)\n",
    "head(tbl4)"
   ]
  },
  {
   "cell_type": "code",
   "execution_count": 7,
   "metadata": {},
   "outputs": [
    {
     "data": {
      "text/html": [
       "<table>\n",
       "<caption>A tibble: 10 × 3</caption>\n",
       "<thead>\n",
       "\t<tr><th scope=col>PatientID</th><th scope=col>Lab_test</th><th scope=col>Result</th></tr>\n",
       "\t<tr><th scope=col>&lt;fct&gt;</th><th scope=col>&lt;fct&gt;</th><th scope=col>&lt;fct&gt;</th></tr>\n",
       "</thead>\n",
       "<tbody>\n",
       "\t<tr><td>123-984/45</td><td>A</td><td>Present</td></tr>\n",
       "\t<tr><td>123-345/34</td><td>A</td><td>Absent </td></tr>\n",
       "\t<tr><td>134-093/43</td><td>A</td><td>Present</td></tr>\n",
       "\t<tr><td>190-032/34</td><td>B</td><td>Present</td></tr>\n",
       "\t<tr><td>190-309/32</td><td>B</td><td>Absent </td></tr>\n",
       "\t<tr><td>234-092/23</td><td>B</td><td>Present</td></tr>\n",
       "\t<tr><td>231-902/21</td><td>B</td><td>Absent </td></tr>\n",
       "\t<tr><td>231-309/21</td><td>A</td><td>Absent </td></tr>\n",
       "\t<tr><td>134-092/34</td><td>B</td><td>Present</td></tr>\n",
       "\t<tr><td>234-984/43</td><td>A</td><td>Present</td></tr>\n",
       "</tbody>\n",
       "</table>\n"
      ],
      "text/latex": [
       "A tibble: 10 × 3\n",
       "\\begin{tabular}{lll}\n",
       " PatientID & Lab\\_test & Result\\\\\n",
       " <fct> & <fct> & <fct>\\\\\n",
       "\\hline\n",
       "\t 123-984/45 & A & Present\\\\\n",
       "\t 123-345/34 & A & Absent \\\\\n",
       "\t 134-093/43 & A & Present\\\\\n",
       "\t 190-032/34 & B & Present\\\\\n",
       "\t 190-309/32 & B & Absent \\\\\n",
       "\t 234-092/23 & B & Present\\\\\n",
       "\t 231-902/21 & B & Absent \\\\\n",
       "\t 231-309/21 & A & Absent \\\\\n",
       "\t 134-092/34 & B & Present\\\\\n",
       "\t 234-984/43 & A & Present\\\\\n",
       "\\end{tabular}\n"
      ],
      "text/markdown": [
       "\n",
       "A tibble: 10 × 3\n",
       "\n",
       "| PatientID &lt;fct&gt; | Lab_test &lt;fct&gt; | Result &lt;fct&gt; |\n",
       "|---|---|---|\n",
       "| 123-984/45 | A | Present |\n",
       "| 123-345/34 | A | Absent  |\n",
       "| 134-093/43 | A | Present |\n",
       "| 190-032/34 | B | Present |\n",
       "| 190-309/32 | B | Absent  |\n",
       "| 234-092/23 | B | Present |\n",
       "| 231-902/21 | B | Absent  |\n",
       "| 231-309/21 | A | Absent  |\n",
       "| 134-092/34 | B | Present |\n",
       "| 234-984/43 | A | Present |\n",
       "\n"
      ],
      "text/plain": [
       "   PatientID  Lab_test Result \n",
       "1  123-984/45 A        Present\n",
       "2  123-345/34 A        Absent \n",
       "3  134-093/43 A        Present\n",
       "4  190-032/34 B        Present\n",
       "5  190-309/32 B        Absent \n",
       "6  234-092/23 B        Present\n",
       "7  231-902/21 B        Absent \n",
       "8  231-309/21 A        Absent \n",
       "9  134-092/34 B        Present\n",
       "10 234-984/43 A        Present"
      ]
     },
     "metadata": {},
     "output_type": "display_data"
    }
   ],
   "source": [
    "df3 <- read.csv(\"comb2.csv\")\n",
    "tbl5 <- as_tibble(df3)\n",
    "tbl5"
   ]
  },
  {
   "cell_type": "code",
   "execution_count": 8,
   "metadata": {},
   "outputs": [
    {
     "data": {
      "text/html": [
       "<table>\n",
       "<caption>A tibble: 10 × 5</caption>\n",
       "<thead>\n",
       "\t<tr><th scope=col>ID1</th><th scope=col>ID2</th><th scope=col>ID3</th><th scope=col>Lab_test</th><th scope=col>Result</th></tr>\n",
       "\t<tr><th scope=col>&lt;chr&gt;</th><th scope=col>&lt;chr&gt;</th><th scope=col>&lt;chr&gt;</th><th scope=col>&lt;fct&gt;</th><th scope=col>&lt;fct&gt;</th></tr>\n",
       "</thead>\n",
       "<tbody>\n",
       "\t<tr><td>123</td><td>984</td><td>45</td><td>A</td><td>Present</td></tr>\n",
       "\t<tr><td>123</td><td>345</td><td>34</td><td>A</td><td>Absent </td></tr>\n",
       "\t<tr><td>134</td><td>093</td><td>43</td><td>A</td><td>Present</td></tr>\n",
       "\t<tr><td>190</td><td>032</td><td>34</td><td>B</td><td>Present</td></tr>\n",
       "\t<tr><td>190</td><td>309</td><td>32</td><td>B</td><td>Absent </td></tr>\n",
       "\t<tr><td>234</td><td>092</td><td>23</td><td>B</td><td>Present</td></tr>\n",
       "\t<tr><td>231</td><td>902</td><td>21</td><td>B</td><td>Absent </td></tr>\n",
       "\t<tr><td>231</td><td>309</td><td>21</td><td>A</td><td>Absent </td></tr>\n",
       "\t<tr><td>134</td><td>092</td><td>34</td><td>B</td><td>Present</td></tr>\n",
       "\t<tr><td>234</td><td>984</td><td>43</td><td>A</td><td>Present</td></tr>\n",
       "</tbody>\n",
       "</table>\n"
      ],
      "text/latex": [
       "A tibble: 10 × 5\n",
       "\\begin{tabular}{lllll}\n",
       " ID1 & ID2 & ID3 & Lab\\_test & Result\\\\\n",
       " <chr> & <chr> & <chr> & <fct> & <fct>\\\\\n",
       "\\hline\n",
       "\t 123 & 984 & 45 & A & Present\\\\\n",
       "\t 123 & 345 & 34 & A & Absent \\\\\n",
       "\t 134 & 093 & 43 & A & Present\\\\\n",
       "\t 190 & 032 & 34 & B & Present\\\\\n",
       "\t 190 & 309 & 32 & B & Absent \\\\\n",
       "\t 234 & 092 & 23 & B & Present\\\\\n",
       "\t 231 & 902 & 21 & B & Absent \\\\\n",
       "\t 231 & 309 & 21 & A & Absent \\\\\n",
       "\t 134 & 092 & 34 & B & Present\\\\\n",
       "\t 234 & 984 & 43 & A & Present\\\\\n",
       "\\end{tabular}\n"
      ],
      "text/markdown": [
       "\n",
       "A tibble: 10 × 5\n",
       "\n",
       "| ID1 &lt;chr&gt; | ID2 &lt;chr&gt; | ID3 &lt;chr&gt; | Lab_test &lt;fct&gt; | Result &lt;fct&gt; |\n",
       "|---|---|---|---|---|\n",
       "| 123 | 984 | 45 | A | Present |\n",
       "| 123 | 345 | 34 | A | Absent  |\n",
       "| 134 | 093 | 43 | A | Present |\n",
       "| 190 | 032 | 34 | B | Present |\n",
       "| 190 | 309 | 32 | B | Absent  |\n",
       "| 234 | 092 | 23 | B | Present |\n",
       "| 231 | 902 | 21 | B | Absent  |\n",
       "| 231 | 309 | 21 | A | Absent  |\n",
       "| 134 | 092 | 34 | B | Present |\n",
       "| 234 | 984 | 43 | A | Present |\n",
       "\n"
      ],
      "text/plain": [
       "   ID1 ID2 ID3 Lab_test Result \n",
       "1  123 984 45  A        Present\n",
       "2  123 345 34  A        Absent \n",
       "3  134 093 43  A        Present\n",
       "4  190 032 34  B        Present\n",
       "5  190 309 32  B        Absent \n",
       "6  234 092 23  B        Present\n",
       "7  231 902 21  B        Absent \n",
       "8  231 309 21  A        Absent \n",
       "9  134 092 34  B        Present\n",
       "10 234 984 43  A        Present"
      ]
     },
     "metadata": {},
     "output_type": "display_data"
    }
   ],
   "source": [
    "tbl6 <- separate(tbl5, col=PatientID, into=c(\"ID1\", \"ID2\", \"ID3\"))\n",
    "tbl6"
   ]
  },
  {
   "cell_type": "code",
   "execution_count": 9,
   "metadata": {},
   "outputs": [
    {
     "data": {
      "text/html": [
       "<table>\n",
       "<caption>A tibble: 10 × 4</caption>\n",
       "<thead>\n",
       "\t<tr><th scope=col>ID</th><th scope=col>ID3</th><th scope=col>Lab_test</th><th scope=col>Result</th></tr>\n",
       "\t<tr><th scope=col>&lt;chr&gt;</th><th scope=col>&lt;chr&gt;</th><th scope=col>&lt;fct&gt;</th><th scope=col>&lt;fct&gt;</th></tr>\n",
       "</thead>\n",
       "<tbody>\n",
       "\t<tr><td>123-984</td><td>45</td><td>A</td><td>Present</td></tr>\n",
       "\t<tr><td>123-345</td><td>34</td><td>A</td><td>Absent </td></tr>\n",
       "\t<tr><td>134-093</td><td>43</td><td>A</td><td>Present</td></tr>\n",
       "\t<tr><td>190-032</td><td>34</td><td>B</td><td>Present</td></tr>\n",
       "\t<tr><td>190-309</td><td>32</td><td>B</td><td>Absent </td></tr>\n",
       "\t<tr><td>234-092</td><td>23</td><td>B</td><td>Present</td></tr>\n",
       "\t<tr><td>231-902</td><td>21</td><td>B</td><td>Absent </td></tr>\n",
       "\t<tr><td>231-309</td><td>21</td><td>A</td><td>Absent </td></tr>\n",
       "\t<tr><td>134-092</td><td>34</td><td>B</td><td>Present</td></tr>\n",
       "\t<tr><td>234-984</td><td>43</td><td>A</td><td>Present</td></tr>\n",
       "</tbody>\n",
       "</table>\n"
      ],
      "text/latex": [
       "A tibble: 10 × 4\n",
       "\\begin{tabular}{llll}\n",
       " ID & ID3 & Lab\\_test & Result\\\\\n",
       " <chr> & <chr> & <fct> & <fct>\\\\\n",
       "\\hline\n",
       "\t 123-984 & 45 & A & Present\\\\\n",
       "\t 123-345 & 34 & A & Absent \\\\\n",
       "\t 134-093 & 43 & A & Present\\\\\n",
       "\t 190-032 & 34 & B & Present\\\\\n",
       "\t 190-309 & 32 & B & Absent \\\\\n",
       "\t 234-092 & 23 & B & Present\\\\\n",
       "\t 231-902 & 21 & B & Absent \\\\\n",
       "\t 231-309 & 21 & A & Absent \\\\\n",
       "\t 134-092 & 34 & B & Present\\\\\n",
       "\t 234-984 & 43 & A & Present\\\\\n",
       "\\end{tabular}\n"
      ],
      "text/markdown": [
       "\n",
       "A tibble: 10 × 4\n",
       "\n",
       "| ID &lt;chr&gt; | ID3 &lt;chr&gt; | Lab_test &lt;fct&gt; | Result &lt;fct&gt; |\n",
       "|---|---|---|---|\n",
       "| 123-984 | 45 | A | Present |\n",
       "| 123-345 | 34 | A | Absent  |\n",
       "| 134-093 | 43 | A | Present |\n",
       "| 190-032 | 34 | B | Present |\n",
       "| 190-309 | 32 | B | Absent  |\n",
       "| 234-092 | 23 | B | Present |\n",
       "| 231-902 | 21 | B | Absent  |\n",
       "| 231-309 | 21 | A | Absent  |\n",
       "| 134-092 | 34 | B | Present |\n",
       "| 234-984 | 43 | A | Present |\n",
       "\n"
      ],
      "text/plain": [
       "   ID      ID3 Lab_test Result \n",
       "1  123-984 45  A        Present\n",
       "2  123-345 34  A        Absent \n",
       "3  134-093 43  A        Present\n",
       "4  190-032 34  B        Present\n",
       "5  190-309 32  B        Absent \n",
       "6  234-092 23  B        Present\n",
       "7  231-902 21  B        Absent \n",
       "8  231-309 21  A        Absent \n",
       "9  134-092 34  B        Present\n",
       "10 234-984 43  A        Present"
      ]
     },
     "metadata": {},
     "output_type": "display_data"
    }
   ],
   "source": [
    "tbl7 <- unite(tbl6, ID, ID1, ID2, sep=\"-\")\n",
    "tbl7"
   ]
  },
  {
   "cell_type": "code",
   "execution_count": 10,
   "metadata": {},
   "outputs": [
    {
     "data": {
      "text/html": [
       "<table>\n",
       "<caption>A tibble: 10 × 3</caption>\n",
       "<thead>\n",
       "\t<tr><th scope=col>ID</th><th scope=col>Lab_test</th><th scope=col>Result</th></tr>\n",
       "\t<tr><th scope=col>&lt;chr&gt;</th><th scope=col>&lt;fct&gt;</th><th scope=col>&lt;fct&gt;</th></tr>\n",
       "</thead>\n",
       "<tbody>\n",
       "\t<tr><td>123-984/45</td><td>A</td><td>Present</td></tr>\n",
       "\t<tr><td>123-345/34</td><td>A</td><td>Absent </td></tr>\n",
       "\t<tr><td>134-093/43</td><td>A</td><td>Present</td></tr>\n",
       "\t<tr><td>190-032/34</td><td>B</td><td>Present</td></tr>\n",
       "\t<tr><td>190-309/32</td><td>B</td><td>Absent </td></tr>\n",
       "\t<tr><td>234-092/23</td><td>B</td><td>Present</td></tr>\n",
       "\t<tr><td>231-902/21</td><td>B</td><td>Absent </td></tr>\n",
       "\t<tr><td>231-309/21</td><td>A</td><td>Absent </td></tr>\n",
       "\t<tr><td>134-092/34</td><td>B</td><td>Present</td></tr>\n",
       "\t<tr><td>234-984/43</td><td>A</td><td>Present</td></tr>\n",
       "</tbody>\n",
       "</table>\n"
      ],
      "text/latex": [
       "A tibble: 10 × 3\n",
       "\\begin{tabular}{lll}\n",
       " ID & Lab\\_test & Result\\\\\n",
       " <chr> & <fct> & <fct>\\\\\n",
       "\\hline\n",
       "\t 123-984/45 & A & Present\\\\\n",
       "\t 123-345/34 & A & Absent \\\\\n",
       "\t 134-093/43 & A & Present\\\\\n",
       "\t 190-032/34 & B & Present\\\\\n",
       "\t 190-309/32 & B & Absent \\\\\n",
       "\t 234-092/23 & B & Present\\\\\n",
       "\t 231-902/21 & B & Absent \\\\\n",
       "\t 231-309/21 & A & Absent \\\\\n",
       "\t 134-092/34 & B & Present\\\\\n",
       "\t 234-984/43 & A & Present\\\\\n",
       "\\end{tabular}\n"
      ],
      "text/markdown": [
       "\n",
       "A tibble: 10 × 3\n",
       "\n",
       "| ID &lt;chr&gt; | Lab_test &lt;fct&gt; | Result &lt;fct&gt; |\n",
       "|---|---|---|\n",
       "| 123-984/45 | A | Present |\n",
       "| 123-345/34 | A | Absent  |\n",
       "| 134-093/43 | A | Present |\n",
       "| 190-032/34 | B | Present |\n",
       "| 190-309/32 | B | Absent  |\n",
       "| 234-092/23 | B | Present |\n",
       "| 231-902/21 | B | Absent  |\n",
       "| 231-309/21 | A | Absent  |\n",
       "| 134-092/34 | B | Present |\n",
       "| 234-984/43 | A | Present |\n",
       "\n"
      ],
      "text/plain": [
       "   ID         Lab_test Result \n",
       "1  123-984/45 A        Present\n",
       "2  123-345/34 A        Absent \n",
       "3  134-093/43 A        Present\n",
       "4  190-032/34 B        Present\n",
       "5  190-309/32 B        Absent \n",
       "6  234-092/23 B        Present\n",
       "7  231-902/21 B        Absent \n",
       "8  231-309/21 A        Absent \n",
       "9  134-092/34 B        Present\n",
       "10 234-984/43 A        Present"
      ]
     },
     "metadata": {},
     "output_type": "display_data"
    }
   ],
   "source": [
    "tbl8 <- unite(tbl7, ID, ID, ID3, sep=\"/\")\n",
    "tbl8"
   ]
  },
  {
   "cell_type": "code",
   "execution_count": 11,
   "metadata": {},
   "outputs": [
    {
     "data": {
      "text/html": [
       "<table>\n",
       "<caption>A tibble: 6 × 10</caption>\n",
       "<thead>\n",
       "\t<tr><th scope=col>Store</th><th scope=col>StoreType</th><th scope=col>Assortment</th><th scope=col>CompetitionDistance</th><th scope=col>CompetitionOpenSinceMonth</th><th scope=col>CompetitionOpenSinceYear</th><th scope=col>Promo2</th><th scope=col>Promo2SinceWeek</th><th scope=col>Promo2SinceYear</th><th scope=col>PromoInterval</th></tr>\n",
       "\t<tr><th scope=col>&lt;int&gt;</th><th scope=col>&lt;fct&gt;</th><th scope=col>&lt;fct&gt;</th><th scope=col>&lt;int&gt;</th><th scope=col>&lt;int&gt;</th><th scope=col>&lt;int&gt;</th><th scope=col>&lt;int&gt;</th><th scope=col>&lt;int&gt;</th><th scope=col>&lt;int&gt;</th><th scope=col>&lt;fct&gt;</th></tr>\n",
       "</thead>\n",
       "<tbody>\n",
       "\t<tr><td>1</td><td>c</td><td>a</td><td> 1270</td><td> 9</td><td>2008</td><td>0</td><td>NA</td><td>  NA</td><td>               </td></tr>\n",
       "\t<tr><td>2</td><td>a</td><td>a</td><td>  570</td><td>11</td><td>2007</td><td>1</td><td>13</td><td>2010</td><td>Jan,Apr,Jul,Oct</td></tr>\n",
       "\t<tr><td>3</td><td>a</td><td>a</td><td>14130</td><td>12</td><td>2006</td><td>1</td><td>14</td><td>2011</td><td>Jan,Apr,Jul,Oct</td></tr>\n",
       "\t<tr><td>4</td><td>c</td><td>c</td><td>  620</td><td> 9</td><td>2009</td><td>0</td><td>NA</td><td>  NA</td><td>               </td></tr>\n",
       "\t<tr><td>5</td><td>a</td><td>a</td><td>29910</td><td> 4</td><td>2015</td><td>0</td><td>NA</td><td>  NA</td><td>               </td></tr>\n",
       "\t<tr><td>6</td><td>a</td><td>a</td><td>  310</td><td>12</td><td>2013</td><td>0</td><td>NA</td><td>  NA</td><td>               </td></tr>\n",
       "</tbody>\n",
       "</table>\n"
      ],
      "text/latex": [
       "A tibble: 6 × 10\n",
       "\\begin{tabular}{llllllllll}\n",
       " Store & StoreType & Assortment & CompetitionDistance & CompetitionOpenSinceMonth & CompetitionOpenSinceYear & Promo2 & Promo2SinceWeek & Promo2SinceYear & PromoInterval\\\\\n",
       " <int> & <fct> & <fct> & <int> & <int> & <int> & <int> & <int> & <int> & <fct>\\\\\n",
       "\\hline\n",
       "\t 1 & c & a &  1270 &  9 & 2008 & 0 & NA &   NA &                \\\\\n",
       "\t 2 & a & a &   570 & 11 & 2007 & 1 & 13 & 2010 & Jan,Apr,Jul,Oct\\\\\n",
       "\t 3 & a & a & 14130 & 12 & 2006 & 1 & 14 & 2011 & Jan,Apr,Jul,Oct\\\\\n",
       "\t 4 & c & c &   620 &  9 & 2009 & 0 & NA &   NA &                \\\\\n",
       "\t 5 & a & a & 29910 &  4 & 2015 & 0 & NA &   NA &                \\\\\n",
       "\t 6 & a & a &   310 & 12 & 2013 & 0 & NA &   NA &                \\\\\n",
       "\\end{tabular}\n"
      ],
      "text/markdown": [
       "\n",
       "A tibble: 6 × 10\n",
       "\n",
       "| Store &lt;int&gt; | StoreType &lt;fct&gt; | Assortment &lt;fct&gt; | CompetitionDistance &lt;int&gt; | CompetitionOpenSinceMonth &lt;int&gt; | CompetitionOpenSinceYear &lt;int&gt; | Promo2 &lt;int&gt; | Promo2SinceWeek &lt;int&gt; | Promo2SinceYear &lt;int&gt; | PromoInterval &lt;fct&gt; |\n",
       "|---|---|---|---|---|---|---|---|---|---|\n",
       "| 1 | c | a |  1270 |  9 | 2008 | 0 | NA |   NA | <!----> |\n",
       "| 2 | a | a |   570 | 11 | 2007 | 1 | 13 | 2010 | Jan,Apr,Jul,Oct |\n",
       "| 3 | a | a | 14130 | 12 | 2006 | 1 | 14 | 2011 | Jan,Apr,Jul,Oct |\n",
       "| 4 | c | c |   620 |  9 | 2009 | 0 | NA |   NA | <!----> |\n",
       "| 5 | a | a | 29910 |  4 | 2015 | 0 | NA |   NA | <!----> |\n",
       "| 6 | a | a |   310 | 12 | 2013 | 0 | NA |   NA | <!----> |\n",
       "\n"
      ],
      "text/plain": [
       "  Store StoreType Assortment CompetitionDistance CompetitionOpenSinceMonth\n",
       "1 1     c         a           1270                9                       \n",
       "2 2     a         a            570               11                       \n",
       "3 3     a         a          14130               12                       \n",
       "4 4     c         c            620                9                       \n",
       "5 5     a         a          29910                4                       \n",
       "6 6     a         a            310               12                       \n",
       "  CompetitionOpenSinceYear Promo2 Promo2SinceWeek Promo2SinceYear\n",
       "1 2008                     0      NA                NA           \n",
       "2 2007                     1      13              2010           \n",
       "3 2006                     1      14              2011           \n",
       "4 2009                     0      NA                NA           \n",
       "5 2015                     0      NA                NA           \n",
       "6 2013                     0      NA                NA           \n",
       "  PromoInterval  \n",
       "1                \n",
       "2 Jan,Apr,Jul,Oct\n",
       "3 Jan,Apr,Jul,Oct\n",
       "4                \n",
       "5                \n",
       "6                "
      ]
     },
     "metadata": {},
     "output_type": "display_data"
    }
   ],
   "source": [
    "df4 <- read.csv(\"store.csv\")\n",
    "tbl9 <- as_tibble(df4)\n",
    "head(tbl9)"
   ]
  },
  {
   "cell_type": "code",
   "execution_count": 12,
   "metadata": {},
   "outputs": [
    {
     "data": {
      "text/html": [
       "<table>\n",
       "<caption>A tibble: 6 × 10</caption>\n",
       "<thead>\n",
       "\t<tr><th scope=col>Store</th><th scope=col>StoreType</th><th scope=col>Assortment</th><th scope=col>CompetitionDistance</th><th scope=col>CompetitionOpenSinceMonth</th><th scope=col>CompetitionOpenSinceYear</th><th scope=col>Promo2</th><th scope=col>Promo2SinceWeek</th><th scope=col>Promo2SinceYear</th><th scope=col>PromoInterval</th></tr>\n",
       "\t<tr><th scope=col>&lt;int&gt;</th><th scope=col>&lt;fct&gt;</th><th scope=col>&lt;fct&gt;</th><th scope=col>&lt;int&gt;</th><th scope=col>&lt;int&gt;</th><th scope=col>&lt;int&gt;</th><th scope=col>&lt;int&gt;</th><th scope=col>&lt;int&gt;</th><th scope=col>&lt;int&gt;</th><th scope=col>&lt;fct&gt;</th></tr>\n",
       "</thead>\n",
       "<tbody>\n",
       "\t<tr><td> 2</td><td>a</td><td>a</td><td>  570</td><td>11</td><td>2007</td><td>1</td><td>13</td><td>2010</td><td>Jan,Apr,Jul,Oct</td></tr>\n",
       "\t<tr><td> 3</td><td>a</td><td>a</td><td>14130</td><td>12</td><td>2006</td><td>1</td><td>14</td><td>2011</td><td>Jan,Apr,Jul,Oct</td></tr>\n",
       "\t<tr><td>11</td><td>a</td><td>c</td><td>  960</td><td>11</td><td>2011</td><td>1</td><td> 1</td><td>2012</td><td>Jan,Apr,Jul,Oct</td></tr>\n",
       "\t<tr><td>14</td><td>a</td><td>a</td><td> 1300</td><td> 3</td><td>2014</td><td>1</td><td>40</td><td>2011</td><td>Jan,Apr,Jul,Oct</td></tr>\n",
       "\t<tr><td>15</td><td>d</td><td>c</td><td> 4110</td><td> 3</td><td>2010</td><td>1</td><td>14</td><td>2011</td><td>Jan,Apr,Jul,Oct</td></tr>\n",
       "\t<tr><td>17</td><td>a</td><td>a</td><td>   50</td><td>12</td><td>2005</td><td>1</td><td>26</td><td>2010</td><td>Jan,Apr,Jul,Oct</td></tr>\n",
       "</tbody>\n",
       "</table>\n"
      ],
      "text/latex": [
       "A tibble: 6 × 10\n",
       "\\begin{tabular}{llllllllll}\n",
       " Store & StoreType & Assortment & CompetitionDistance & CompetitionOpenSinceMonth & CompetitionOpenSinceYear & Promo2 & Promo2SinceWeek & Promo2SinceYear & PromoInterval\\\\\n",
       " <int> & <fct> & <fct> & <int> & <int> & <int> & <int> & <int> & <int> & <fct>\\\\\n",
       "\\hline\n",
       "\t  2 & a & a &   570 & 11 & 2007 & 1 & 13 & 2010 & Jan,Apr,Jul,Oct\\\\\n",
       "\t  3 & a & a & 14130 & 12 & 2006 & 1 & 14 & 2011 & Jan,Apr,Jul,Oct\\\\\n",
       "\t 11 & a & c &   960 & 11 & 2011 & 1 &  1 & 2012 & Jan,Apr,Jul,Oct\\\\\n",
       "\t 14 & a & a &  1300 &  3 & 2014 & 1 & 40 & 2011 & Jan,Apr,Jul,Oct\\\\\n",
       "\t 15 & d & c &  4110 &  3 & 2010 & 1 & 14 & 2011 & Jan,Apr,Jul,Oct\\\\\n",
       "\t 17 & a & a &    50 & 12 & 2005 & 1 & 26 & 2010 & Jan,Apr,Jul,Oct\\\\\n",
       "\\end{tabular}\n"
      ],
      "text/markdown": [
       "\n",
       "A tibble: 6 × 10\n",
       "\n",
       "| Store &lt;int&gt; | StoreType &lt;fct&gt; | Assortment &lt;fct&gt; | CompetitionDistance &lt;int&gt; | CompetitionOpenSinceMonth &lt;int&gt; | CompetitionOpenSinceYear &lt;int&gt; | Promo2 &lt;int&gt; | Promo2SinceWeek &lt;int&gt; | Promo2SinceYear &lt;int&gt; | PromoInterval &lt;fct&gt; |\n",
       "|---|---|---|---|---|---|---|---|---|---|\n",
       "|  2 | a | a |   570 | 11 | 2007 | 1 | 13 | 2010 | Jan,Apr,Jul,Oct |\n",
       "|  3 | a | a | 14130 | 12 | 2006 | 1 | 14 | 2011 | Jan,Apr,Jul,Oct |\n",
       "| 11 | a | c |   960 | 11 | 2011 | 1 |  1 | 2012 | Jan,Apr,Jul,Oct |\n",
       "| 14 | a | a |  1300 |  3 | 2014 | 1 | 40 | 2011 | Jan,Apr,Jul,Oct |\n",
       "| 15 | d | c |  4110 |  3 | 2010 | 1 | 14 | 2011 | Jan,Apr,Jul,Oct |\n",
       "| 17 | a | a |    50 | 12 | 2005 | 1 | 26 | 2010 | Jan,Apr,Jul,Oct |\n",
       "\n"
      ],
      "text/plain": [
       "  Store StoreType Assortment CompetitionDistance CompetitionOpenSinceMonth\n",
       "1  2    a         a            570               11                       \n",
       "2  3    a         a          14130               12                       \n",
       "3 11    a         c            960               11                       \n",
       "4 14    a         a           1300                3                       \n",
       "5 15    d         c           4110                3                       \n",
       "6 17    a         a             50               12                       \n",
       "  CompetitionOpenSinceYear Promo2 Promo2SinceWeek Promo2SinceYear\n",
       "1 2007                     1      13              2010           \n",
       "2 2006                     1      14              2011           \n",
       "3 2011                     1       1              2012           \n",
       "4 2014                     1      40              2011           \n",
       "5 2010                     1      14              2011           \n",
       "6 2005                     1      26              2010           \n",
       "  PromoInterval  \n",
       "1 Jan,Apr,Jul,Oct\n",
       "2 Jan,Apr,Jul,Oct\n",
       "3 Jan,Apr,Jul,Oct\n",
       "4 Jan,Apr,Jul,Oct\n",
       "5 Jan,Apr,Jul,Oct\n",
       "6 Jan,Apr,Jul,Oct"
      ]
     },
     "metadata": {},
     "output_type": "display_data"
    }
   ],
   "source": [
    "tbl10 <- tbl9 %>% drop_na()\n",
    "head(tbl10)"
   ]
  },
  {
   "cell_type": "code",
   "execution_count": 14,
   "metadata": {},
   "outputs": [
    {
     "data": {
      "text/html": [
       "<table>\n",
       "<caption>A data.frame: 12 × 2</caption>\n",
       "<thead>\n",
       "\t<tr><th scope=col>Month</th><th scope=col>Year</th></tr>\n",
       "\t<tr><th scope=col>&lt;int&gt;</th><th scope=col>&lt;dbl&gt;</th></tr>\n",
       "</thead>\n",
       "<tbody>\n",
       "\t<tr><td> 1</td><td>2000</td></tr>\n",
       "\t<tr><td> 2</td><td>  NA</td></tr>\n",
       "\t<tr><td> 3</td><td>  NA</td></tr>\n",
       "\t<tr><td> 4</td><td>  NA</td></tr>\n",
       "\t<tr><td> 5</td><td>  NA</td></tr>\n",
       "\t<tr><td> 6</td><td>  NA</td></tr>\n",
       "\t<tr><td> 7</td><td>  NA</td></tr>\n",
       "\t<tr><td> 8</td><td>  NA</td></tr>\n",
       "\t<tr><td> 9</td><td>  NA</td></tr>\n",
       "\t<tr><td>10</td><td>  NA</td></tr>\n",
       "\t<tr><td>11</td><td>  NA</td></tr>\n",
       "\t<tr><td>12</td><td>  NA</td></tr>\n",
       "</tbody>\n",
       "</table>\n"
      ],
      "text/latex": [
       "A data.frame: 12 × 2\n",
       "\\begin{tabular}{ll}\n",
       " Month & Year\\\\\n",
       " <int> & <dbl>\\\\\n",
       "\\hline\n",
       "\t  1 & 2000\\\\\n",
       "\t  2 &   NA\\\\\n",
       "\t  3 &   NA\\\\\n",
       "\t  4 &   NA\\\\\n",
       "\t  5 &   NA\\\\\n",
       "\t  6 &   NA\\\\\n",
       "\t  7 &   NA\\\\\n",
       "\t  8 &   NA\\\\\n",
       "\t  9 &   NA\\\\\n",
       "\t 10 &   NA\\\\\n",
       "\t 11 &   NA\\\\\n",
       "\t 12 &   NA\\\\\n",
       "\\end{tabular}\n"
      ],
      "text/markdown": [
       "\n",
       "A data.frame: 12 × 2\n",
       "\n",
       "| Month &lt;int&gt; | Year &lt;dbl&gt; |\n",
       "|---|---|\n",
       "|  1 | 2000 |\n",
       "|  2 |   NA |\n",
       "|  3 |   NA |\n",
       "|  4 |   NA |\n",
       "|  5 |   NA |\n",
       "|  6 |   NA |\n",
       "|  7 |   NA |\n",
       "|  8 |   NA |\n",
       "|  9 |   NA |\n",
       "| 10 |   NA |\n",
       "| 11 |   NA |\n",
       "| 12 |   NA |\n",
       "\n"
      ],
      "text/plain": [
       "   Month Year\n",
       "1   1    2000\n",
       "2   2      NA\n",
       "3   3      NA\n",
       "4   4      NA\n",
       "5   5      NA\n",
       "6   6      NA\n",
       "7   7      NA\n",
       "8   8      NA\n",
       "9   9      NA\n",
       "10 10      NA\n",
       "11 11      NA\n",
       "12 12      NA"
      ]
     },
     "metadata": {},
     "output_type": "display_data"
    },
    {
     "data": {
      "text/html": [
       "<table>\n",
       "<caption>A data.frame: 12 × 2</caption>\n",
       "<thead>\n",
       "\t<tr><th scope=col>Month</th><th scope=col>Year</th></tr>\n",
       "\t<tr><th scope=col>&lt;int&gt;</th><th scope=col>&lt;dbl&gt;</th></tr>\n",
       "</thead>\n",
       "<tbody>\n",
       "\t<tr><td> 1</td><td>2000</td></tr>\n",
       "\t<tr><td> 2</td><td>2000</td></tr>\n",
       "\t<tr><td> 3</td><td>2000</td></tr>\n",
       "\t<tr><td> 4</td><td>2000</td></tr>\n",
       "\t<tr><td> 5</td><td>2000</td></tr>\n",
       "\t<tr><td> 6</td><td>2000</td></tr>\n",
       "\t<tr><td> 7</td><td>2000</td></tr>\n",
       "\t<tr><td> 8</td><td>2000</td></tr>\n",
       "\t<tr><td> 9</td><td>2000</td></tr>\n",
       "\t<tr><td>10</td><td>2000</td></tr>\n",
       "\t<tr><td>11</td><td>2000</td></tr>\n",
       "\t<tr><td>12</td><td>2000</td></tr>\n",
       "</tbody>\n",
       "</table>\n"
      ],
      "text/latex": [
       "A data.frame: 12 × 2\n",
       "\\begin{tabular}{ll}\n",
       " Month & Year\\\\\n",
       " <int> & <dbl>\\\\\n",
       "\\hline\n",
       "\t  1 & 2000\\\\\n",
       "\t  2 & 2000\\\\\n",
       "\t  3 & 2000\\\\\n",
       "\t  4 & 2000\\\\\n",
       "\t  5 & 2000\\\\\n",
       "\t  6 & 2000\\\\\n",
       "\t  7 & 2000\\\\\n",
       "\t  8 & 2000\\\\\n",
       "\t  9 & 2000\\\\\n",
       "\t 10 & 2000\\\\\n",
       "\t 11 & 2000\\\\\n",
       "\t 12 & 2000\\\\\n",
       "\\end{tabular}\n"
      ],
      "text/markdown": [
       "\n",
       "A data.frame: 12 × 2\n",
       "\n",
       "| Month &lt;int&gt; | Year &lt;dbl&gt; |\n",
       "|---|---|\n",
       "|  1 | 2000 |\n",
       "|  2 | 2000 |\n",
       "|  3 | 2000 |\n",
       "|  4 | 2000 |\n",
       "|  5 | 2000 |\n",
       "|  6 | 2000 |\n",
       "|  7 | 2000 |\n",
       "|  8 | 2000 |\n",
       "|  9 | 2000 |\n",
       "| 10 | 2000 |\n",
       "| 11 | 2000 |\n",
       "| 12 | 2000 |\n",
       "\n"
      ],
      "text/plain": [
       "   Month Year\n",
       "1   1    2000\n",
       "2   2    2000\n",
       "3   3    2000\n",
       "4   4    2000\n",
       "5   5    2000\n",
       "6   6    2000\n",
       "7   7    2000\n",
       "8   8    2000\n",
       "9   9    2000\n",
       "10 10    2000\n",
       "11 11    2000\n",
       "12 12    2000"
      ]
     },
     "metadata": {},
     "output_type": "display_data"
    }
   ],
   "source": [
    "df <- data.frame(Month = 1:12, Year = c(2000, rep(NA, 11)))\n",
    "df\n",
    "df %>% fill(Year)"
   ]
  }
 ],
 "metadata": {
  "kernelspec": {
   "display_name": "R",
   "language": "R",
   "name": "ir"
  },
  "language_info": {
   "codemirror_mode": "r",
   "file_extension": ".r",
   "mimetype": "text/x-r-source",
   "name": "R",
   "pygments_lexer": "r",
   "version": "3.6.2"
  }
 },
 "nbformat": 4,
 "nbformat_minor": 2
}
