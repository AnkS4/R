{
 "cells": [
  {
   "cell_type": "code",
   "execution_count": 2,
   "metadata": {},
   "outputs": [],
   "source": [
    "df <- read.csv(\"comb1.csv\")"
   ]
  },
  {
   "cell_type": "code",
   "execution_count": 3,
   "metadata": {},
   "outputs": [
    {
     "data": {
      "text/html": [
       "<style>\n",
       ".list-inline {list-style: none; margin:0; padding: 0}\n",
       ".list-inline>li {display: inline-block}\n",
       ".list-inline>li:not(:last-child)::after {content: \"\\00b7\"; padding: 0 .5ex}\n",
       "</style>\n",
       "<ol class=list-inline><li>19</li><li>5</li></ol>\n"
      ],
      "text/latex": [
       "\\begin{enumerate*}\n",
       "\\item 19\n",
       "\\item 5\n",
       "\\end{enumerate*}\n"
      ],
      "text/markdown": [
       "1. 19\n",
       "2. 5\n",
       "\n",
       "\n"
      ],
      "text/plain": [
       "[1] 19  5"
      ]
     },
     "metadata": {},
     "output_type": "display_data"
    }
   ],
   "source": [
    "dim(df)"
   ]
  },
  {
   "cell_type": "code",
   "execution_count": 4,
   "metadata": {},
   "outputs": [
    {
     "data": {
      "text/html": [
       "<table>\n",
       "<caption>A data.frame: 19 × 5</caption>\n",
       "<thead>\n",
       "\t<tr><th scope=col>District</th><th scope=col>Highlighter</th><th scope=col>Marker</th><th scope=col>Pen</th><th scope=col>Refill</th></tr>\n",
       "\t<tr><th scope=col>&lt;fct&gt;</th><th scope=col>&lt;int&gt;</th><th scope=col>&lt;int&gt;</th><th scope=col>&lt;int&gt;</th><th scope=col>&lt;int&gt;</th></tr>\n",
       "</thead>\n",
       "<tbody>\n",
       "\t<tr><td>Ahmednagar </td><td>225</td><td> 51</td><td> 674</td><td> 69</td></tr>\n",
       "\t<tr><td>Aurangabad </td><td>162</td><td>159</td><td> 755</td><td> 50</td></tr>\n",
       "\t<tr><td>Buldhana   </td><td> 30</td><td> 32</td><td> 616</td><td> 38</td></tr>\n",
       "\t<tr><td>Dhule      </td><td>193</td><td>390</td><td> 553</td><td> 40</td></tr>\n",
       "\t<tr><td>Goa        </td><td> 81</td><td>243</td><td> 518</td><td> NA</td></tr>\n",
       "\t<tr><td>Kolhapur   </td><td>108</td><td>118</td><td> 352</td><td> NA</td></tr>\n",
       "\t<tr><td>Mumbai     </td><td>119</td><td>160</td><td> 391</td><td> 29</td></tr>\n",
       "\t<tr><td>Nadurbar   </td><td>162</td><td>281</td><td> 386</td><td>156</td></tr>\n",
       "\t<tr><td>Nagpur     </td><td>107</td><td>121</td><td> 280</td><td> 33</td></tr>\n",
       "\t<tr><td>Nanded     </td><td>111</td><td>240</td><td> 761</td><td> 28</td></tr>\n",
       "\t<tr><td>Nasik      </td><td>152</td><td>239</td><td> 619</td><td> 65</td></tr>\n",
       "\t<tr><td>Pune       </td><td>154</td><td>309</td><td> 768</td><td>122</td></tr>\n",
       "\t<tr><td>Raigad     </td><td>174</td><td>436</td><td> 545</td><td> 40</td></tr>\n",
       "\t<tr><td>Ratnagiri  </td><td>326</td><td>398</td><td>1504</td><td> 74</td></tr>\n",
       "\t<tr><td>Sangli     </td><td>121</td><td>110</td><td> 221</td><td> 47</td></tr>\n",
       "\t<tr><td>Satara     </td><td> 72</td><td>156</td><td> 373</td><td> NA</td></tr>\n",
       "\t<tr><td>Sindhudurga</td><td> 75</td><td>217</td><td>1253</td><td> 77</td></tr>\n",
       "\t<tr><td>Solapur    </td><td>164</td><td>160</td><td> 391</td><td> 15</td></tr>\n",
       "\t<tr><td>Thane      </td><td>224</td><td>246</td><td> 733</td><td> 58</td></tr>\n",
       "</tbody>\n",
       "</table>\n"
      ],
      "text/latex": [
       "A data.frame: 19 × 5\n",
       "\\begin{tabular}{lllll}\n",
       " District & Highlighter & Marker & Pen & Refill\\\\\n",
       " <fct> & <int> & <int> & <int> & <int>\\\\\n",
       "\\hline\n",
       "\t Ahmednagar  & 225 &  51 &  674 &  69\\\\\n",
       "\t Aurangabad  & 162 & 159 &  755 &  50\\\\\n",
       "\t Buldhana    &  30 &  32 &  616 &  38\\\\\n",
       "\t Dhule       & 193 & 390 &  553 &  40\\\\\n",
       "\t Goa         &  81 & 243 &  518 &  NA\\\\\n",
       "\t Kolhapur    & 108 & 118 &  352 &  NA\\\\\n",
       "\t Mumbai      & 119 & 160 &  391 &  29\\\\\n",
       "\t Nadurbar    & 162 & 281 &  386 & 156\\\\\n",
       "\t Nagpur      & 107 & 121 &  280 &  33\\\\\n",
       "\t Nanded      & 111 & 240 &  761 &  28\\\\\n",
       "\t Nasik       & 152 & 239 &  619 &  65\\\\\n",
       "\t Pune        & 154 & 309 &  768 & 122\\\\\n",
       "\t Raigad      & 174 & 436 &  545 &  40\\\\\n",
       "\t Ratnagiri   & 326 & 398 & 1504 &  74\\\\\n",
       "\t Sangli      & 121 & 110 &  221 &  47\\\\\n",
       "\t Satara      &  72 & 156 &  373 &  NA\\\\\n",
       "\t Sindhudurga &  75 & 217 & 1253 &  77\\\\\n",
       "\t Solapur     & 164 & 160 &  391 &  15\\\\\n",
       "\t Thane       & 224 & 246 &  733 &  58\\\\\n",
       "\\end{tabular}\n"
      ],
      "text/markdown": [
       "\n",
       "A data.frame: 19 × 5\n",
       "\n",
       "| District &lt;fct&gt; | Highlighter &lt;int&gt; | Marker &lt;int&gt; | Pen &lt;int&gt; | Refill &lt;int&gt; |\n",
       "|---|---|---|---|---|\n",
       "| Ahmednagar  | 225 |  51 |  674 |  69 |\n",
       "| Aurangabad  | 162 | 159 |  755 |  50 |\n",
       "| Buldhana    |  30 |  32 |  616 |  38 |\n",
       "| Dhule       | 193 | 390 |  553 |  40 |\n",
       "| Goa         |  81 | 243 |  518 |  NA |\n",
       "| Kolhapur    | 108 | 118 |  352 |  NA |\n",
       "| Mumbai      | 119 | 160 |  391 |  29 |\n",
       "| Nadurbar    | 162 | 281 |  386 | 156 |\n",
       "| Nagpur      | 107 | 121 |  280 |  33 |\n",
       "| Nanded      | 111 | 240 |  761 |  28 |\n",
       "| Nasik       | 152 | 239 |  619 |  65 |\n",
       "| Pune        | 154 | 309 |  768 | 122 |\n",
       "| Raigad      | 174 | 436 |  545 |  40 |\n",
       "| Ratnagiri   | 326 | 398 | 1504 |  74 |\n",
       "| Sangli      | 121 | 110 |  221 |  47 |\n",
       "| Satara      |  72 | 156 |  373 |  NA |\n",
       "| Sindhudurga |  75 | 217 | 1253 |  77 |\n",
       "| Solapur     | 164 | 160 |  391 |  15 |\n",
       "| Thane       | 224 | 246 |  733 |  58 |\n",
       "\n"
      ],
      "text/plain": [
       "   District    Highlighter Marker Pen  Refill\n",
       "1  Ahmednagar  225          51     674  69   \n",
       "2  Aurangabad  162         159     755  50   \n",
       "3  Buldhana     30          32     616  38   \n",
       "4  Dhule       193         390     553  40   \n",
       "5  Goa          81         243     518  NA   \n",
       "6  Kolhapur    108         118     352  NA   \n",
       "7  Mumbai      119         160     391  29   \n",
       "8  Nadurbar    162         281     386 156   \n",
       "9  Nagpur      107         121     280  33   \n",
       "10 Nanded      111         240     761  28   \n",
       "11 Nasik       152         239     619  65   \n",
       "12 Pune        154         309     768 122   \n",
       "13 Raigad      174         436     545  40   \n",
       "14 Ratnagiri   326         398    1504  74   \n",
       "15 Sangli      121         110     221  47   \n",
       "16 Satara       72         156     373  NA   \n",
       "17 Sindhudurga  75         217    1253  77   \n",
       "18 Solapur     164         160     391  15   \n",
       "19 Thane       224         246     733  58   "
      ]
     },
     "metadata": {},
     "output_type": "display_data"
    }
   ],
   "source": [
    "df"
   ]
  },
  {
   "cell_type": "code",
   "execution_count": 6,
   "metadata": {},
   "outputs": [
    {
     "data": {
      "text/html": [
       "Ahmednagar\n",
       "<details>\n",
       "\t<summary style=display:list-item;cursor:pointer>\n",
       "\t\t<strong>Levels</strong>:\n",
       "\t</summary>\n",
       "\t<style>\n",
       "\t.list-inline {list-style: none; margin:0; padding: 0}\n",
       "\t.list-inline>li {display: inline-block}\n",
       "\t.list-inline>li:not(:last-child)::after {content: \"\\00b7\"; padding: 0 .5ex}\n",
       "\t</style>\n",
       "\t<ol class=list-inline><li>'Ahmednagar'</li><li>'Aurangabad'</li><li>'Buldhana'</li><li>'Dhule'</li><li>'Goa'</li><li>'Kolhapur'</li><li>'Mumbai'</li><li>'Nadurbar'</li><li>'Nagpur'</li><li>'Nanded'</li><li>'Nasik'</li><li>'Pune'</li><li>'Raigad'</li><li>'Ratnagiri'</li><li>'Sangli'</li><li>'Satara'</li><li>'Sindhudurga'</li><li>'Solapur'</li><li>'Thane'</li></ol>\n",
       "</details>"
      ],
      "text/latex": [
       "Ahmednagar\n",
       "\\emph{Levels}: \\begin{enumerate*}\n",
       "\\item 'Ahmednagar'\n",
       "\\item 'Aurangabad'\n",
       "\\item 'Buldhana'\n",
       "\\item 'Dhule'\n",
       "\\item 'Goa'\n",
       "\\item 'Kolhapur'\n",
       "\\item 'Mumbai'\n",
       "\\item 'Nadurbar'\n",
       "\\item 'Nagpur'\n",
       "\\item 'Nanded'\n",
       "\\item 'Nasik'\n",
       "\\item 'Pune'\n",
       "\\item 'Raigad'\n",
       "\\item 'Ratnagiri'\n",
       "\\item 'Sangli'\n",
       "\\item 'Satara'\n",
       "\\item 'Sindhudurga'\n",
       "\\item 'Solapur'\n",
       "\\item 'Thane'\n",
       "\\end{enumerate*}\n"
      ],
      "text/markdown": [
       "Ahmednagar\n",
       "**Levels**: 1. 'Ahmednagar'\n",
       "2. 'Aurangabad'\n",
       "3. 'Buldhana'\n",
       "4. 'Dhule'\n",
       "5. 'Goa'\n",
       "6. 'Kolhapur'\n",
       "7. 'Mumbai'\n",
       "8. 'Nadurbar'\n",
       "9. 'Nagpur'\n",
       "10. 'Nanded'\n",
       "11. 'Nasik'\n",
       "12. 'Pune'\n",
       "13. 'Raigad'\n",
       "14. 'Ratnagiri'\n",
       "15. 'Sangli'\n",
       "16. 'Satara'\n",
       "17. 'Sindhudurga'\n",
       "18. 'Solapur'\n",
       "19. 'Thane'\n",
       "\n",
       "\n"
      ],
      "text/plain": [
       "[1] Ahmednagar\n",
       "19 Levels: Ahmednagar Aurangabad Buldhana Dhule Goa Kolhapur ... Thane"
      ]
     },
     "metadata": {},
     "output_type": "display_data"
    }
   ],
   "source": [
    "df[1,1]"
   ]
  },
  {
   "cell_type": "code",
   "execution_count": 7,
   "metadata": {},
   "outputs": [
    {
     "data": {
      "text/html": [
       "'factor'"
      ],
      "text/latex": [
       "'factor'"
      ],
      "text/markdown": [
       "'factor'"
      ],
      "text/plain": [
       "[1] \"factor\""
      ]
     },
     "metadata": {},
     "output_type": "display_data"
    }
   ],
   "source": [
    "class(df[1,1])"
   ]
  },
  {
   "cell_type": "code",
   "execution_count": 8,
   "metadata": {},
   "outputs": [
    {
     "data": {
      "text/html": [
       "<table>\n",
       "<caption>A data.frame: 1 × 5</caption>\n",
       "<thead>\n",
       "\t<tr><th></th><th scope=col>District</th><th scope=col>Highlighter</th><th scope=col>Marker</th><th scope=col>Pen</th><th scope=col>Refill</th></tr>\n",
       "\t<tr><th></th><th scope=col>&lt;fct&gt;</th><th scope=col>&lt;int&gt;</th><th scope=col>&lt;int&gt;</th><th scope=col>&lt;int&gt;</th><th scope=col>&lt;int&gt;</th></tr>\n",
       "</thead>\n",
       "<tbody>\n",
       "\t<tr><th scope=row>1</th><td>Ahmednagar</td><td>225</td><td>51</td><td>674</td><td>69</td></tr>\n",
       "</tbody>\n",
       "</table>\n"
      ],
      "text/latex": [
       "A data.frame: 1 × 5\n",
       "\\begin{tabular}{r|lllll}\n",
       "  & District & Highlighter & Marker & Pen & Refill\\\\\n",
       "  & <fct> & <int> & <int> & <int> & <int>\\\\\n",
       "\\hline\n",
       "\t1 & Ahmednagar & 225 & 51 & 674 & 69\\\\\n",
       "\\end{tabular}\n"
      ],
      "text/markdown": [
       "\n",
       "A data.frame: 1 × 5\n",
       "\n",
       "| <!--/--> | District &lt;fct&gt; | Highlighter &lt;int&gt; | Marker &lt;int&gt; | Pen &lt;int&gt; | Refill &lt;int&gt; |\n",
       "|---|---|---|---|---|---|\n",
       "| 1 | Ahmednagar | 225 | 51 | 674 | 69 |\n",
       "\n"
      ],
      "text/plain": [
       "  District   Highlighter Marker Pen Refill\n",
       "1 Ahmednagar 225         51     674 69    "
      ]
     },
     "metadata": {},
     "output_type": "display_data"
    }
   ],
   "source": [
    "df[1,]"
   ]
  },
  {
   "cell_type": "code",
   "execution_count": 9,
   "metadata": {},
   "outputs": [
    {
     "data": {
      "text/html": [
       "<style>\n",
       ".list-inline {list-style: none; margin:0; padding: 0}\n",
       ".list-inline>li {display: inline-block}\n",
       ".list-inline>li:not(:last-child)::after {content: \"\\00b7\"; padding: 0 .5ex}\n",
       "</style>\n",
       "<ol class=list-inline><li>Ahmednagar</li><li>Aurangabad</li><li>Buldhana</li><li>Dhule</li><li>Goa</li><li>Kolhapur</li><li>Mumbai</li><li>Nadurbar</li><li>Nagpur</li><li>Nanded</li><li>Nasik</li><li>Pune</li><li>Raigad</li><li>Ratnagiri</li><li>Sangli</li><li>Satara</li><li>Sindhudurga</li><li>Solapur</li><li>Thane</li></ol>\n",
       "\n",
       "<details>\n",
       "\t<summary style=display:list-item;cursor:pointer>\n",
       "\t\t<strong>Levels</strong>:\n",
       "\t</summary>\n",
       "\t<style>\n",
       "\t.list-inline {list-style: none; margin:0; padding: 0}\n",
       "\t.list-inline>li {display: inline-block}\n",
       "\t.list-inline>li:not(:last-child)::after {content: \"\\00b7\"; padding: 0 .5ex}\n",
       "\t</style>\n",
       "\t<ol class=list-inline><li>'Ahmednagar'</li><li>'Aurangabad'</li><li>'Buldhana'</li><li>'Dhule'</li><li>'Goa'</li><li>'Kolhapur'</li><li>'Mumbai'</li><li>'Nadurbar'</li><li>'Nagpur'</li><li>'Nanded'</li><li>'Nasik'</li><li>'Pune'</li><li>'Raigad'</li><li>'Ratnagiri'</li><li>'Sangli'</li><li>'Satara'</li><li>'Sindhudurga'</li><li>'Solapur'</li><li>'Thane'</li></ol>\n",
       "</details>"
      ],
      "text/latex": [
       "\\begin{enumerate*}\n",
       "\\item Ahmednagar\n",
       "\\item Aurangabad\n",
       "\\item Buldhana\n",
       "\\item Dhule\n",
       "\\item Goa\n",
       "\\item Kolhapur\n",
       "\\item Mumbai\n",
       "\\item Nadurbar\n",
       "\\item Nagpur\n",
       "\\item Nanded\n",
       "\\item Nasik\n",
       "\\item Pune\n",
       "\\item Raigad\n",
       "\\item Ratnagiri\n",
       "\\item Sangli\n",
       "\\item Satara\n",
       "\\item Sindhudurga\n",
       "\\item Solapur\n",
       "\\item Thane\n",
       "\\end{enumerate*}\n",
       "\n",
       "\\emph{Levels}: \\begin{enumerate*}\n",
       "\\item 'Ahmednagar'\n",
       "\\item 'Aurangabad'\n",
       "\\item 'Buldhana'\n",
       "\\item 'Dhule'\n",
       "\\item 'Goa'\n",
       "\\item 'Kolhapur'\n",
       "\\item 'Mumbai'\n",
       "\\item 'Nadurbar'\n",
       "\\item 'Nagpur'\n",
       "\\item 'Nanded'\n",
       "\\item 'Nasik'\n",
       "\\item 'Pune'\n",
       "\\item 'Raigad'\n",
       "\\item 'Ratnagiri'\n",
       "\\item 'Sangli'\n",
       "\\item 'Satara'\n",
       "\\item 'Sindhudurga'\n",
       "\\item 'Solapur'\n",
       "\\item 'Thane'\n",
       "\\end{enumerate*}\n"
      ],
      "text/markdown": [
       "1. Ahmednagar\n",
       "2. Aurangabad\n",
       "3. Buldhana\n",
       "4. Dhule\n",
       "5. Goa\n",
       "6. Kolhapur\n",
       "7. Mumbai\n",
       "8. Nadurbar\n",
       "9. Nagpur\n",
       "10. Nanded\n",
       "11. Nasik\n",
       "12. Pune\n",
       "13. Raigad\n",
       "14. Ratnagiri\n",
       "15. Sangli\n",
       "16. Satara\n",
       "17. Sindhudurga\n",
       "18. Solapur\n",
       "19. Thane\n",
       "\n",
       "\n",
       "\n",
       "**Levels**: 1. 'Ahmednagar'\n",
       "2. 'Aurangabad'\n",
       "3. 'Buldhana'\n",
       "4. 'Dhule'\n",
       "5. 'Goa'\n",
       "6. 'Kolhapur'\n",
       "7. 'Mumbai'\n",
       "8. 'Nadurbar'\n",
       "9. 'Nagpur'\n",
       "10. 'Nanded'\n",
       "11. 'Nasik'\n",
       "12. 'Pune'\n",
       "13. 'Raigad'\n",
       "14. 'Ratnagiri'\n",
       "15. 'Sangli'\n",
       "16. 'Satara'\n",
       "17. 'Sindhudurga'\n",
       "18. 'Solapur'\n",
       "19. 'Thane'\n",
       "\n",
       "\n"
      ],
      "text/plain": [
       " [1] Ahmednagar  Aurangabad  Buldhana    Dhule       Goa         Kolhapur   \n",
       " [7] Mumbai      Nadurbar    Nagpur      Nanded      Nasik       Pune       \n",
       "[13] Raigad      Ratnagiri   Sangli      Satara      Sindhudurga Solapur    \n",
       "[19] Thane      \n",
       "19 Levels: Ahmednagar Aurangabad Buldhana Dhule Goa Kolhapur ... Thane"
      ]
     },
     "metadata": {},
     "output_type": "display_data"
    }
   ],
   "source": [
    "df[,1]"
   ]
  },
  {
   "cell_type": "code",
   "execution_count": 10,
   "metadata": {},
   "outputs": [
    {
     "data": {
      "text/html": [
       "<style>\n",
       ".list-inline {list-style: none; margin:0; padding: 0}\n",
       ".list-inline>li {display: inline-block}\n",
       ".list-inline>li:not(:last-child)::after {content: \"\\00b7\"; padding: 0 .5ex}\n",
       "</style>\n",
       "<ol class=list-inline><li>TRUE</li><li>TRUE</li><li>FALSE</li><li>TRUE</li><li>FALSE</li><li>FALSE</li><li>FALSE</li><li>TRUE</li><li>FALSE</li><li>FALSE</li><li>TRUE</li><li>TRUE</li><li>TRUE</li><li>TRUE</li><li>FALSE</li><li>FALSE</li><li>FALSE</li><li>TRUE</li><li>TRUE</li></ol>\n"
      ],
      "text/latex": [
       "\\begin{enumerate*}\n",
       "\\item TRUE\n",
       "\\item TRUE\n",
       "\\item FALSE\n",
       "\\item TRUE\n",
       "\\item FALSE\n",
       "\\item FALSE\n",
       "\\item FALSE\n",
       "\\item TRUE\n",
       "\\item FALSE\n",
       "\\item FALSE\n",
       "\\item TRUE\n",
       "\\item TRUE\n",
       "\\item TRUE\n",
       "\\item TRUE\n",
       "\\item FALSE\n",
       "\\item FALSE\n",
       "\\item FALSE\n",
       "\\item TRUE\n",
       "\\item TRUE\n",
       "\\end{enumerate*}\n"
      ],
      "text/markdown": [
       "1. TRUE\n",
       "2. TRUE\n",
       "3. FALSE\n",
       "4. TRUE\n",
       "5. FALSE\n",
       "6. FALSE\n",
       "7. FALSE\n",
       "8. TRUE\n",
       "9. FALSE\n",
       "10. FALSE\n",
       "11. TRUE\n",
       "12. TRUE\n",
       "13. TRUE\n",
       "14. TRUE\n",
       "15. FALSE\n",
       "16. FALSE\n",
       "17. FALSE\n",
       "18. TRUE\n",
       "19. TRUE\n",
       "\n",
       "\n"
      ],
      "text/plain": [
       " [1]  TRUE  TRUE FALSE  TRUE FALSE FALSE FALSE  TRUE FALSE FALSE  TRUE  TRUE\n",
       "[13]  TRUE  TRUE FALSE FALSE FALSE  TRUE  TRUE"
      ]
     },
     "metadata": {},
     "output_type": "display_data"
    }
   ],
   "source": [
    "df[,2]>150"
   ]
  },
  {
   "cell_type": "code",
   "execution_count": 11,
   "metadata": {},
   "outputs": [
    {
     "data": {
      "text/html": [
       "<style>\n",
       ".list-inline {list-style: none; margin:0; padding: 0}\n",
       ".list-inline>li {display: inline-block}\n",
       ".list-inline>li:not(:last-child)::after {content: \"\\00b7\"; padding: 0 .5ex}\n",
       "</style>\n",
       "<ol class=list-inline><li>225</li><li>162</li><li>193</li><li>162</li><li>152</li><li>154</li><li>174</li><li>326</li><li>164</li><li>224</li></ol>\n"
      ],
      "text/latex": [
       "\\begin{enumerate*}\n",
       "\\item 225\n",
       "\\item 162\n",
       "\\item 193\n",
       "\\item 162\n",
       "\\item 152\n",
       "\\item 154\n",
       "\\item 174\n",
       "\\item 326\n",
       "\\item 164\n",
       "\\item 224\n",
       "\\end{enumerate*}\n"
      ],
      "text/markdown": [
       "1. 225\n",
       "2. 162\n",
       "3. 193\n",
       "4. 162\n",
       "5. 152\n",
       "6. 154\n",
       "7. 174\n",
       "8. 326\n",
       "9. 164\n",
       "10. 224\n",
       "\n",
       "\n"
      ],
      "text/plain": [
       " [1] 225 162 193 162 152 154 174 326 164 224"
      ]
     },
     "metadata": {},
     "output_type": "display_data"
    }
   ],
   "source": [
    "df[,2][df[,2]>150]"
   ]
  },
  {
   "cell_type": "code",
   "execution_count": 12,
   "metadata": {},
   "outputs": [
    {
     "data": {
      "text/html": [
       "775"
      ],
      "text/latex": [
       "775"
      ],
      "text/markdown": [
       "775"
      ],
      "text/plain": [
       "[1] 775"
      ]
     },
     "metadata": {},
     "output_type": "display_data"
    }
   ],
   "source": [
    "sum(df[,2][df[,2]>200])"
   ]
  },
  {
   "cell_type": "code",
   "execution_count": 15,
   "metadata": {},
   "outputs": [
    {
     "data": {
      "text/html": [
       "<table>\n",
       "<caption>A data.frame: 2 × 5</caption>\n",
       "<thead>\n",
       "\t<tr><th></th><th scope=col>District</th><th scope=col>Highlighter</th><th scope=col>Marker</th><th scope=col>Pen</th><th scope=col>Refill</th></tr>\n",
       "\t<tr><th></th><th scope=col>&lt;fct&gt;</th><th scope=col>&lt;int&gt;</th><th scope=col>&lt;int&gt;</th><th scope=col>&lt;int&gt;</th><th scope=col>&lt;int&gt;</th></tr>\n",
       "</thead>\n",
       "<tbody>\n",
       "\t<tr><th scope=row>14</th><td>Ratnagiri  </td><td>326</td><td>398</td><td>1504</td><td>74</td></tr>\n",
       "\t<tr><th scope=row>17</th><td>Sindhudurga</td><td> 75</td><td>217</td><td>1253</td><td>77</td></tr>\n",
       "</tbody>\n",
       "</table>\n"
      ],
      "text/latex": [
       "A data.frame: 2 × 5\n",
       "\\begin{tabular}{r|lllll}\n",
       "  & District & Highlighter & Marker & Pen & Refill\\\\\n",
       "  & <fct> & <int> & <int> & <int> & <int>\\\\\n",
       "\\hline\n",
       "\t14 & Ratnagiri   & 326 & 398 & 1504 & 74\\\\\n",
       "\t17 & Sindhudurga &  75 & 217 & 1253 & 77\\\\\n",
       "\\end{tabular}\n"
      ],
      "text/markdown": [
       "\n",
       "A data.frame: 2 × 5\n",
       "\n",
       "| <!--/--> | District &lt;fct&gt; | Highlighter &lt;int&gt; | Marker &lt;int&gt; | Pen &lt;int&gt; | Refill &lt;int&gt; |\n",
       "|---|---|---|---|---|---|\n",
       "| 14 | Ratnagiri   | 326 | 398 | 1504 | 74 |\n",
       "| 17 | Sindhudurga |  75 | 217 | 1253 | 77 |\n",
       "\n"
      ],
      "text/plain": [
       "   District    Highlighter Marker Pen  Refill\n",
       "14 Ratnagiri   326         398    1504 74    \n",
       "17 Sindhudurga  75         217    1253 77    "
      ]
     },
     "metadata": {},
     "output_type": "display_data"
    }
   ],
   "source": [
    "df[which(df$Pen>1000),]"
   ]
  },
  {
   "cell_type": "code",
   "execution_count": 16,
   "metadata": {},
   "outputs": [
    {
     "data": {
      "text/html": [
       "<table>\n",
       "<caption>A data.frame: 2 × 5</caption>\n",
       "<thead>\n",
       "\t<tr><th></th><th scope=col>District</th><th scope=col>Highlighter</th><th scope=col>Marker</th><th scope=col>Pen</th><th scope=col>Refill</th></tr>\n",
       "\t<tr><th></th><th scope=col>&lt;fct&gt;</th><th scope=col>&lt;int&gt;</th><th scope=col>&lt;int&gt;</th><th scope=col>&lt;int&gt;</th><th scope=col>&lt;int&gt;</th></tr>\n",
       "</thead>\n",
       "<tbody>\n",
       "\t<tr><th scope=row>14</th><td>Ratnagiri  </td><td>326</td><td>398</td><td>1504</td><td>74</td></tr>\n",
       "\t<tr><th scope=row>17</th><td>Sindhudurga</td><td> 75</td><td>217</td><td>1253</td><td>77</td></tr>\n",
       "</tbody>\n",
       "</table>\n"
      ],
      "text/latex": [
       "A data.frame: 2 × 5\n",
       "\\begin{tabular}{r|lllll}\n",
       "  & District & Highlighter & Marker & Pen & Refill\\\\\n",
       "  & <fct> & <int> & <int> & <int> & <int>\\\\\n",
       "\\hline\n",
       "\t14 & Ratnagiri   & 326 & 398 & 1504 & 74\\\\\n",
       "\t17 & Sindhudurga &  75 & 217 & 1253 & 77\\\\\n",
       "\\end{tabular}\n"
      ],
      "text/markdown": [
       "\n",
       "A data.frame: 2 × 5\n",
       "\n",
       "| <!--/--> | District &lt;fct&gt; | Highlighter &lt;int&gt; | Marker &lt;int&gt; | Pen &lt;int&gt; | Refill &lt;int&gt; |\n",
       "|---|---|---|---|---|---|\n",
       "| 14 | Ratnagiri   | 326 | 398 | 1504 | 74 |\n",
       "| 17 | Sindhudurga |  75 | 217 | 1253 | 77 |\n",
       "\n"
      ],
      "text/plain": [
       "   District    Highlighter Marker Pen  Refill\n",
       "14 Ratnagiri   326         398    1504 74    \n",
       "17 Sindhudurga  75         217    1253 77    "
      ]
     },
     "metadata": {},
     "output_type": "display_data"
    }
   ],
   "source": [
    "subset(df, Pen>1000)"
   ]
  },
  {
   "cell_type": "code",
   "execution_count": 17,
   "metadata": {},
   "outputs": [
    {
     "data": {
      "text/html": [
       "<table>\n",
       "<caption>A matrix: 19 × 5 of type lgl</caption>\n",
       "<thead>\n",
       "\t<tr><th scope=col>District</th><th scope=col>Highlighter</th><th scope=col>Marker</th><th scope=col>Pen</th><th scope=col>Refill</th></tr>\n",
       "</thead>\n",
       "<tbody>\n",
       "\t<tr><td>FALSE</td><td>FALSE</td><td>FALSE</td><td>FALSE</td><td>FALSE</td></tr>\n",
       "\t<tr><td>FALSE</td><td>FALSE</td><td>FALSE</td><td>FALSE</td><td>FALSE</td></tr>\n",
       "\t<tr><td>FALSE</td><td>FALSE</td><td>FALSE</td><td>FALSE</td><td>FALSE</td></tr>\n",
       "\t<tr><td>FALSE</td><td>FALSE</td><td>FALSE</td><td>FALSE</td><td>FALSE</td></tr>\n",
       "\t<tr><td>FALSE</td><td>FALSE</td><td>FALSE</td><td>FALSE</td><td> TRUE</td></tr>\n",
       "\t<tr><td>FALSE</td><td>FALSE</td><td>FALSE</td><td>FALSE</td><td> TRUE</td></tr>\n",
       "\t<tr><td>FALSE</td><td>FALSE</td><td>FALSE</td><td>FALSE</td><td>FALSE</td></tr>\n",
       "\t<tr><td>FALSE</td><td>FALSE</td><td>FALSE</td><td>FALSE</td><td>FALSE</td></tr>\n",
       "\t<tr><td>FALSE</td><td>FALSE</td><td>FALSE</td><td>FALSE</td><td>FALSE</td></tr>\n",
       "\t<tr><td>FALSE</td><td>FALSE</td><td>FALSE</td><td>FALSE</td><td>FALSE</td></tr>\n",
       "\t<tr><td>FALSE</td><td>FALSE</td><td>FALSE</td><td>FALSE</td><td>FALSE</td></tr>\n",
       "\t<tr><td>FALSE</td><td>FALSE</td><td>FALSE</td><td>FALSE</td><td>FALSE</td></tr>\n",
       "\t<tr><td>FALSE</td><td>FALSE</td><td>FALSE</td><td>FALSE</td><td>FALSE</td></tr>\n",
       "\t<tr><td>FALSE</td><td>FALSE</td><td>FALSE</td><td>FALSE</td><td>FALSE</td></tr>\n",
       "\t<tr><td>FALSE</td><td>FALSE</td><td>FALSE</td><td>FALSE</td><td>FALSE</td></tr>\n",
       "\t<tr><td>FALSE</td><td>FALSE</td><td>FALSE</td><td>FALSE</td><td> TRUE</td></tr>\n",
       "\t<tr><td>FALSE</td><td>FALSE</td><td>FALSE</td><td>FALSE</td><td>FALSE</td></tr>\n",
       "\t<tr><td>FALSE</td><td>FALSE</td><td>FALSE</td><td>FALSE</td><td>FALSE</td></tr>\n",
       "\t<tr><td>FALSE</td><td>FALSE</td><td>FALSE</td><td>FALSE</td><td>FALSE</td></tr>\n",
       "</tbody>\n",
       "</table>\n"
      ],
      "text/latex": [
       "A matrix: 19 × 5 of type lgl\n",
       "\\begin{tabular}{lllll}\n",
       " District & Highlighter & Marker & Pen & Refill\\\\\n",
       "\\hline\n",
       "\t FALSE & FALSE & FALSE & FALSE & FALSE\\\\\n",
       "\t FALSE & FALSE & FALSE & FALSE & FALSE\\\\\n",
       "\t FALSE & FALSE & FALSE & FALSE & FALSE\\\\\n",
       "\t FALSE & FALSE & FALSE & FALSE & FALSE\\\\\n",
       "\t FALSE & FALSE & FALSE & FALSE &  TRUE\\\\\n",
       "\t FALSE & FALSE & FALSE & FALSE &  TRUE\\\\\n",
       "\t FALSE & FALSE & FALSE & FALSE & FALSE\\\\\n",
       "\t FALSE & FALSE & FALSE & FALSE & FALSE\\\\\n",
       "\t FALSE & FALSE & FALSE & FALSE & FALSE\\\\\n",
       "\t FALSE & FALSE & FALSE & FALSE & FALSE\\\\\n",
       "\t FALSE & FALSE & FALSE & FALSE & FALSE\\\\\n",
       "\t FALSE & FALSE & FALSE & FALSE & FALSE\\\\\n",
       "\t FALSE & FALSE & FALSE & FALSE & FALSE\\\\\n",
       "\t FALSE & FALSE & FALSE & FALSE & FALSE\\\\\n",
       "\t FALSE & FALSE & FALSE & FALSE & FALSE\\\\\n",
       "\t FALSE & FALSE & FALSE & FALSE &  TRUE\\\\\n",
       "\t FALSE & FALSE & FALSE & FALSE & FALSE\\\\\n",
       "\t FALSE & FALSE & FALSE & FALSE & FALSE\\\\\n",
       "\t FALSE & FALSE & FALSE & FALSE & FALSE\\\\\n",
       "\\end{tabular}\n"
      ],
      "text/markdown": [
       "\n",
       "A matrix: 19 × 5 of type lgl\n",
       "\n",
       "| District | Highlighter | Marker | Pen | Refill |\n",
       "|---|---|---|---|---|\n",
       "| FALSE | FALSE | FALSE | FALSE | FALSE |\n",
       "| FALSE | FALSE | FALSE | FALSE | FALSE |\n",
       "| FALSE | FALSE | FALSE | FALSE | FALSE |\n",
       "| FALSE | FALSE | FALSE | FALSE | FALSE |\n",
       "| FALSE | FALSE | FALSE | FALSE |  TRUE |\n",
       "| FALSE | FALSE | FALSE | FALSE |  TRUE |\n",
       "| FALSE | FALSE | FALSE | FALSE | FALSE |\n",
       "| FALSE | FALSE | FALSE | FALSE | FALSE |\n",
       "| FALSE | FALSE | FALSE | FALSE | FALSE |\n",
       "| FALSE | FALSE | FALSE | FALSE | FALSE |\n",
       "| FALSE | FALSE | FALSE | FALSE | FALSE |\n",
       "| FALSE | FALSE | FALSE | FALSE | FALSE |\n",
       "| FALSE | FALSE | FALSE | FALSE | FALSE |\n",
       "| FALSE | FALSE | FALSE | FALSE | FALSE |\n",
       "| FALSE | FALSE | FALSE | FALSE | FALSE |\n",
       "| FALSE | FALSE | FALSE | FALSE |  TRUE |\n",
       "| FALSE | FALSE | FALSE | FALSE | FALSE |\n",
       "| FALSE | FALSE | FALSE | FALSE | FALSE |\n",
       "| FALSE | FALSE | FALSE | FALSE | FALSE |\n",
       "\n"
      ],
      "text/plain": [
       "      District Highlighter Marker Pen   Refill\n",
       " [1,] FALSE    FALSE       FALSE  FALSE FALSE \n",
       " [2,] FALSE    FALSE       FALSE  FALSE FALSE \n",
       " [3,] FALSE    FALSE       FALSE  FALSE FALSE \n",
       " [4,] FALSE    FALSE       FALSE  FALSE FALSE \n",
       " [5,] FALSE    FALSE       FALSE  FALSE  TRUE \n",
       " [6,] FALSE    FALSE       FALSE  FALSE  TRUE \n",
       " [7,] FALSE    FALSE       FALSE  FALSE FALSE \n",
       " [8,] FALSE    FALSE       FALSE  FALSE FALSE \n",
       " [9,] FALSE    FALSE       FALSE  FALSE FALSE \n",
       "[10,] FALSE    FALSE       FALSE  FALSE FALSE \n",
       "[11,] FALSE    FALSE       FALSE  FALSE FALSE \n",
       "[12,] FALSE    FALSE       FALSE  FALSE FALSE \n",
       "[13,] FALSE    FALSE       FALSE  FALSE FALSE \n",
       "[14,] FALSE    FALSE       FALSE  FALSE FALSE \n",
       "[15,] FALSE    FALSE       FALSE  FALSE FALSE \n",
       "[16,] FALSE    FALSE       FALSE  FALSE  TRUE \n",
       "[17,] FALSE    FALSE       FALSE  FALSE FALSE \n",
       "[18,] FALSE    FALSE       FALSE  FALSE FALSE \n",
       "[19,] FALSE    FALSE       FALSE  FALSE FALSE "
      ]
     },
     "metadata": {},
     "output_type": "display_data"
    }
   ],
   "source": [
    "is.na(df)"
   ]
  },
  {
   "cell_type": "code",
   "execution_count": 18,
   "metadata": {},
   "outputs": [
    {
     "name": "stdout",
     "output_type": "stream",
     "text": [
      "'data.frame':\t19 obs. of  5 variables:\n",
      " $ District   : Factor w/ 19 levels \"Ahmednagar\",\"Aurangabad\",..: 1 2 3 4 5 6 7 8 9 10 ...\n",
      " $ Highlighter: int  225 162 30 193 81 108 119 162 107 111 ...\n",
      " $ Marker     : int  51 159 32 390 243 118 160 281 121 240 ...\n",
      " $ Pen        : int  674 755 616 553 518 352 391 386 280 761 ...\n",
      " $ Refill     : int  69 50 38 40 NA NA 29 156 33 28 ...\n"
     ]
    }
   ],
   "source": [
    "str(df)"
   ]
  },
  {
   "cell_type": "code",
   "execution_count": 20,
   "metadata": {},
   "outputs": [
    {
     "data": {
      "text/html": [
       "<style>\n",
       ".list-inline {list-style: none; margin:0; padding: 0}\n",
       ".list-inline>li {display: inline-block}\n",
       ".list-inline>li:not(:last-child)::after {content: \"\\00b7\"; padding: 0 .5ex}\n",
       "</style>\n",
       "<ol class=list-inline><li>1</li><li>9</li><li>17</li><li>25</li><li>33</li><li>41</li><li>49</li><li>57</li><li>65</li><li>73</li><li>81</li><li>89</li><li>97</li></ol>\n"
      ],
      "text/latex": [
       "\\begin{enumerate*}\n",
       "\\item 1\n",
       "\\item 9\n",
       "\\item 17\n",
       "\\item 25\n",
       "\\item 33\n",
       "\\item 41\n",
       "\\item 49\n",
       "\\item 57\n",
       "\\item 65\n",
       "\\item 73\n",
       "\\item 81\n",
       "\\item 89\n",
       "\\item 97\n",
       "\\end{enumerate*}\n"
      ],
      "text/markdown": [
       "1. 1\n",
       "2. 9\n",
       "3. 17\n",
       "4. 25\n",
       "5. 33\n",
       "6. 41\n",
       "7. 49\n",
       "8. 57\n",
       "9. 65\n",
       "10. 73\n",
       "11. 81\n",
       "12. 89\n",
       "13. 97\n",
       "\n",
       "\n"
      ],
      "text/plain": [
       " [1]  1  9 17 25 33 41 49 57 65 73 81 89 97"
      ]
     },
     "metadata": {},
     "output_type": "display_data"
    }
   ],
   "source": [
    "seq(1, 100, by=8)"
   ]
  },
  {
   "cell_type": "code",
   "execution_count": 25,
   "metadata": {},
   "outputs": [
    {
     "data": {
      "text/plain": [
       "\n",
       " Ahmednagar  Aurangabad    Buldhana       Dhule         Goa    Kolhapur \n",
       "          1           1           1           1           1           1 \n",
       "     Mumbai    Nadurbar      Nagpur      Nanded       Nasik        Pune \n",
       "          1           1           1           1           1           1 \n",
       "     Raigad   Ratnagiri      Sangli      Satara Sindhudurga     Solapur \n",
       "          1           1           1           1           1           1 \n",
       "      Thane \n",
       "          1 "
      ]
     },
     "metadata": {},
     "output_type": "display_data"
    }
   ],
   "source": [
    "table(df$District, useNA = \"ifany\")"
   ]
  },
  {
   "cell_type": "code",
   "execution_count": 34,
   "metadata": {},
   "outputs": [
    {
     "data": {
      "text/plain": [
       "\n",
       " Ahmednagar  Aurangabad    Buldhana       Dhule         Goa    Kolhapur \n",
       "          1           1           1           1           1           1 \n",
       "     Mumbai    Nadurbar      Nagpur      Nanded       Nasik        Pune \n",
       "          1           1           1           1           1           1 \n",
       "     Raigad   Ratnagiri      Sangli      Satara Sindhudurga     Solapur \n",
       "          1           1           1           1           1           1 \n",
       "      Thane \n",
       "          1 "
      ]
     },
     "metadata": {},
     "output_type": "display_data"
    },
    {
     "data": {
      "text/plain": [
       "\n",
       " Ahmednagar  Aurangabad    Buldhana       Dhule         Goa    Kolhapur \n",
       " 0.05263158  0.05263158  0.05263158  0.05263158  0.05263158  0.05263158 \n",
       "     Mumbai    Nadurbar      Nagpur      Nanded       Nasik        Pune \n",
       " 0.05263158  0.05263158  0.05263158  0.05263158  0.05263158  0.05263158 \n",
       "     Raigad   Ratnagiri      Sangli      Satara Sindhudurga     Solapur \n",
       " 0.05263158  0.05263158  0.05263158  0.05263158  0.05263158  0.05263158 \n",
       "      Thane \n",
       " 0.05263158 "
      ]
     },
     "metadata": {},
     "output_type": "display_data"
    }
   ],
   "source": [
    "table(df$District)\n",
    "prop.table(table(df$District))"
   ]
  },
  {
   "cell_type": "code",
   "execution_count": 37,
   "metadata": {},
   "outputs": [
    {
     "data": {
      "text/html": [
       "<style>\n",
       ".list-inline {list-style: none; margin:0; padding: 0}\n",
       ".list-inline>li {display: inline-block}\n",
       ".list-inline>li:not(:last-child)::after {content: \"\\00b7\"; padding: 0 .5ex}\n",
       "</style>\n",
       "<ol class=list-inline><li>69</li><li>50</li><li>38</li><li>40</li><li>&lt;NA&gt;</li><li>&lt;NA&gt;</li><li>29</li><li>156</li><li>33</li><li>28</li><li>65</li><li>122</li><li>40</li><li>74</li><li>47</li><li>&lt;NA&gt;</li><li>77</li><li>15</li><li>58</li></ol>\n"
      ],
      "text/latex": [
       "\\begin{enumerate*}\n",
       "\\item 69\n",
       "\\item 50\n",
       "\\item 38\n",
       "\\item 40\n",
       "\\item <NA>\n",
       "\\item <NA>\n",
       "\\item 29\n",
       "\\item 156\n",
       "\\item 33\n",
       "\\item 28\n",
       "\\item 65\n",
       "\\item 122\n",
       "\\item 40\n",
       "\\item 74\n",
       "\\item 47\n",
       "\\item <NA>\n",
       "\\item 77\n",
       "\\item 15\n",
       "\\item 58\n",
       "\\end{enumerate*}\n"
      ],
      "text/markdown": [
       "1. 69\n",
       "2. 50\n",
       "3. 38\n",
       "4. 40\n",
       "5. &lt;NA&gt;\n",
       "6. &lt;NA&gt;\n",
       "7. 29\n",
       "8. 156\n",
       "9. 33\n",
       "10. 28\n",
       "11. 65\n",
       "12. 122\n",
       "13. 40\n",
       "14. 74\n",
       "15. 47\n",
       "16. &lt;NA&gt;\n",
       "17. 77\n",
       "18. 15\n",
       "19. 58\n",
       "\n",
       "\n"
      ],
      "text/plain": [
       " [1]  69  50  38  40  NA  NA  29 156  33  28  65 122  40  74  47  NA  77  15  58"
      ]
     },
     "metadata": {},
     "output_type": "display_data"
    },
    {
     "data": {
      "text/html": [
       "<style>\n",
       ".list-inline {list-style: none; margin:0; padding: 0}\n",
       ".list-inline>li {display: inline-block}\n",
       ".list-inline>li:not(:last-child)::after {content: \"\\00b7\"; padding: 0 .5ex}\n",
       "</style>\n",
       "<ol class=list-inline><li>(50.2,85.5]</li><li>(14.9,50.2]</li><li>(14.9,50.2]</li><li>(14.9,50.2]</li><li>&lt;NA&gt;</li><li>&lt;NA&gt;</li><li>(14.9,50.2]</li><li>(121,156]</li><li>(14.9,50.2]</li><li>(14.9,50.2]</li><li>(50.2,85.5]</li><li>(121,156]</li><li>(14.9,50.2]</li><li>(50.2,85.5]</li><li>(14.9,50.2]</li><li>&lt;NA&gt;</li><li>(50.2,85.5]</li><li>(14.9,50.2]</li><li>(50.2,85.5]</li></ol>\n",
       "\n",
       "<details>\n",
       "\t<summary style=display:list-item;cursor:pointer>\n",
       "\t\t<strong>Levels</strong>:\n",
       "\t</summary>\n",
       "\t<style>\n",
       "\t.list-inline {list-style: none; margin:0; padding: 0}\n",
       "\t.list-inline>li {display: inline-block}\n",
       "\t.list-inline>li:not(:last-child)::after {content: \"\\00b7\"; padding: 0 .5ex}\n",
       "\t</style>\n",
       "\t<ol class=list-inline><li>'(14.9,50.2]'</li><li>'(50.2,85.5]'</li><li>'(85.5,121]'</li><li>'(121,156]'</li></ol>\n",
       "</details>"
      ],
      "text/latex": [
       "\\begin{enumerate*}\n",
       "\\item (50.2,85.5{]}\n",
       "\\item (14.9,50.2{]}\n",
       "\\item (14.9,50.2{]}\n",
       "\\item (14.9,50.2{]}\n",
       "\\item <NA>\n",
       "\\item <NA>\n",
       "\\item (14.9,50.2{]}\n",
       "\\item (121,156{]}\n",
       "\\item (14.9,50.2{]}\n",
       "\\item (14.9,50.2{]}\n",
       "\\item (50.2,85.5{]}\n",
       "\\item (121,156{]}\n",
       "\\item (14.9,50.2{]}\n",
       "\\item (50.2,85.5{]}\n",
       "\\item (14.9,50.2{]}\n",
       "\\item <NA>\n",
       "\\item (50.2,85.5{]}\n",
       "\\item (14.9,50.2{]}\n",
       "\\item (50.2,85.5{]}\n",
       "\\end{enumerate*}\n",
       "\n",
       "\\emph{Levels}: \\begin{enumerate*}\n",
       "\\item '(14.9,50.2{]}'\n",
       "\\item '(50.2,85.5{]}'\n",
       "\\item '(85.5,121{]}'\n",
       "\\item '(121,156{]}'\n",
       "\\end{enumerate*}\n"
      ],
      "text/markdown": [
       "1. (50.2,85.5]\n",
       "2. (14.9,50.2]\n",
       "3. (14.9,50.2]\n",
       "4. (14.9,50.2]\n",
       "5. &lt;NA&gt;\n",
       "6. &lt;NA&gt;\n",
       "7. (14.9,50.2]\n",
       "8. (121,156]\n",
       "9. (14.9,50.2]\n",
       "10. (14.9,50.2]\n",
       "11. (50.2,85.5]\n",
       "12. (121,156]\n",
       "13. (14.9,50.2]\n",
       "14. (50.2,85.5]\n",
       "15. (14.9,50.2]\n",
       "16. &lt;NA&gt;\n",
       "17. (50.2,85.5]\n",
       "18. (14.9,50.2]\n",
       "19. (50.2,85.5]\n",
       "\n",
       "\n",
       "\n",
       "**Levels**: 1. '(14.9,50.2]'\n",
       "2. '(50.2,85.5]'\n",
       "3. '(85.5,121]'\n",
       "4. '(121,156]'\n",
       "\n",
       "\n"
      ],
      "text/plain": [
       " [1] (50.2,85.5] (14.9,50.2] (14.9,50.2] (14.9,50.2] <NA>        <NA>       \n",
       " [7] (14.9,50.2] (121,156]   (14.9,50.2] (14.9,50.2] (50.2,85.5] (121,156]  \n",
       "[13] (14.9,50.2] (50.2,85.5] (14.9,50.2] <NA>        (50.2,85.5] (14.9,50.2]\n",
       "[19] (50.2,85.5]\n",
       "Levels: (14.9,50.2] (50.2,85.5] (85.5,121] (121,156]"
      ]
     },
     "metadata": {},
     "output_type": "display_data"
    },
    {
     "data": {
      "text/html": [
       "<style>\n",
       ".list-inline {list-style: none; margin:0; padding: 0}\n",
       ".list-inline>li {display: inline-block}\n",
       ".list-inline>li:not(:last-child)::after {content: \"\\00b7\"; padding: 0 .5ex}\n",
       "</style>\n",
       "<ol class=list-inline><li>(60,70]</li><li>(40,50]</li><li>(30,40]</li><li>(30,40]</li><li>&lt;NA&gt;</li><li>&lt;NA&gt;</li><li>(20,30]</li><li>(110,160]</li><li>(30,40]</li><li>(20,30]</li><li>(60,70]</li><li>(110,160]</li><li>(30,40]</li><li>(70,80]</li><li>(40,50]</li><li>&lt;NA&gt;</li><li>(70,80]</li><li>(10,20]</li><li>(50,60]</li></ol>\n",
       "\n",
       "<details>\n",
       "\t<summary style=display:list-item;cursor:pointer>\n",
       "\t\t<strong>Levels</strong>:\n",
       "\t</summary>\n",
       "\t<style>\n",
       "\t.list-inline {list-style: none; margin:0; padding: 0}\n",
       "\t.list-inline>li {display: inline-block}\n",
       "\t.list-inline>li:not(:last-child)::after {content: \"\\00b7\"; padding: 0 .5ex}\n",
       "\t</style>\n",
       "\t<ol class=list-inline><li>'(0,10]'</li><li>'(10,20]'</li><li>'(20,30]'</li><li>'(30,40]'</li><li>'(40,50]'</li><li>'(50,60]'</li><li>'(60,70]'</li><li>'(70,80]'</li><li>'(80,90]'</li><li>'(90,100]'</li><li>'(100,110]'</li><li>'(110,160]'</li></ol>\n",
       "</details>"
      ],
      "text/latex": [
       "\\begin{enumerate*}\n",
       "\\item (60,70{]}\n",
       "\\item (40,50{]}\n",
       "\\item (30,40{]}\n",
       "\\item (30,40{]}\n",
       "\\item <NA>\n",
       "\\item <NA>\n",
       "\\item (20,30{]}\n",
       "\\item (110,160{]}\n",
       "\\item (30,40{]}\n",
       "\\item (20,30{]}\n",
       "\\item (60,70{]}\n",
       "\\item (110,160{]}\n",
       "\\item (30,40{]}\n",
       "\\item (70,80{]}\n",
       "\\item (40,50{]}\n",
       "\\item <NA>\n",
       "\\item (70,80{]}\n",
       "\\item (10,20{]}\n",
       "\\item (50,60{]}\n",
       "\\end{enumerate*}\n",
       "\n",
       "\\emph{Levels}: \\begin{enumerate*}\n",
       "\\item '(0,10{]}'\n",
       "\\item '(10,20{]}'\n",
       "\\item '(20,30{]}'\n",
       "\\item '(30,40{]}'\n",
       "\\item '(40,50{]}'\n",
       "\\item '(50,60{]}'\n",
       "\\item '(60,70{]}'\n",
       "\\item '(70,80{]}'\n",
       "\\item '(80,90{]}'\n",
       "\\item '(90,100{]}'\n",
       "\\item '(100,110{]}'\n",
       "\\item '(110,160{]}'\n",
       "\\end{enumerate*}\n"
      ],
      "text/markdown": [
       "1. (60,70]\n",
       "2. (40,50]\n",
       "3. (30,40]\n",
       "4. (30,40]\n",
       "5. &lt;NA&gt;\n",
       "6. &lt;NA&gt;\n",
       "7. (20,30]\n",
       "8. (110,160]\n",
       "9. (30,40]\n",
       "10. (20,30]\n",
       "11. (60,70]\n",
       "12. (110,160]\n",
       "13. (30,40]\n",
       "14. (70,80]\n",
       "15. (40,50]\n",
       "16. &lt;NA&gt;\n",
       "17. (70,80]\n",
       "18. (10,20]\n",
       "19. (50,60]\n",
       "\n",
       "\n",
       "\n",
       "**Levels**: 1. '(0,10]'\n",
       "2. '(10,20]'\n",
       "3. '(20,30]'\n",
       "4. '(30,40]'\n",
       "5. '(40,50]'\n",
       "6. '(50,60]'\n",
       "7. '(60,70]'\n",
       "8. '(70,80]'\n",
       "9. '(80,90]'\n",
       "10. '(90,100]'\n",
       "11. '(100,110]'\n",
       "12. '(110,160]'\n",
       "\n",
       "\n"
      ],
      "text/plain": [
       " [1] (60,70]   (40,50]   (30,40]   (30,40]   <NA>      <NA>      (20,30]  \n",
       " [8] (110,160] (30,40]   (20,30]   (60,70]   (110,160] (30,40]   (70,80]  \n",
       "[15] (40,50]   <NA>      (70,80]   (10,20]   (50,60]  \n",
       "12 Levels: (0,10] (10,20] (20,30] (30,40] (40,50] (50,60] (60,70] ... (110,160]"
      ]
     },
     "metadata": {},
     "output_type": "display_data"
    }
   ],
   "source": [
    "df$Refill\n",
    "cut(df$Refill, breaks = 4)\n",
    "cut(df$Refill, breaks=c(0,10,20,30,40,50,60,70,80,90,100,110,160))"
   ]
  },
  {
   "cell_type": "code",
   "execution_count": 38,
   "metadata": {},
   "outputs": [
    {
     "data": {
      "text/html": [
       "<style>\n",
       ".list-inline {list-style: none; margin:0; padding: 0}\n",
       ".list-inline>li {display: inline-block}\n",
       ".list-inline>li:not(:last-child)::after {content: \"\\00b7\"; padding: 0 .5ex}\n",
       "</style>\n",
       "<ol class=list-inline><li>Buldhana</li><li>Ratnagiri</li><li>Nanded</li></ol>\n",
       "\n",
       "<details>\n",
       "\t<summary style=display:list-item;cursor:pointer>\n",
       "\t\t<strong>Levels</strong>:\n",
       "\t</summary>\n",
       "\t<style>\n",
       "\t.list-inline {list-style: none; margin:0; padding: 0}\n",
       "\t.list-inline>li {display: inline-block}\n",
       "\t.list-inline>li:not(:last-child)::after {content: \"\\00b7\"; padding: 0 .5ex}\n",
       "\t</style>\n",
       "\t<ol class=list-inline><li>'Ahmednagar'</li><li>'Aurangabad'</li><li>'Buldhana'</li><li>'Dhule'</li><li>'Goa'</li><li>'Kolhapur'</li><li>'Mumbai'</li><li>'Nadurbar'</li><li>'Nagpur'</li><li>'Nanded'</li><li>'Nasik'</li><li>'Pune'</li><li>'Raigad'</li><li>'Ratnagiri'</li><li>'Sangli'</li><li>'Satara'</li><li>'Sindhudurga'</li><li>'Solapur'</li><li>'Thane'</li></ol>\n",
       "</details>"
      ],
      "text/latex": [
       "\\begin{enumerate*}\n",
       "\\item Buldhana\n",
       "\\item Ratnagiri\n",
       "\\item Nanded\n",
       "\\end{enumerate*}\n",
       "\n",
       "\\emph{Levels}: \\begin{enumerate*}\n",
       "\\item 'Ahmednagar'\n",
       "\\item 'Aurangabad'\n",
       "\\item 'Buldhana'\n",
       "\\item 'Dhule'\n",
       "\\item 'Goa'\n",
       "\\item 'Kolhapur'\n",
       "\\item 'Mumbai'\n",
       "\\item 'Nadurbar'\n",
       "\\item 'Nagpur'\n",
       "\\item 'Nanded'\n",
       "\\item 'Nasik'\n",
       "\\item 'Pune'\n",
       "\\item 'Raigad'\n",
       "\\item 'Ratnagiri'\n",
       "\\item 'Sangli'\n",
       "\\item 'Satara'\n",
       "\\item 'Sindhudurga'\n",
       "\\item 'Solapur'\n",
       "\\item 'Thane'\n",
       "\\end{enumerate*}\n"
      ],
      "text/markdown": [
       "1. Buldhana\n",
       "2. Ratnagiri\n",
       "3. Nanded\n",
       "\n",
       "\n",
       "\n",
       "**Levels**: 1. 'Ahmednagar'\n",
       "2. 'Aurangabad'\n",
       "3. 'Buldhana'\n",
       "4. 'Dhule'\n",
       "5. 'Goa'\n",
       "6. 'Kolhapur'\n",
       "7. 'Mumbai'\n",
       "8. 'Nadurbar'\n",
       "9. 'Nagpur'\n",
       "10. 'Nanded'\n",
       "11. 'Nasik'\n",
       "12. 'Pune'\n",
       "13. 'Raigad'\n",
       "14. 'Ratnagiri'\n",
       "15. 'Sangli'\n",
       "16. 'Satara'\n",
       "17. 'Sindhudurga'\n",
       "18. 'Solapur'\n",
       "19. 'Thane'\n",
       "\n",
       "\n"
      ],
      "text/plain": [
       "[1] Buldhana  Ratnagiri Nanded   \n",
       "19 Levels: Ahmednagar Aurangabad Buldhana Dhule Goa Kolhapur ... Thane"
      ]
     },
     "metadata": {},
     "output_type": "display_data"
    }
   ],
   "source": [
    "sample(df$District, size = 3)"
   ]
  },
  {
   "cell_type": "code",
   "execution_count": 39,
   "metadata": {},
   "outputs": [
    {
     "data": {
      "text/html": [
       "<style>\n",
       ".list-inline {list-style: none; margin:0; padding: 0}\n",
       ".list-inline>li {display: inline-block}\n",
       ".list-inline>li:not(:last-child)::after {content: \"\\00b7\"; padding: 0 .5ex}\n",
       "</style>\n",
       "<ol class=list-inline><li>'Bad'</li><li>'Bad'</li><li>'Bad'</li><li>'Bad'</li><li>NA</li><li>NA</li><li>'Bad'</li><li>'Good'</li><li>'Bad'</li><li>'Bad'</li><li>'Bad'</li><li>'Good'</li><li>'Bad'</li><li>'Bad'</li><li>'Bad'</li><li>NA</li><li>'Bad'</li><li>'Bad'</li><li>'Bad'</li></ol>\n"
      ],
      "text/latex": [
       "\\begin{enumerate*}\n",
       "\\item 'Bad'\n",
       "\\item 'Bad'\n",
       "\\item 'Bad'\n",
       "\\item 'Bad'\n",
       "\\item NA\n",
       "\\item NA\n",
       "\\item 'Bad'\n",
       "\\item 'Good'\n",
       "\\item 'Bad'\n",
       "\\item 'Bad'\n",
       "\\item 'Bad'\n",
       "\\item 'Good'\n",
       "\\item 'Bad'\n",
       "\\item 'Bad'\n",
       "\\item 'Bad'\n",
       "\\item NA\n",
       "\\item 'Bad'\n",
       "\\item 'Bad'\n",
       "\\item 'Bad'\n",
       "\\end{enumerate*}\n"
      ],
      "text/markdown": [
       "1. 'Bad'\n",
       "2. 'Bad'\n",
       "3. 'Bad'\n",
       "4. 'Bad'\n",
       "5. NA\n",
       "6. NA\n",
       "7. 'Bad'\n",
       "8. 'Good'\n",
       "9. 'Bad'\n",
       "10. 'Bad'\n",
       "11. 'Bad'\n",
       "12. 'Good'\n",
       "13. 'Bad'\n",
       "14. 'Bad'\n",
       "15. 'Bad'\n",
       "16. NA\n",
       "17. 'Bad'\n",
       "18. 'Bad'\n",
       "19. 'Bad'\n",
       "\n",
       "\n"
      ],
      "text/plain": [
       " [1] \"Bad\"  \"Bad\"  \"Bad\"  \"Bad\"  NA     NA     \"Bad\"  \"Good\" \"Bad\"  \"Bad\" \n",
       "[11] \"Bad\"  \"Good\" \"Bad\"  \"Bad\"  \"Bad\"  NA     \"Bad\"  \"Bad\"  \"Bad\" "
      ]
     },
     "metadata": {},
     "output_type": "display_data"
    }
   ],
   "source": [
    "ifelse(df$Refill > 100, \"Good\", \"Bad\")"
   ]
  },
  {
   "cell_type": "code",
   "execution_count": 42,
   "metadata": {},
   "outputs": [
    {
     "data": {
      "text/html": [
       "0.105263157894737"
      ],
      "text/latex": [
       "0.105263157894737"
      ],
      "text/markdown": [
       "0.105263157894737"
      ],
      "text/plain": [
       "[1] 0.1052632"
      ]
     },
     "metadata": {},
     "output_type": "display_data"
    },
    {
     "data": {
      "text/html": [
       "0.315301767642306"
      ],
      "text/latex": [
       "0.315301767642306"
      ],
      "text/markdown": [
       "0.315301767642306"
      ],
      "text/plain": [
       "[1] 0.3153018"
      ]
     },
     "metadata": {},
     "output_type": "display_data"
    },
    {
     "data": {
      "text/html": [
       "0.0994152046783626"
      ],
      "text/latex": [
       "0.0994152046783626"
      ],
      "text/markdown": [
       "0.0994152046783626"
      ],
      "text/plain": [
       "[1] 0.0994152"
      ]
     },
     "metadata": {},
     "output_type": "display_data"
    }
   ],
   "source": [
    "mean(df$Pen>1000, na.rm=T)\n",
    "sd(df$Pen>1000, na.rm=T)\n",
    "var(df$Pen>1000, na.rm=T)"
   ]
  },
  {
   "cell_type": "code",
   "execution_count": 43,
   "metadata": {},
   "outputs": [
    {
     "data": {
      "text/plain": [
       "   Mode   FALSE    TRUE \n",
       "logical      17       2 "
      ]
     },
     "metadata": {},
     "output_type": "display_data"
    }
   ],
   "source": [
    "summary(df$Pen>1000, na.rm=T)"
   ]
  },
  {
   "cell_type": "code",
   "execution_count": 44,
   "metadata": {},
   "outputs": [
    {
     "data": {
      "text/plain": [
       "   Min. 1st Qu.  Median    Mean 3rd Qu.    Max. \n",
       "  221.0   388.5   553.0   615.4   744.0  1504.0 "
      ]
     },
     "metadata": {},
     "output_type": "display_data"
    }
   ],
   "source": [
    "summary(df$Pen)"
   ]
  },
  {
   "cell_type": "code",
   "execution_count": 46,
   "metadata": {},
   "outputs": [
    {
     "data": {
      "text/html": [
       "<style>\n",
       ".dl-inline {width: auto; margin:0; padding: 0}\n",
       ".dl-inline>dt, .dl-inline>dd {float: none; width: auto; display: inline-block}\n",
       ".dl-inline>dt::after {content: \":\\0020\"; padding-right: .5ex}\n",
       ".dl-inline>dt:not(:first-of-type) {padding-left: .5ex}\n",
       "</style><dl class=dl-inline><dt>Ahmednagar</dt><dd>1</dd><dt>Aurangabad</dt><dd>1</dd><dt>Buldhana</dt><dd>1</dd><dt>Dhule</dt><dd>1</dd><dt>Goa</dt><dd>1</dd><dt>Kolhapur</dt><dd>1</dd><dt>Mumbai</dt><dd>1</dd><dt>Nadurbar</dt><dd>1</dd><dt>Nagpur</dt><dd>1</dd><dt>Nanded</dt><dd>1</dd><dt>Nasik</dt><dd>1</dd><dt>Pune</dt><dd>1</dd><dt>Raigad</dt><dd>1</dd><dt>Ratnagiri</dt><dd>1</dd><dt>Sangli</dt><dd>1</dd><dt>Satara</dt><dd>1</dd><dt>Sindhudurga</dt><dd>1</dd><dt>Solapur</dt><dd>1</dd><dt>Thane</dt><dd>1</dd></dl>\n"
      ],
      "text/latex": [
       "\\begin{description*}\n",
       "\\item[Ahmednagar] 1\n",
       "\\item[Aurangabad] 1\n",
       "\\item[Buldhana] 1\n",
       "\\item[Dhule] 1\n",
       "\\item[Goa] 1\n",
       "\\item[Kolhapur] 1\n",
       "\\item[Mumbai] 1\n",
       "\\item[Nadurbar] 1\n",
       "\\item[Nagpur] 1\n",
       "\\item[Nanded] 1\n",
       "\\item[Nasik] 1\n",
       "\\item[Pune] 1\n",
       "\\item[Raigad] 1\n",
       "\\item[Ratnagiri] 1\n",
       "\\item[Sangli] 1\n",
       "\\item[Satara] 1\n",
       "\\item[Sindhudurga] 1\n",
       "\\item[Solapur] 1\n",
       "\\item[Thane] 1\n",
       "\\end{description*}\n"
      ],
      "text/markdown": [
       "Ahmednagar\n",
       ":   1Aurangabad\n",
       ":   1Buldhana\n",
       ":   1Dhule\n",
       ":   1Goa\n",
       ":   1Kolhapur\n",
       ":   1Mumbai\n",
       ":   1Nadurbar\n",
       ":   1Nagpur\n",
       ":   1Nanded\n",
       ":   1Nasik\n",
       ":   1Pune\n",
       ":   1Raigad\n",
       ":   1Ratnagiri\n",
       ":   1Sangli\n",
       ":   1Satara\n",
       ":   1Sindhudurga\n",
       ":   1Solapur\n",
       ":   1Thane\n",
       ":   1\n",
       "\n"
      ],
      "text/plain": [
       " Ahmednagar  Aurangabad    Buldhana       Dhule         Goa    Kolhapur \n",
       "          1           1           1           1           1           1 \n",
       "     Mumbai    Nadurbar      Nagpur      Nanded       Nasik        Pune \n",
       "          1           1           1           1           1           1 \n",
       "     Raigad   Ratnagiri      Sangli      Satara Sindhudurga     Solapur \n",
       "          1           1           1           1           1           1 \n",
       "      Thane \n",
       "          1 "
      ]
     },
     "metadata": {},
     "output_type": "display_data"
    }
   ],
   "source": [
    "summary(df$District)"
   ]
  },
  {
   "cell_type": "code",
   "execution_count": 52,
   "metadata": {},
   "outputs": [
    {
     "data": {
      "text/plain": [
       "       District   Highlighter        Marker           Pen        \n",
       " Ahmednagar: 1   Min.   : 30.0   Min.   : 32.0   Min.   : 221.0  \n",
       " Aurangabad: 1   1st Qu.:107.5   1st Qu.:138.5   1st Qu.: 388.5  \n",
       " Buldhana  : 1   Median :152.0   Median :217.0   Median : 553.0  \n",
       " Dhule     : 1   Mean   :145.3   Mean   :214.0   Mean   : 615.4  \n",
       " Goa       : 1   3rd Qu.:169.0   3rd Qu.:263.5   3rd Qu.: 744.0  \n",
       " Kolhapur  : 1   Max.   :326.0   Max.   :436.0   Max.   :1504.0  \n",
       " (Other)   :13                                                   \n",
       "     Refill      \n",
       " Min.   : 15.00  \n",
       " 1st Qu.: 36.75  \n",
       " Median : 48.50  \n",
       " Mean   : 58.81  \n",
       " 3rd Qu.: 70.25  \n",
       " Max.   :156.00  \n",
       " NA's   :3       "
      ]
     },
     "metadata": {},
     "output_type": "display_data"
    }
   ],
   "source": [
    "summary(df)"
   ]
  },
  {
   "cell_type": "code",
   "execution_count": 54,
   "metadata": {},
   "outputs": [
    {
     "name": "stderr",
     "output_type": "stream",
     "text": [
      "The following objects are masked from df (pos = 3):\n",
      "\n",
      "    District, Highlighter, Marker, Pen, Refill\n",
      "\n",
      "\n",
      "The following objects are masked from df (pos = 4):\n",
      "\n",
      "    District, Highlighter, Marker, Pen, Refill\n",
      "\n",
      "\n",
      "The following objects are masked from df (pos = 5):\n",
      "\n",
      "    District, Highlighter, Marker, Pen, Refill\n",
      "\n",
      "\n",
      "The following objects are masked from df (pos = 6):\n",
      "\n",
      "    District, Highlighter, Marker, Pen, Refill\n",
      "\n",
      "\n"
     ]
    }
   ],
   "source": [
    "attach(df)\n",
    "District"
   ]
  },
  {
   "cell_type": "code",
   "execution_count": 55,
   "metadata": {},
   "outputs": [],
   "source": [
    "calMean <- function(input){\n",
    "    mean(input)\n",
    "}"
   ]
  },
  {
   "cell_type": "code",
   "execution_count": 56,
   "metadata": {},
   "outputs": [
    {
     "data": {
      "text/html": [
       "145.263157894737"
      ],
      "text/latex": [
       "145.263157894737"
      ],
      "text/markdown": [
       "145.263157894737"
      ],
      "text/plain": [
       "[1] 145.2632"
      ]
     },
     "metadata": {},
     "output_type": "display_data"
    }
   ],
   "source": [
    "calMean(df$Highlighter)"
   ]
  }
 ],
 "metadata": {
  "kernelspec": {
   "display_name": "R",
   "language": "R",
   "name": "ir"
  },
  "language_info": {
   "codemirror_mode": "r",
   "file_extension": ".r",
   "mimetype": "text/x-r-source",
   "name": "R",
   "pygments_lexer": "r",
   "version": "3.6.2"
  }
 },
 "nbformat": 4,
 "nbformat_minor": 2
}
