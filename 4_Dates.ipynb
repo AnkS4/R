{
 "cells": [
  {
   "cell_type": "code",
   "execution_count": 1,
   "metadata": {},
   "outputs": [
    {
     "data": {
      "text/html": [
       "<time datetime=\"2020-01-01\">2020-01-01</time>"
      ],
      "text/latex": [
       "2020-01-01"
      ],
      "text/markdown": [
       "2020-01-01"
      ],
      "text/plain": [
       "[1] \"2020-01-01\""
      ]
     },
     "metadata": {},
     "output_type": "display_data"
    },
    {
     "data": {
      "text/html": [
       "'Date'"
      ],
      "text/latex": [
       "'Date'"
      ],
      "text/markdown": [
       "'Date'"
      ],
      "text/plain": [
       "[1] \"Date\""
      ]
     },
     "metadata": {},
     "output_type": "display_data"
    }
   ],
   "source": [
    "dt <- as.Date(\"2020-01-01\")\n",
    "dt\n",
    "class(dt)"
   ]
  },
  {
   "cell_type": "code",
   "execution_count": 2,
   "metadata": {},
   "outputs": [
    {
     "data": {
      "text/html": [
       "18262"
      ],
      "text/latex": [
       "18262"
      ],
      "text/markdown": [
       "18262"
      ],
      "text/plain": [
       "[1] 18262"
      ]
     },
     "metadata": {},
     "output_type": "display_data"
    },
    {
     "data": {
      "text/html": [
       "'numeric'"
      ],
      "text/latex": [
       "'numeric'"
      ],
      "text/markdown": [
       "'numeric'"
      ],
      "text/plain": [
       "[1] \"numeric\""
      ]
     },
     "metadata": {},
     "output_type": "display_data"
    },
    {
     "data": {
      "text/html": [
       "<time datetime=\"2020-01-01\">2020-01-01</time>"
      ],
      "text/latex": [
       "2020-01-01"
      ],
      "text/markdown": [
       "2020-01-01"
      ],
      "text/plain": [
       "[1] \"2020-01-01\""
      ]
     },
     "metadata": {},
     "output_type": "display_data"
    }
   ],
   "source": [
    "unclass(dt)\n",
    "class(unclass(dt))\n",
    "dt"
   ]
  },
  {
   "cell_type": "markdown",
   "metadata": {},
   "source": [
    "Current Date can be retried by:"
   ]
  },
  {
   "cell_type": "code",
   "execution_count": 3,
   "metadata": {},
   "outputs": [
    {
     "data": {
      "text/html": [
       "<time datetime=\"2020-02-23\">2020-02-23</time>"
      ],
      "text/latex": [
       "2020-02-23"
      ],
      "text/markdown": [
       "2020-02-23"
      ],
      "text/plain": [
       "[1] \"2020-02-23\""
      ]
     },
     "metadata": {},
     "output_type": "display_data"
    }
   ],
   "source": [
    "Sys.Date()"
   ]
  },
  {
   "cell_type": "code",
   "execution_count": 4,
   "metadata": {},
   "outputs": [
    {
     "data": {
      "text/html": [
       "'01, Jan, 2020'"
      ],
      "text/latex": [
       "'01, Jan, 2020'"
      ],
      "text/markdown": [
       "'01, Jan, 2020'"
      ],
      "text/plain": [
       "[1] \"01, Jan, 2020\""
      ]
     },
     "metadata": {},
     "output_type": "display_data"
    }
   ],
   "source": [
    "dt <- as.Date(\"2020-01-01\")\n",
    "format(dt, \"%d, %b, %Y\")"
   ]
  },
  {
   "cell_type": "code",
   "execution_count": 5,
   "metadata": {},
   "outputs": [
    {
     "data": {
      "text/plain": [
       "[1] \"2021-03-12 IST\""
      ]
     },
     "metadata": {},
     "output_type": "display_data"
    },
    {
     "data": {
      "text/html": [
       "<style>\n",
       ".list-inline {list-style: none; margin:0; padding: 0}\n",
       ".list-inline>li {display: inline-block}\n",
       ".list-inline>li:not(:last-child)::after {content: \"\\00b7\"; padding: 0 .5ex}\n",
       "</style>\n",
       "<ol class=list-inline><li>'POSIXlt'</li><li>'POSIXt'</li></ol>\n"
      ],
      "text/latex": [
       "\\begin{enumerate*}\n",
       "\\item 'POSIXlt'\n",
       "\\item 'POSIXt'\n",
       "\\end{enumerate*}\n"
      ],
      "text/markdown": [
       "1. 'POSIXlt'\n",
       "2. 'POSIXt'\n",
       "\n",
       "\n"
      ],
      "text/plain": [
       "[1] \"POSIXlt\" \"POSIXt\" "
      ]
     },
     "metadata": {},
     "output_type": "display_data"
    }
   ],
   "source": [
    "dt2 <- \"12 March 2021\"\n",
    "dt2 <- strptime(dt2, \"%d %B %Y\")\n",
    "dt2\n",
    "class(dt2)"
   ]
  },
  {
   "cell_type": "code",
   "execution_count": 6,
   "metadata": {},
   "outputs": [
    {
     "data": {
      "text/html": [
       "<style>\n",
       ".list-inline {list-style: none; margin:0; padding: 0}\n",
       ".list-inline>li {display: inline-block}\n",
       ".list-inline>li:not(:last-child)::after {content: \"\\00b7\"; padding: 0 .5ex}\n",
       "</style>\n",
       "<ol class=list-inline><li><time datetime=\"2020-02-17\">2020-02-17</time></li><li><time datetime=\"2020-03-17\">2020-03-17</time></li><li><time datetime=\"2020-04-17\">2020-04-17</time></li><li><time datetime=\"2020-05-17\">2020-05-17</time></li><li><time datetime=\"2020-06-17\">2020-06-17</time></li><li><time datetime=\"2020-07-17\">2020-07-17</time></li><li><time datetime=\"2020-08-17\">2020-08-17</time></li></ol>\n"
      ],
      "text/latex": [
       "\\begin{enumerate*}\n",
       "\\item 2020-02-17\n",
       "\\item 2020-03-17\n",
       "\\item 2020-04-17\n",
       "\\item 2020-05-17\n",
       "\\item 2020-06-17\n",
       "\\item 2020-07-17\n",
       "\\item 2020-08-17\n",
       "\\end{enumerate*}\n"
      ],
      "text/markdown": [
       "1. 2020-02-17\n",
       "2. 2020-03-17\n",
       "3. 2020-04-17\n",
       "4. 2020-05-17\n",
       "5. 2020-06-17\n",
       "6. 2020-07-17\n",
       "7. 2020-08-17\n",
       "\n",
       "\n"
      ],
      "text/plain": [
       "[1] \"2020-02-17\" \"2020-03-17\" \"2020-04-17\" \"2020-05-17\" \"2020-06-17\"\n",
       "[6] \"2020-07-17\" \"2020-08-17\""
      ]
     },
     "metadata": {},
     "output_type": "display_data"
    }
   ],
   "source": [
    "seq(from=as.Date(\"2020-02-17\"), length=7, by=\"month\")"
   ]
  },
  {
   "cell_type": "code",
   "execution_count": 7,
   "metadata": {},
   "outputs": [
    {
     "data": {
      "text/plain": [
       "[1] \"2021-03-12 IST\""
      ]
     },
     "metadata": {},
     "output_type": "display_data"
    },
    {
     "data": {
      "text/plain": [
       "[1] \"2021-03-11 23:59:55 IST\""
      ]
     },
     "metadata": {},
     "output_type": "display_data"
    }
   ],
   "source": [
    "dt2\n",
    "dt2 - 5"
   ]
  },
  {
   "cell_type": "markdown",
   "metadata": {},
   "source": [
    "• Class \"POSIXct\" represents the (signed) number of seconds since the beginning of 1970 (in the UTC time zone) as a numeric vector.\n",
    "\n",
    "• Class \"POSIXlt\" is a named list of vectors representing seconds, minutes, hours, etc."
   ]
  },
  {
   "cell_type": "code",
   "execution_count": 8,
   "metadata": {},
   "outputs": [
    {
     "data": {
      "text/plain": [
       "[1] \"2020-02-23 22:50:29 IST\""
      ]
     },
     "metadata": {},
     "output_type": "display_data"
    },
    {
     "data": {
      "text/html": [
       "<style>\n",
       ".list-inline {list-style: none; margin:0; padding: 0}\n",
       ".list-inline>li {display: inline-block}\n",
       ".list-inline>li:not(:last-child)::after {content: \"\\00b7\"; padding: 0 .5ex}\n",
       "</style>\n",
       "<ol class=list-inline><li>'POSIXct'</li><li>'POSIXt'</li></ol>\n"
      ],
      "text/latex": [
       "\\begin{enumerate*}\n",
       "\\item 'POSIXct'\n",
       "\\item 'POSIXt'\n",
       "\\end{enumerate*}\n"
      ],
      "text/markdown": [
       "1. 'POSIXct'\n",
       "2. 'POSIXt'\n",
       "\n",
       "\n"
      ],
      "text/plain": [
       "[1] \"POSIXct\" \"POSIXt\" "
      ]
     },
     "metadata": {},
     "output_type": "display_data"
    },
    {
     "data": {
      "text/plain": [
       "[1] \"2020-02-23 22:50:29 IST\""
      ]
     },
     "metadata": {},
     "output_type": "display_data"
    },
    {
     "data": {
      "text/html": [
       "<style>\n",
       ".list-inline {list-style: none; margin:0; padding: 0}\n",
       ".list-inline>li {display: inline-block}\n",
       ".list-inline>li:not(:last-child)::after {content: \"\\00b7\"; padding: 0 .5ex}\n",
       "</style>\n",
       "<ol class=list-inline><li>'POSIXct'</li><li>'POSIXt'</li></ol>\n"
      ],
      "text/latex": [
       "\\begin{enumerate*}\n",
       "\\item 'POSIXct'\n",
       "\\item 'POSIXt'\n",
       "\\end{enumerate*}\n"
      ],
      "text/markdown": [
       "1. 'POSIXct'\n",
       "2. 'POSIXt'\n",
       "\n",
       "\n"
      ],
      "text/plain": [
       "[1] \"POSIXct\" \"POSIXt\" "
      ]
     },
     "metadata": {},
     "output_type": "display_data"
    },
    {
     "data": {
      "text/html": [
       "1582478429.68865"
      ],
      "text/latex": [
       "1582478429.68865"
      ],
      "text/markdown": [
       "1582478429.68865"
      ],
      "text/plain": [
       "[1] 1582478430"
      ]
     },
     "metadata": {},
     "output_type": "display_data"
    }
   ],
   "source": [
    "dt3 <- Sys.time()\n",
    "dt3\n",
    "class(dt3)\n",
    "dt4 <- as.POSIXct(dt3)\n",
    "dt4\n",
    "class(dt4)\n",
    "unclass(dt4)"
   ]
  },
  {
   "cell_type": "code",
   "execution_count": 9,
   "metadata": {},
   "outputs": [
    {
     "data": {
      "text/plain": [
       "[1] \"2020-02-23 22:50:29 IST\""
      ]
     },
     "metadata": {},
     "output_type": "display_data"
    },
    {
     "data": {
      "text/html": [
       "<style>\n",
       ".list-inline {list-style: none; margin:0; padding: 0}\n",
       ".list-inline>li {display: inline-block}\n",
       ".list-inline>li:not(:last-child)::after {content: \"\\00b7\"; padding: 0 .5ex}\n",
       "</style>\n",
       "<ol class=list-inline><li>'POSIXlt'</li><li>'POSIXt'</li></ol>\n"
      ],
      "text/latex": [
       "\\begin{enumerate*}\n",
       "\\item 'POSIXlt'\n",
       "\\item 'POSIXt'\n",
       "\\end{enumerate*}\n"
      ],
      "text/markdown": [
       "1. 'POSIXlt'\n",
       "2. 'POSIXt'\n",
       "\n",
       "\n"
      ],
      "text/plain": [
       "[1] \"POSIXlt\" \"POSIXt\" "
      ]
     },
     "metadata": {},
     "output_type": "display_data"
    },
    {
     "data": {
      "text/html": [
       "<dl>\n",
       "\t<dt>$sec</dt>\n",
       "\t\t<dd>29.6886487007141</dd>\n",
       "\t<dt>$min</dt>\n",
       "\t\t<dd>50</dd>\n",
       "\t<dt>$hour</dt>\n",
       "\t\t<dd>22</dd>\n",
       "\t<dt>$mday</dt>\n",
       "\t\t<dd>23</dd>\n",
       "\t<dt>$mon</dt>\n",
       "\t\t<dd>1</dd>\n",
       "\t<dt>$year</dt>\n",
       "\t\t<dd>120</dd>\n",
       "\t<dt>$wday</dt>\n",
       "\t\t<dd>0</dd>\n",
       "\t<dt>$yday</dt>\n",
       "\t\t<dd>53</dd>\n",
       "\t<dt>$isdst</dt>\n",
       "\t\t<dd>0</dd>\n",
       "\t<dt>$zone</dt>\n",
       "\t\t<dd>'IST'</dd>\n",
       "\t<dt>$gmtoff</dt>\n",
       "\t\t<dd>19800</dd>\n",
       "</dl>\n"
      ],
      "text/latex": [
       "\\begin{description}\n",
       "\\item[\\$sec] 29.6886487007141\n",
       "\\item[\\$min] 50\n",
       "\\item[\\$hour] 22\n",
       "\\item[\\$mday] 23\n",
       "\\item[\\$mon] 1\n",
       "\\item[\\$year] 120\n",
       "\\item[\\$wday] 0\n",
       "\\item[\\$yday] 53\n",
       "\\item[\\$isdst] 0\n",
       "\\item[\\$zone] 'IST'\n",
       "\\item[\\$gmtoff] 19800\n",
       "\\end{description}\n"
      ],
      "text/markdown": [
       "$sec\n",
       ":   29.6886487007141\n",
       "$min\n",
       ":   50\n",
       "$hour\n",
       ":   22\n",
       "$mday\n",
       ":   23\n",
       "$mon\n",
       ":   1\n",
       "$year\n",
       ":   120\n",
       "$wday\n",
       ":   0\n",
       "$yday\n",
       ":   53\n",
       "$isdst\n",
       ":   0\n",
       "$zone\n",
       ":   'IST'\n",
       "$gmtoff\n",
       ":   19800\n",
       "\n",
       "\n"
      ],
      "text/plain": [
       "$sec\n",
       "[1] 29.68865\n",
       "\n",
       "$min\n",
       "[1] 50\n",
       "\n",
       "$hour\n",
       "[1] 22\n",
       "\n",
       "$mday\n",
       "[1] 23\n",
       "\n",
       "$mon\n",
       "[1] 1\n",
       "\n",
       "$year\n",
       "[1] 120\n",
       "\n",
       "$wday\n",
       "[1] 0\n",
       "\n",
       "$yday\n",
       "[1] 53\n",
       "\n",
       "$isdst\n",
       "[1] 0\n",
       "\n",
       "$zone\n",
       "[1] \"IST\"\n",
       "\n",
       "$gmtoff\n",
       "[1] 19800\n",
       "\n",
       "attr(,\"tzone\")\n",
       "[1] \"\"    \"IST\" \"IST\""
      ]
     },
     "metadata": {},
     "output_type": "display_data"
    }
   ],
   "source": [
    "dt5 <- as.POSIXlt(dt3)\n",
    "dt5\n",
    "class(dt5)\n",
    "unclass(dt5)"
   ]
  },
  {
   "cell_type": "code",
   "execution_count": 10,
   "metadata": {},
   "outputs": [
    {
     "name": "stderr",
     "output_type": "stream",
     "text": [
      "\n",
      "Attaching package: ‘lubridate’\n",
      "\n",
      "\n",
      "The following object is masked from ‘package:base’:\n",
      "\n",
      "    date\n",
      "\n",
      "\n"
     ]
    }
   ],
   "source": [
    "library(lubridate)"
   ]
  },
  {
   "cell_type": "code",
   "execution_count": 11,
   "metadata": {},
   "outputs": [
    {
     "data": {
      "text/html": [
       "<time datetime=\"2020-01-01\">2020-01-01</time>"
      ],
      "text/latex": [
       "2020-01-01"
      ],
      "text/markdown": [
       "2020-01-01"
      ],
      "text/plain": [
       "[1] \"2020-01-01\""
      ]
     },
     "metadata": {},
     "output_type": "display_data"
    }
   ],
   "source": [
    "dmy(010120)"
   ]
  },
  {
   "cell_type": "code",
   "execution_count": 12,
   "metadata": {},
   "outputs": [
    {
     "data": {
      "text/plain": [
       "[1] \"2020-02-02 10:10:10 UTC\""
      ]
     },
     "metadata": {},
     "output_type": "display_data"
    },
    {
     "data": {
      "text/plain": [
       "[1] \"2020-03-08 10:10:10 UTC\""
      ]
     },
     "metadata": {},
     "output_type": "display_data"
    },
    {
     "data": {
      "text/html": [
       "<style>\n",
       ".list-inline {list-style: none; margin:0; padding: 0}\n",
       ".list-inline>li {display: inline-block}\n",
       ".list-inline>li:not(:last-child)::after {content: \"\\00b7\"; padding: 0 .5ex}\n",
       "</style>\n",
       "<ol class=list-inline><li>'POSIXct'</li><li>'POSIXt'</li></ol>\n"
      ],
      "text/latex": [
       "\\begin{enumerate*}\n",
       "\\item 'POSIXct'\n",
       "\\item 'POSIXt'\n",
       "\\end{enumerate*}\n"
      ],
      "text/markdown": [
       "1. 'POSIXct'\n",
       "2. 'POSIXt'\n",
       "\n",
       "\n"
      ],
      "text/plain": [
       "[1] \"POSIXct\" \"POSIXt\" "
      ]
     },
     "metadata": {},
     "output_type": "display_data"
    }
   ],
   "source": [
    "ymd_hms(200202101010)\n",
    "dt5 <- ymd_hms(\"2020 Mar 08 10:10:10\")\n",
    "dt5\n",
    "class(dt5)"
   ]
  },
  {
   "cell_type": "code",
   "execution_count": 13,
   "metadata": {},
   "outputs": [
    {
     "name": "stderr",
     "output_type": "stream",
     "text": [
      "Warning message:\n",
      "“hms, hm and ms usage is deprecated, please use HMS, HM or MS instead. Deprecated in version '1.5.6'.”\n"
     ]
    },
    {
     "data": {
      "text/plain": [
       "[1] \"2020-03-08 10:10:10 UTC\""
      ]
     },
     "metadata": {},
     "output_type": "display_data"
    },
    {
     "data": {
      "text/html": [
       "<style>\n",
       ".list-inline {list-style: none; margin:0; padding: 0}\n",
       ".list-inline>li {display: inline-block}\n",
       ".list-inline>li:not(:last-child)::after {content: \"\\00b7\"; padding: 0 .5ex}\n",
       "</style>\n",
       "<ol class=list-inline><li>'POSIXct'</li><li>'POSIXt'</li></ol>\n"
      ],
      "text/latex": [
       "\\begin{enumerate*}\n",
       "\\item 'POSIXct'\n",
       "\\item 'POSIXt'\n",
       "\\end{enumerate*}\n"
      ],
      "text/markdown": [
       "1. 'POSIXct'\n",
       "2. 'POSIXt'\n",
       "\n",
       "\n"
      ],
      "text/plain": [
       "[1] \"POSIXct\" \"POSIXt\" "
      ]
     },
     "metadata": {},
     "output_type": "display_data"
    }
   ],
   "source": [
    "dt5 <- ymd_hms(\"2020 Mar 08 10:10:10\")\n",
    "dt6 <- parse_date_time(dt5, \"ymd_hms\")\n",
    "dt6\n",
    "class(dt6)"
   ]
  },
  {
   "cell_type": "code",
   "execution_count": 14,
   "metadata": {},
   "outputs": [
    {
     "data": {
      "text/plain": [
       "[1] \"2021-12-28 00:00:30 UTC\""
      ]
     },
     "metadata": {},
     "output_type": "display_data"
    }
   ],
   "source": [
    "make_datetime(year=2021, month=12, day=28, sec=30)"
   ]
  },
  {
   "cell_type": "code",
   "execution_count": 15,
   "metadata": {},
   "outputs": [
    {
     "data": {
      "text/plain": [
       "[1] \"2020-03-08 10:10:10 UTC\""
      ]
     },
     "metadata": {},
     "output_type": "display_data"
    },
    {
     "data": {
      "text/html": [
       "8"
      ],
      "text/latex": [
       "8"
      ],
      "text/markdown": [
       "8"
      ],
      "text/plain": [
       "[1] 8"
      ]
     },
     "metadata": {},
     "output_type": "display_data"
    },
    {
     "data": {
      "text/html": [
       "3"
      ],
      "text/latex": [
       "3"
      ],
      "text/markdown": [
       "3"
      ],
      "text/plain": [
       "[1] 3"
      ]
     },
     "metadata": {},
     "output_type": "display_data"
    },
    {
     "data": {
      "text/html": [
       "10"
      ],
      "text/latex": [
       "10"
      ],
      "text/markdown": [
       "10"
      ],
      "text/plain": [
       "[1] 10"
      ]
     },
     "metadata": {},
     "output_type": "display_data"
    },
    {
     "data": {
      "text/html": [
       "<pre class=language-r><code>function (x) \n",
       "UseMethod(\"year\")</code></pre>"
      ],
      "text/latex": [
       "\\begin{minted}{r}\n",
       "function (x) \n",
       "UseMethod(\"year\")\n",
       "\\end{minted}"
      ],
      "text/markdown": [
       "```r\n",
       "function (x) \n",
       "UseMethod(\"year\")\n",
       "```"
      ],
      "text/plain": [
       "function (x) \n",
       "UseMethod(\"year\")\n",
       "<bytecode: 0x55bbaba292f0>\n",
       "<environment: namespace:lubridate>"
      ]
     },
     "metadata": {},
     "output_type": "display_data"
    }
   ],
   "source": [
    "dt6\n",
    "day(dt6)\n",
    "month(dt6)\n",
    "week(dt6)\n",
    "year"
   ]
  },
  {
   "cell_type": "code",
   "execution_count": 16,
   "metadata": {},
   "outputs": [
    {
     "data": {
      "text/plain": [
       "[1] \"2020-03-08 10:10:10 UTC\""
      ]
     },
     "metadata": {},
     "output_type": "display_data"
    },
    {
     "data": {
      "text/plain": [
       "[1] \"2020-04-08 10:30:10 UTC\""
      ]
     },
     "metadata": {},
     "output_type": "display_data"
    }
   ],
   "source": [
    "dt6\n",
    "minute(dt6) <- 30\n",
    "month(dt6) <- 4\n",
    "dt6"
   ]
  }
 ],
 "metadata": {
  "kernelspec": {
   "display_name": "R",
   "language": "R",
   "name": "ir"
  },
  "language_info": {
   "codemirror_mode": "r",
   "file_extension": ".r",
   "mimetype": "text/x-r-source",
   "name": "R",
   "pygments_lexer": "r",
   "version": "3.6.2"
  }
 },
 "nbformat": 4,
 "nbformat_minor": 2
}
