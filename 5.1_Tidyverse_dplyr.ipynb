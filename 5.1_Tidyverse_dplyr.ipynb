{
 "cells": [
  {
   "cell_type": "code",
   "execution_count": 1,
   "metadata": {},
   "outputs": [
    {
     "name": "stderr",
     "output_type": "stream",
     "text": [
      "── \u001b[1mAttaching packages\u001b[22m ─────────────────────────────────────── tidyverse 1.3.0 ──\n",
      "\n",
      "\u001b[32m✔\u001b[39m \u001b[34mggplot2\u001b[39m 3.2.1     \u001b[32m✔\u001b[39m \u001b[34mpurrr  \u001b[39m 0.3.3\n",
      "\u001b[32m✔\u001b[39m \u001b[34mtibble \u001b[39m 2.1.3     \u001b[32m✔\u001b[39m \u001b[34mdplyr  \u001b[39m 0.8.4\n",
      "\u001b[32m✔\u001b[39m \u001b[34mtidyr  \u001b[39m 1.0.2     \u001b[32m✔\u001b[39m \u001b[34mstringr\u001b[39m 1.4.0\n",
      "\u001b[32m✔\u001b[39m \u001b[34mreadr  \u001b[39m 1.3.1     \u001b[32m✔\u001b[39m \u001b[34mforcats\u001b[39m 0.4.0\n",
      "\n",
      "── \u001b[1mConflicts\u001b[22m ────────────────────────────────────────── tidyverse_conflicts() ──\n",
      "\u001b[31m✖\u001b[39m \u001b[34mdplyr\u001b[39m::\u001b[32mfilter()\u001b[39m masks \u001b[34mstats\u001b[39m::filter()\n",
      "\u001b[31m✖\u001b[39m \u001b[34mdplyr\u001b[39m::\u001b[32mlag()\u001b[39m    masks \u001b[34mstats\u001b[39m::lag()\n",
      "\n"
     ]
    }
   ],
   "source": [
    "library(tidyverse)"
   ]
  },
  {
   "cell_type": "markdown",
   "metadata": {},
   "source": [
    "**dplyr**\n",
    "\n",
    "• All the functions in package dplyr require an object of class *tbl_df*\n",
    "\n",
    "• We can create an object of class tbl_df. It can be created by function *as_tibble*\n",
    "\n",
    "A tibble, or tbl_df, is a modern reimagining of the data.frame. It has a convenient print method, will not convert strings to factors, and does not use row names"
   ]
  },
  {
   "cell_type": "code",
   "execution_count": 2,
   "metadata": {},
   "outputs": [
    {
     "data": {
      "text/html": [
       "<table>\n",
       "<caption>A data.frame: 6 × 11</caption>\n",
       "<thead>\n",
       "\t<tr><th></th><th scope=col>mpg</th><th scope=col>cyl</th><th scope=col>disp</th><th scope=col>hp</th><th scope=col>drat</th><th scope=col>wt</th><th scope=col>qsec</th><th scope=col>vs</th><th scope=col>am</th><th scope=col>gear</th><th scope=col>carb</th></tr>\n",
       "\t<tr><th></th><th scope=col>&lt;dbl&gt;</th><th scope=col>&lt;dbl&gt;</th><th scope=col>&lt;dbl&gt;</th><th scope=col>&lt;dbl&gt;</th><th scope=col>&lt;dbl&gt;</th><th scope=col>&lt;dbl&gt;</th><th scope=col>&lt;dbl&gt;</th><th scope=col>&lt;dbl&gt;</th><th scope=col>&lt;dbl&gt;</th><th scope=col>&lt;dbl&gt;</th><th scope=col>&lt;dbl&gt;</th></tr>\n",
       "</thead>\n",
       "<tbody>\n",
       "\t<tr><th scope=row>Mazda RX4</th><td>21.0</td><td>6</td><td>160</td><td>110</td><td>3.90</td><td>2.620</td><td>16.46</td><td>0</td><td>1</td><td>4</td><td>4</td></tr>\n",
       "\t<tr><th scope=row>Mazda RX4 Wag</th><td>21.0</td><td>6</td><td>160</td><td>110</td><td>3.90</td><td>2.875</td><td>17.02</td><td>0</td><td>1</td><td>4</td><td>4</td></tr>\n",
       "\t<tr><th scope=row>Datsun 710</th><td>22.8</td><td>4</td><td>108</td><td> 93</td><td>3.85</td><td>2.320</td><td>18.61</td><td>1</td><td>1</td><td>4</td><td>1</td></tr>\n",
       "\t<tr><th scope=row>Hornet 4 Drive</th><td>21.4</td><td>6</td><td>258</td><td>110</td><td>3.08</td><td>3.215</td><td>19.44</td><td>1</td><td>0</td><td>3</td><td>1</td></tr>\n",
       "\t<tr><th scope=row>Hornet Sportabout</th><td>18.7</td><td>8</td><td>360</td><td>175</td><td>3.15</td><td>3.440</td><td>17.02</td><td>0</td><td>0</td><td>3</td><td>2</td></tr>\n",
       "\t<tr><th scope=row>Valiant</th><td>18.1</td><td>6</td><td>225</td><td>105</td><td>2.76</td><td>3.460</td><td>20.22</td><td>1</td><td>0</td><td>3</td><td>1</td></tr>\n",
       "</tbody>\n",
       "</table>\n"
      ],
      "text/latex": [
       "A data.frame: 6 × 11\n",
       "\\begin{tabular}{r|lllllllllll}\n",
       "  & mpg & cyl & disp & hp & drat & wt & qsec & vs & am & gear & carb\\\\\n",
       "  & <dbl> & <dbl> & <dbl> & <dbl> & <dbl> & <dbl> & <dbl> & <dbl> & <dbl> & <dbl> & <dbl>\\\\\n",
       "\\hline\n",
       "\tMazda RX4 & 21.0 & 6 & 160 & 110 & 3.90 & 2.620 & 16.46 & 0 & 1 & 4 & 4\\\\\n",
       "\tMazda RX4 Wag & 21.0 & 6 & 160 & 110 & 3.90 & 2.875 & 17.02 & 0 & 1 & 4 & 4\\\\\n",
       "\tDatsun 710 & 22.8 & 4 & 108 &  93 & 3.85 & 2.320 & 18.61 & 1 & 1 & 4 & 1\\\\\n",
       "\tHornet 4 Drive & 21.4 & 6 & 258 & 110 & 3.08 & 3.215 & 19.44 & 1 & 0 & 3 & 1\\\\\n",
       "\tHornet Sportabout & 18.7 & 8 & 360 & 175 & 3.15 & 3.440 & 17.02 & 0 & 0 & 3 & 2\\\\\n",
       "\tValiant & 18.1 & 6 & 225 & 105 & 2.76 & 3.460 & 20.22 & 1 & 0 & 3 & 1\\\\\n",
       "\\end{tabular}\n"
      ],
      "text/markdown": [
       "\n",
       "A data.frame: 6 × 11\n",
       "\n",
       "| <!--/--> | mpg &lt;dbl&gt; | cyl &lt;dbl&gt; | disp &lt;dbl&gt; | hp &lt;dbl&gt; | drat &lt;dbl&gt; | wt &lt;dbl&gt; | qsec &lt;dbl&gt; | vs &lt;dbl&gt; | am &lt;dbl&gt; | gear &lt;dbl&gt; | carb &lt;dbl&gt; |\n",
       "|---|---|---|---|---|---|---|---|---|---|---|---|\n",
       "| Mazda RX4 | 21.0 | 6 | 160 | 110 | 3.90 | 2.620 | 16.46 | 0 | 1 | 4 | 4 |\n",
       "| Mazda RX4 Wag | 21.0 | 6 | 160 | 110 | 3.90 | 2.875 | 17.02 | 0 | 1 | 4 | 4 |\n",
       "| Datsun 710 | 22.8 | 4 | 108 |  93 | 3.85 | 2.320 | 18.61 | 1 | 1 | 4 | 1 |\n",
       "| Hornet 4 Drive | 21.4 | 6 | 258 | 110 | 3.08 | 3.215 | 19.44 | 1 | 0 | 3 | 1 |\n",
       "| Hornet Sportabout | 18.7 | 8 | 360 | 175 | 3.15 | 3.440 | 17.02 | 0 | 0 | 3 | 2 |\n",
       "| Valiant | 18.1 | 6 | 225 | 105 | 2.76 | 3.460 | 20.22 | 1 | 0 | 3 | 1 |\n",
       "\n"
      ],
      "text/plain": [
       "                  mpg  cyl disp hp  drat wt    qsec  vs am gear carb\n",
       "Mazda RX4         21.0 6   160  110 3.90 2.620 16.46 0  1  4    4   \n",
       "Mazda RX4 Wag     21.0 6   160  110 3.90 2.875 17.02 0  1  4    4   \n",
       "Datsun 710        22.8 4   108   93 3.85 2.320 18.61 1  1  4    1   \n",
       "Hornet 4 Drive    21.4 6   258  110 3.08 3.215 19.44 1  0  3    1   \n",
       "Hornet Sportabout 18.7 8   360  175 3.15 3.440 17.02 0  0  3    2   \n",
       "Valiant           18.1 6   225  105 2.76 3.460 20.22 1  0  3    1   "
      ]
     },
     "metadata": {},
     "output_type": "display_data"
    },
    {
     "data": {
      "text/html": [
       "<style>\n",
       ".list-inline {list-style: none; margin:0; padding: 0}\n",
       ".list-inline>li {display: inline-block}\n",
       ".list-inline>li:not(:last-child)::after {content: \"\\00b7\"; padding: 0 .5ex}\n",
       "</style>\n",
       "<ol class=list-inline><li>'tbl_df'</li><li>'tbl'</li><li>'data.frame'</li></ol>\n"
      ],
      "text/latex": [
       "\\begin{enumerate*}\n",
       "\\item 'tbl\\_df'\n",
       "\\item 'tbl'\n",
       "\\item 'data.frame'\n",
       "\\end{enumerate*}\n"
      ],
      "text/markdown": [
       "1. 'tbl_df'\n",
       "2. 'tbl'\n",
       "3. 'data.frame'\n",
       "\n",
       "\n"
      ],
      "text/plain": [
       "[1] \"tbl_df\"     \"tbl\"        \"data.frame\""
      ]
     },
     "metadata": {},
     "output_type": "display_data"
    },
    {
     "data": {
      "text/html": [
       "<table>\n",
       "<caption>A tibble: 6 × 11</caption>\n",
       "<thead>\n",
       "\t<tr><th scope=col>mpg</th><th scope=col>cyl</th><th scope=col>disp</th><th scope=col>hp</th><th scope=col>drat</th><th scope=col>wt</th><th scope=col>qsec</th><th scope=col>vs</th><th scope=col>am</th><th scope=col>gear</th><th scope=col>carb</th></tr>\n",
       "\t<tr><th scope=col>&lt;dbl&gt;</th><th scope=col>&lt;dbl&gt;</th><th scope=col>&lt;dbl&gt;</th><th scope=col>&lt;dbl&gt;</th><th scope=col>&lt;dbl&gt;</th><th scope=col>&lt;dbl&gt;</th><th scope=col>&lt;dbl&gt;</th><th scope=col>&lt;dbl&gt;</th><th scope=col>&lt;dbl&gt;</th><th scope=col>&lt;dbl&gt;</th><th scope=col>&lt;dbl&gt;</th></tr>\n",
       "</thead>\n",
       "<tbody>\n",
       "\t<tr><td>21.0</td><td>6</td><td>160</td><td>110</td><td>3.90</td><td>2.620</td><td>16.46</td><td>0</td><td>1</td><td>4</td><td>4</td></tr>\n",
       "\t<tr><td>21.0</td><td>6</td><td>160</td><td>110</td><td>3.90</td><td>2.875</td><td>17.02</td><td>0</td><td>1</td><td>4</td><td>4</td></tr>\n",
       "\t<tr><td>22.8</td><td>4</td><td>108</td><td> 93</td><td>3.85</td><td>2.320</td><td>18.61</td><td>1</td><td>1</td><td>4</td><td>1</td></tr>\n",
       "\t<tr><td>21.4</td><td>6</td><td>258</td><td>110</td><td>3.08</td><td>3.215</td><td>19.44</td><td>1</td><td>0</td><td>3</td><td>1</td></tr>\n",
       "\t<tr><td>18.7</td><td>8</td><td>360</td><td>175</td><td>3.15</td><td>3.440</td><td>17.02</td><td>0</td><td>0</td><td>3</td><td>2</td></tr>\n",
       "\t<tr><td>18.1</td><td>6</td><td>225</td><td>105</td><td>2.76</td><td>3.460</td><td>20.22</td><td>1</td><td>0</td><td>3</td><td>1</td></tr>\n",
       "</tbody>\n",
       "</table>\n"
      ],
      "text/latex": [
       "A tibble: 6 × 11\n",
       "\\begin{tabular}{lllllllllll}\n",
       " mpg & cyl & disp & hp & drat & wt & qsec & vs & am & gear & carb\\\\\n",
       " <dbl> & <dbl> & <dbl> & <dbl> & <dbl> & <dbl> & <dbl> & <dbl> & <dbl> & <dbl> & <dbl>\\\\\n",
       "\\hline\n",
       "\t 21.0 & 6 & 160 & 110 & 3.90 & 2.620 & 16.46 & 0 & 1 & 4 & 4\\\\\n",
       "\t 21.0 & 6 & 160 & 110 & 3.90 & 2.875 & 17.02 & 0 & 1 & 4 & 4\\\\\n",
       "\t 22.8 & 4 & 108 &  93 & 3.85 & 2.320 & 18.61 & 1 & 1 & 4 & 1\\\\\n",
       "\t 21.4 & 6 & 258 & 110 & 3.08 & 3.215 & 19.44 & 1 & 0 & 3 & 1\\\\\n",
       "\t 18.7 & 8 & 360 & 175 & 3.15 & 3.440 & 17.02 & 0 & 0 & 3 & 2\\\\\n",
       "\t 18.1 & 6 & 225 & 105 & 2.76 & 3.460 & 20.22 & 1 & 0 & 3 & 1\\\\\n",
       "\\end{tabular}\n"
      ],
      "text/markdown": [
       "\n",
       "A tibble: 6 × 11\n",
       "\n",
       "| mpg &lt;dbl&gt; | cyl &lt;dbl&gt; | disp &lt;dbl&gt; | hp &lt;dbl&gt; | drat &lt;dbl&gt; | wt &lt;dbl&gt; | qsec &lt;dbl&gt; | vs &lt;dbl&gt; | am &lt;dbl&gt; | gear &lt;dbl&gt; | carb &lt;dbl&gt; |\n",
       "|---|---|---|---|---|---|---|---|---|---|---|\n",
       "| 21.0 | 6 | 160 | 110 | 3.90 | 2.620 | 16.46 | 0 | 1 | 4 | 4 |\n",
       "| 21.0 | 6 | 160 | 110 | 3.90 | 2.875 | 17.02 | 0 | 1 | 4 | 4 |\n",
       "| 22.8 | 4 | 108 |  93 | 3.85 | 2.320 | 18.61 | 1 | 1 | 4 | 1 |\n",
       "| 21.4 | 6 | 258 | 110 | 3.08 | 3.215 | 19.44 | 1 | 0 | 3 | 1 |\n",
       "| 18.7 | 8 | 360 | 175 | 3.15 | 3.440 | 17.02 | 0 | 0 | 3 | 2 |\n",
       "| 18.1 | 6 | 225 | 105 | 2.76 | 3.460 | 20.22 | 1 | 0 | 3 | 1 |\n",
       "\n"
      ],
      "text/plain": [
       "  mpg  cyl disp hp  drat wt    qsec  vs am gear carb\n",
       "1 21.0 6   160  110 3.90 2.620 16.46 0  1  4    4   \n",
       "2 21.0 6   160  110 3.90 2.875 17.02 0  1  4    4   \n",
       "3 22.8 4   108   93 3.85 2.320 18.61 1  1  4    1   \n",
       "4 21.4 6   258  110 3.08 3.215 19.44 1  0  3    1   \n",
       "5 18.7 8   360  175 3.15 3.440 17.02 0  0  3    2   \n",
       "6 18.1 6   225  105 2.76 3.460 20.22 1  0  3    1   "
      ]
     },
     "metadata": {},
     "output_type": "display_data"
    }
   ],
   "source": [
    "head(mtcars)\n",
    "dd <- as_tibble(mtcars)\n",
    "class(dd)\n",
    "head(dd)"
   ]
  },
  {
   "cell_type": "code",
   "execution_count": 3,
   "metadata": {},
   "outputs": [
    {
     "data": {
      "text/html": [
       "<table>\n",
       "<caption>A data.frame: 6 × 27</caption>\n",
       "<thead>\n",
       "\t<tr><th></th><th scope=col>Manufacturer</th><th scope=col>Model</th><th scope=col>Type</th><th scope=col>Min.Price</th><th scope=col>Price</th><th scope=col>Max.Price</th><th scope=col>MPG.city</th><th scope=col>MPG.highway</th><th scope=col>AirBags</th><th scope=col>DriveTrain</th><th scope=col>⋯</th><th scope=col>Passengers</th><th scope=col>Length</th><th scope=col>Wheelbase</th><th scope=col>Width</th><th scope=col>Turn.circle</th><th scope=col>Rear.seat.room</th><th scope=col>Luggage.room</th><th scope=col>Weight</th><th scope=col>Origin</th><th scope=col>Make</th></tr>\n",
       "\t<tr><th></th><th scope=col>&lt;fct&gt;</th><th scope=col>&lt;fct&gt;</th><th scope=col>&lt;fct&gt;</th><th scope=col>&lt;dbl&gt;</th><th scope=col>&lt;dbl&gt;</th><th scope=col>&lt;dbl&gt;</th><th scope=col>&lt;int&gt;</th><th scope=col>&lt;int&gt;</th><th scope=col>&lt;fct&gt;</th><th scope=col>&lt;fct&gt;</th><th scope=col>⋯</th><th scope=col>&lt;int&gt;</th><th scope=col>&lt;int&gt;</th><th scope=col>&lt;int&gt;</th><th scope=col>&lt;int&gt;</th><th scope=col>&lt;int&gt;</th><th scope=col>&lt;dbl&gt;</th><th scope=col>&lt;int&gt;</th><th scope=col>&lt;int&gt;</th><th scope=col>&lt;fct&gt;</th><th scope=col>&lt;fct&gt;</th></tr>\n",
       "</thead>\n",
       "<tbody>\n",
       "\t<tr><th scope=row>1</th><td>Acura</td><td>Integra</td><td>Small  </td><td>12.9</td><td>15.9</td><td>18.8</td><td>25</td><td>31</td><td>None              </td><td>Front</td><td>⋯</td><td>5</td><td>177</td><td>102</td><td>68</td><td>37</td><td>26.5</td><td>11</td><td>2705</td><td>non-USA</td><td>Acura Integra</td></tr>\n",
       "\t<tr><th scope=row>2</th><td>Acura</td><td>Legend </td><td>Midsize</td><td>29.2</td><td>33.9</td><td>38.7</td><td>18</td><td>25</td><td>Driver &amp; Passenger</td><td>Front</td><td>⋯</td><td>5</td><td>195</td><td>115</td><td>71</td><td>38</td><td>30.0</td><td>15</td><td>3560</td><td>non-USA</td><td>Acura Legend </td></tr>\n",
       "\t<tr><th scope=row>3</th><td>Audi </td><td>90     </td><td>Compact</td><td>25.9</td><td>29.1</td><td>32.3</td><td>20</td><td>26</td><td>Driver only       </td><td>Front</td><td>⋯</td><td>5</td><td>180</td><td>102</td><td>67</td><td>37</td><td>28.0</td><td>14</td><td>3375</td><td>non-USA</td><td>Audi 90      </td></tr>\n",
       "\t<tr><th scope=row>4</th><td>Audi </td><td><span style=white-space:pre-wrap>100    </span></td><td>Midsize</td><td>30.8</td><td>37.7</td><td>44.6</td><td>19</td><td>26</td><td>Driver &amp; Passenger</td><td>Front</td><td>⋯</td><td>6</td><td>193</td><td>106</td><td>70</td><td>37</td><td>31.0</td><td>17</td><td>3405</td><td>non-USA</td><td><span style=white-space:pre-wrap>Audi 100     </span></td></tr>\n",
       "\t<tr><th scope=row>5</th><td>BMW  </td><td>535i   </td><td>Midsize</td><td>23.7</td><td>30.0</td><td>36.2</td><td>22</td><td>30</td><td>Driver only       </td><td>Rear </td><td>⋯</td><td>4</td><td>186</td><td>109</td><td>69</td><td>39</td><td>27.0</td><td>13</td><td>3640</td><td>non-USA</td><td>BMW 535i     </td></tr>\n",
       "\t<tr><th scope=row>6</th><td>Buick</td><td>Century</td><td>Midsize</td><td>14.2</td><td>15.7</td><td>17.3</td><td>22</td><td>31</td><td>Driver only       </td><td>Front</td><td>⋯</td><td>6</td><td>189</td><td>105</td><td>69</td><td>41</td><td>28.0</td><td>16</td><td>2880</td><td>USA    </td><td>Buick Century</td></tr>\n",
       "</tbody>\n",
       "</table>\n"
      ],
      "text/latex": [
       "A data.frame: 6 × 27\n",
       "\\begin{tabular}{r|lllllllllllllllllllll}\n",
       "  & Manufacturer & Model & Type & Min.Price & Price & Max.Price & MPG.city & MPG.highway & AirBags & DriveTrain & ⋯ & Passengers & Length & Wheelbase & Width & Turn.circle & Rear.seat.room & Luggage.room & Weight & Origin & Make\\\\\n",
       "  & <fct> & <fct> & <fct> & <dbl> & <dbl> & <dbl> & <int> & <int> & <fct> & <fct> & ⋯ & <int> & <int> & <int> & <int> & <int> & <dbl> & <int> & <int> & <fct> & <fct>\\\\\n",
       "\\hline\n",
       "\t1 & Acura & Integra & Small   & 12.9 & 15.9 & 18.8 & 25 & 31 & None               & Front & ⋯ & 5 & 177 & 102 & 68 & 37 & 26.5 & 11 & 2705 & non-USA & Acura Integra\\\\\n",
       "\t2 & Acura & Legend  & Midsize & 29.2 & 33.9 & 38.7 & 18 & 25 & Driver \\& Passenger & Front & ⋯ & 5 & 195 & 115 & 71 & 38 & 30.0 & 15 & 3560 & non-USA & Acura Legend \\\\\n",
       "\t3 & Audi  & 90      & Compact & 25.9 & 29.1 & 32.3 & 20 & 26 & Driver only        & Front & ⋯ & 5 & 180 & 102 & 67 & 37 & 28.0 & 14 & 3375 & non-USA & Audi 90      \\\\\n",
       "\t4 & Audi  & 100     & Midsize & 30.8 & 37.7 & 44.6 & 19 & 26 & Driver \\& Passenger & Front & ⋯ & 6 & 193 & 106 & 70 & 37 & 31.0 & 17 & 3405 & non-USA & Audi 100     \\\\\n",
       "\t5 & BMW   & 535i    & Midsize & 23.7 & 30.0 & 36.2 & 22 & 30 & Driver only        & Rear  & ⋯ & 4 & 186 & 109 & 69 & 39 & 27.0 & 13 & 3640 & non-USA & BMW 535i     \\\\\n",
       "\t6 & Buick & Century & Midsize & 14.2 & 15.7 & 17.3 & 22 & 31 & Driver only        & Front & ⋯ & 6 & 189 & 105 & 69 & 41 & 28.0 & 16 & 2880 & USA     & Buick Century\\\\\n",
       "\\end{tabular}\n"
      ],
      "text/markdown": [
       "\n",
       "A data.frame: 6 × 27\n",
       "\n",
       "| <!--/--> | Manufacturer &lt;fct&gt; | Model &lt;fct&gt; | Type &lt;fct&gt; | Min.Price &lt;dbl&gt; | Price &lt;dbl&gt; | Max.Price &lt;dbl&gt; | MPG.city &lt;int&gt; | MPG.highway &lt;int&gt; | AirBags &lt;fct&gt; | DriveTrain &lt;fct&gt; | ⋯ ⋯ | Passengers &lt;int&gt; | Length &lt;int&gt; | Wheelbase &lt;int&gt; | Width &lt;int&gt; | Turn.circle &lt;int&gt; | Rear.seat.room &lt;dbl&gt; | Luggage.room &lt;int&gt; | Weight &lt;int&gt; | Origin &lt;fct&gt; | Make &lt;fct&gt; |\n",
       "|---|---|---|---|---|---|---|---|---|---|---|---|---|---|---|---|---|---|---|---|---|---|\n",
       "| 1 | Acura | Integra | Small   | 12.9 | 15.9 | 18.8 | 25 | 31 | None               | Front | ⋯ | 5 | 177 | 102 | 68 | 37 | 26.5 | 11 | 2705 | non-USA | Acura Integra |\n",
       "| 2 | Acura | Legend  | Midsize | 29.2 | 33.9 | 38.7 | 18 | 25 | Driver &amp; Passenger | Front | ⋯ | 5 | 195 | 115 | 71 | 38 | 30.0 | 15 | 3560 | non-USA | Acura Legend  |\n",
       "| 3 | Audi  | 90      | Compact | 25.9 | 29.1 | 32.3 | 20 | 26 | Driver only        | Front | ⋯ | 5 | 180 | 102 | 67 | 37 | 28.0 | 14 | 3375 | non-USA | Audi 90       |\n",
       "| 4 | Audi  | 100     | Midsize | 30.8 | 37.7 | 44.6 | 19 | 26 | Driver &amp; Passenger | Front | ⋯ | 6 | 193 | 106 | 70 | 37 | 31.0 | 17 | 3405 | non-USA | Audi 100      |\n",
       "| 5 | BMW   | 535i    | Midsize | 23.7 | 30.0 | 36.2 | 22 | 30 | Driver only        | Rear  | ⋯ | 4 | 186 | 109 | 69 | 39 | 27.0 | 13 | 3640 | non-USA | BMW 535i      |\n",
       "| 6 | Buick | Century | Midsize | 14.2 | 15.7 | 17.3 | 22 | 31 | Driver only        | Front | ⋯ | 6 | 189 | 105 | 69 | 41 | 28.0 | 16 | 2880 | USA     | Buick Century |\n",
       "\n"
      ],
      "text/plain": [
       "  Manufacturer Model   Type    Min.Price Price Max.Price MPG.city MPG.highway\n",
       "1 Acura        Integra Small   12.9      15.9  18.8      25       31         \n",
       "2 Acura        Legend  Midsize 29.2      33.9  38.7      18       25         \n",
       "3 Audi         90      Compact 25.9      29.1  32.3      20       26         \n",
       "4 Audi         100     Midsize 30.8      37.7  44.6      19       26         \n",
       "5 BMW          535i    Midsize 23.7      30.0  36.2      22       30         \n",
       "6 Buick        Century Midsize 14.2      15.7  17.3      22       31         \n",
       "  AirBags            DriveTrain ⋯ Passengers Length Wheelbase Width Turn.circle\n",
       "1 None               Front      ⋯ 5          177    102       68    37         \n",
       "2 Driver & Passenger Front      ⋯ 5          195    115       71    38         \n",
       "3 Driver only        Front      ⋯ 5          180    102       67    37         \n",
       "4 Driver & Passenger Front      ⋯ 6          193    106       70    37         \n",
       "5 Driver only        Rear       ⋯ 4          186    109       69    39         \n",
       "6 Driver only        Front      ⋯ 6          189    105       69    41         \n",
       "  Rear.seat.room Luggage.room Weight Origin  Make         \n",
       "1 26.5           11           2705   non-USA Acura Integra\n",
       "2 30.0           15           3560   non-USA Acura Legend \n",
       "3 28.0           14           3375   non-USA Audi 90      \n",
       "4 31.0           17           3405   non-USA Audi 100     \n",
       "5 27.0           13           3640   non-USA BMW 535i     \n",
       "6 28.0           16           2880   USA     Buick Century"
      ]
     },
     "metadata": {},
     "output_type": "display_data"
    }
   ],
   "source": [
    "tbl1 <- read.csv(\"Cars93.csv\")\n",
    "head(tbl1)"
   ]
  },
  {
   "cell_type": "code",
   "execution_count": 4,
   "metadata": {},
   "outputs": [
    {
     "data": {
      "text/html": [
       "<table>\n",
       "<caption>A data.frame: 6 × 27</caption>\n",
       "<thead>\n",
       "\t<tr><th></th><th scope=col>Manufacturer</th><th scope=col>Model</th><th scope=col>Type</th><th scope=col>Min.Price</th><th scope=col>Price</th><th scope=col>Max.Price</th><th scope=col>MPG.city</th><th scope=col>MPG.highway</th><th scope=col>AirBags</th><th scope=col>DriveTrain</th><th scope=col>⋯</th><th scope=col>Passengers</th><th scope=col>Length</th><th scope=col>Wheelbase</th><th scope=col>Width</th><th scope=col>Turn.circle</th><th scope=col>Rear.seat.room</th><th scope=col>Luggage.room</th><th scope=col>Weight</th><th scope=col>Origin</th><th scope=col>Make</th></tr>\n",
       "\t<tr><th></th><th scope=col>&lt;fct&gt;</th><th scope=col>&lt;fct&gt;</th><th scope=col>&lt;fct&gt;</th><th scope=col>&lt;dbl&gt;</th><th scope=col>&lt;dbl&gt;</th><th scope=col>&lt;dbl&gt;</th><th scope=col>&lt;int&gt;</th><th scope=col>&lt;int&gt;</th><th scope=col>&lt;fct&gt;</th><th scope=col>&lt;fct&gt;</th><th scope=col>⋯</th><th scope=col>&lt;int&gt;</th><th scope=col>&lt;int&gt;</th><th scope=col>&lt;int&gt;</th><th scope=col>&lt;int&gt;</th><th scope=col>&lt;int&gt;</th><th scope=col>&lt;dbl&gt;</th><th scope=col>&lt;int&gt;</th><th scope=col>&lt;int&gt;</th><th scope=col>&lt;fct&gt;</th><th scope=col>&lt;fct&gt;</th></tr>\n",
       "</thead>\n",
       "<tbody>\n",
       "\t<tr><th scope=row>1</th><td>Volvo     </td><td>240    </td><td>Compact</td><td>21.8</td><td>22.7</td><td>23.5</td><td>21</td><td>28</td><td>Driver only       </td><td>Rear </td><td>⋯</td><td>5</td><td>190</td><td>104</td><td>67</td><td>37</td><td>29.5</td><td>14</td><td>2985</td><td>non-USA</td><td>Volvo 240         </td></tr>\n",
       "\t<tr><th scope=row>2</th><td><span style=white-space:pre-wrap>Volvo     </span></td><td><span style=white-space:pre-wrap>850    </span></td><td>Midsize</td><td>24.8</td><td>26.7</td><td>28.5</td><td>20</td><td>28</td><td>Driver &amp; Passenger</td><td>Front</td><td>⋯</td><td>5</td><td>184</td><td>105</td><td>69</td><td>38</td><td>30.0</td><td>15</td><td>3245</td><td>non-USA</td><td><span style=white-space:pre-wrap>Volvo 850         </span></td></tr>\n",
       "\t<tr><th scope=row>3</th><td>Volkswagen</td><td>Corrado</td><td>Sporty </td><td>22.9</td><td>23.3</td><td>23.7</td><td>18</td><td>25</td><td>None              </td><td>Front</td><td>⋯</td><td>4</td><td>159</td><td> 97</td><td>66</td><td>36</td><td>26.0</td><td>15</td><td>2810</td><td>non-USA</td><td>Volkswagen Corrado</td></tr>\n",
       "\t<tr><th scope=row>4</th><td>Volkswagen</td><td>Eurovan</td><td>Van    </td><td>16.6</td><td>19.7</td><td>22.7</td><td>17</td><td>21</td><td>None              </td><td>Front</td><td>⋯</td><td>7</td><td>187</td><td>115</td><td>72</td><td>38</td><td>34.0</td><td>NA</td><td>3960</td><td>non-USA</td><td>Volkswagen Eurovan</td></tr>\n",
       "\t<tr><th scope=row>5</th><td>Volkswagen</td><td>Fox    </td><td>Small  </td><td> 8.7</td><td> 9.1</td><td> 9.5</td><td>25</td><td>33</td><td>None              </td><td>Front</td><td>⋯</td><td>4</td><td>163</td><td> 93</td><td>63</td><td>34</td><td>26.0</td><td>10</td><td>2240</td><td>non-USA</td><td>Volkswagen Fox    </td></tr>\n",
       "\t<tr><th scope=row>6</th><td>Volkswagen</td><td>Passat </td><td>Compact</td><td>17.6</td><td>20.0</td><td>22.4</td><td>21</td><td>30</td><td>None              </td><td>Front</td><td>⋯</td><td>5</td><td>180</td><td>103</td><td>67</td><td>35</td><td>31.5</td><td>14</td><td>2985</td><td>non-USA</td><td>Volkswagen Passat </td></tr>\n",
       "</tbody>\n",
       "</table>\n"
      ],
      "text/latex": [
       "A data.frame: 6 × 27\n",
       "\\begin{tabular}{r|lllllllllllllllllllll}\n",
       "  & Manufacturer & Model & Type & Min.Price & Price & Max.Price & MPG.city & MPG.highway & AirBags & DriveTrain & ⋯ & Passengers & Length & Wheelbase & Width & Turn.circle & Rear.seat.room & Luggage.room & Weight & Origin & Make\\\\\n",
       "  & <fct> & <fct> & <fct> & <dbl> & <dbl> & <dbl> & <int> & <int> & <fct> & <fct> & ⋯ & <int> & <int> & <int> & <int> & <int> & <dbl> & <int> & <int> & <fct> & <fct>\\\\\n",
       "\\hline\n",
       "\t1 & Volvo      & 240     & Compact & 21.8 & 22.7 & 23.5 & 21 & 28 & Driver only        & Rear  & ⋯ & 5 & 190 & 104 & 67 & 37 & 29.5 & 14 & 2985 & non-USA & Volvo 240         \\\\\n",
       "\t2 & Volvo      & 850     & Midsize & 24.8 & 26.7 & 28.5 & 20 & 28 & Driver \\& Passenger & Front & ⋯ & 5 & 184 & 105 & 69 & 38 & 30.0 & 15 & 3245 & non-USA & Volvo 850         \\\\\n",
       "\t3 & Volkswagen & Corrado & Sporty  & 22.9 & 23.3 & 23.7 & 18 & 25 & None               & Front & ⋯ & 4 & 159 &  97 & 66 & 36 & 26.0 & 15 & 2810 & non-USA & Volkswagen Corrado\\\\\n",
       "\t4 & Volkswagen & Eurovan & Van     & 16.6 & 19.7 & 22.7 & 17 & 21 & None               & Front & ⋯ & 7 & 187 & 115 & 72 & 38 & 34.0 & NA & 3960 & non-USA & Volkswagen Eurovan\\\\\n",
       "\t5 & Volkswagen & Fox     & Small   &  8.7 &  9.1 &  9.5 & 25 & 33 & None               & Front & ⋯ & 4 & 163 &  93 & 63 & 34 & 26.0 & 10 & 2240 & non-USA & Volkswagen Fox    \\\\\n",
       "\t6 & Volkswagen & Passat  & Compact & 17.6 & 20.0 & 22.4 & 21 & 30 & None               & Front & ⋯ & 5 & 180 & 103 & 67 & 35 & 31.5 & 14 & 2985 & non-USA & Volkswagen Passat \\\\\n",
       "\\end{tabular}\n"
      ],
      "text/markdown": [
       "\n",
       "A data.frame: 6 × 27\n",
       "\n",
       "| <!--/--> | Manufacturer &lt;fct&gt; | Model &lt;fct&gt; | Type &lt;fct&gt; | Min.Price &lt;dbl&gt; | Price &lt;dbl&gt; | Max.Price &lt;dbl&gt; | MPG.city &lt;int&gt; | MPG.highway &lt;int&gt; | AirBags &lt;fct&gt; | DriveTrain &lt;fct&gt; | ⋯ ⋯ | Passengers &lt;int&gt; | Length &lt;int&gt; | Wheelbase &lt;int&gt; | Width &lt;int&gt; | Turn.circle &lt;int&gt; | Rear.seat.room &lt;dbl&gt; | Luggage.room &lt;int&gt; | Weight &lt;int&gt; | Origin &lt;fct&gt; | Make &lt;fct&gt; |\n",
       "|---|---|---|---|---|---|---|---|---|---|---|---|---|---|---|---|---|---|---|---|---|---|\n",
       "| 1 | Volvo      | 240     | Compact | 21.8 | 22.7 | 23.5 | 21 | 28 | Driver only        | Rear  | ⋯ | 5 | 190 | 104 | 67 | 37 | 29.5 | 14 | 2985 | non-USA | Volvo 240          |\n",
       "| 2 | Volvo      | 850     | Midsize | 24.8 | 26.7 | 28.5 | 20 | 28 | Driver &amp; Passenger | Front | ⋯ | 5 | 184 | 105 | 69 | 38 | 30.0 | 15 | 3245 | non-USA | Volvo 850          |\n",
       "| 3 | Volkswagen | Corrado | Sporty  | 22.9 | 23.3 | 23.7 | 18 | 25 | None               | Front | ⋯ | 4 | 159 |  97 | 66 | 36 | 26.0 | 15 | 2810 | non-USA | Volkswagen Corrado |\n",
       "| 4 | Volkswagen | Eurovan | Van     | 16.6 | 19.7 | 22.7 | 17 | 21 | None               | Front | ⋯ | 7 | 187 | 115 | 72 | 38 | 34.0 | NA | 3960 | non-USA | Volkswagen Eurovan |\n",
       "| 5 | Volkswagen | Fox     | Small   |  8.7 |  9.1 |  9.5 | 25 | 33 | None               | Front | ⋯ | 4 | 163 |  93 | 63 | 34 | 26.0 | 10 | 2240 | non-USA | Volkswagen Fox     |\n",
       "| 6 | Volkswagen | Passat  | Compact | 17.6 | 20.0 | 22.4 | 21 | 30 | None               | Front | ⋯ | 5 | 180 | 103 | 67 | 35 | 31.5 | 14 | 2985 | non-USA | Volkswagen Passat  |\n",
       "\n"
      ],
      "text/plain": [
       "  Manufacturer Model   Type    Min.Price Price Max.Price MPG.city MPG.highway\n",
       "1 Volvo        240     Compact 21.8      22.7  23.5      21       28         \n",
       "2 Volvo        850     Midsize 24.8      26.7  28.5      20       28         \n",
       "3 Volkswagen   Corrado Sporty  22.9      23.3  23.7      18       25         \n",
       "4 Volkswagen   Eurovan Van     16.6      19.7  22.7      17       21         \n",
       "5 Volkswagen   Fox     Small    8.7       9.1   9.5      25       33         \n",
       "6 Volkswagen   Passat  Compact 17.6      20.0  22.4      21       30         \n",
       "  AirBags            DriveTrain ⋯ Passengers Length Wheelbase Width Turn.circle\n",
       "1 Driver only        Rear       ⋯ 5          190    104       67    37         \n",
       "2 Driver & Passenger Front      ⋯ 5          184    105       69    38         \n",
       "3 None               Front      ⋯ 4          159     97       66    36         \n",
       "4 None               Front      ⋯ 7          187    115       72    38         \n",
       "5 None               Front      ⋯ 4          163     93       63    34         \n",
       "6 None               Front      ⋯ 5          180    103       67    35         \n",
       "  Rear.seat.room Luggage.room Weight Origin  Make              \n",
       "1 29.5           14           2985   non-USA Volvo 240         \n",
       "2 30.0           15           3245   non-USA Volvo 850         \n",
       "3 26.0           15           2810   non-USA Volkswagen Corrado\n",
       "4 34.0           NA           3960   non-USA Volkswagen Eurovan\n",
       "5 26.0           10           2240   non-USA Volkswagen Fox    \n",
       "6 31.5           14           2985   non-USA Volkswagen Passat "
      ]
     },
     "metadata": {},
     "output_type": "display_data"
    }
   ],
   "source": [
    "tbl2 <- arrange(tbl1, desc(Manufacturer), Model)\n",
    "head(tbl2)"
   ]
  },
  {
   "cell_type": "code",
   "execution_count": 5,
   "metadata": {},
   "outputs": [
    {
     "data": {
      "text/html": [
       "<table>\n",
       "<caption>A data.frame: 6 × 3</caption>\n",
       "<thead>\n",
       "\t<tr><th></th><th scope=col>Manufacturer</th><th scope=col>Model</th><th scope=col>Type</th></tr>\n",
       "\t<tr><th></th><th scope=col>&lt;fct&gt;</th><th scope=col>&lt;fct&gt;</th><th scope=col>&lt;fct&gt;</th></tr>\n",
       "</thead>\n",
       "<tbody>\n",
       "\t<tr><th scope=row>1</th><td>Acura</td><td>Integra</td><td>Small  </td></tr>\n",
       "\t<tr><th scope=row>2</th><td>Acura</td><td>Legend </td><td>Midsize</td></tr>\n",
       "\t<tr><th scope=row>3</th><td>Audi </td><td>90     </td><td>Compact</td></tr>\n",
       "\t<tr><th scope=row>4</th><td>Audi </td><td>100    </td><td>Midsize</td></tr>\n",
       "\t<tr><th scope=row>5</th><td>BMW  </td><td>535i   </td><td>Midsize</td></tr>\n",
       "\t<tr><th scope=row>6</th><td>Buick</td><td>Century</td><td>Midsize</td></tr>\n",
       "</tbody>\n",
       "</table>\n"
      ],
      "text/latex": [
       "A data.frame: 6 × 3\n",
       "\\begin{tabular}{r|lll}\n",
       "  & Manufacturer & Model & Type\\\\\n",
       "  & <fct> & <fct> & <fct>\\\\\n",
       "\\hline\n",
       "\t1 & Acura & Integra & Small  \\\\\n",
       "\t2 & Acura & Legend  & Midsize\\\\\n",
       "\t3 & Audi  & 90      & Compact\\\\\n",
       "\t4 & Audi  & 100     & Midsize\\\\\n",
       "\t5 & BMW   & 535i    & Midsize\\\\\n",
       "\t6 & Buick & Century & Midsize\\\\\n",
       "\\end{tabular}\n"
      ],
      "text/markdown": [
       "\n",
       "A data.frame: 6 × 3\n",
       "\n",
       "| <!--/--> | Manufacturer &lt;fct&gt; | Model &lt;fct&gt; | Type &lt;fct&gt; |\n",
       "|---|---|---|---|\n",
       "| 1 | Acura | Integra | Small   |\n",
       "| 2 | Acura | Legend  | Midsize |\n",
       "| 3 | Audi  | 90      | Compact |\n",
       "| 4 | Audi  | 100     | Midsize |\n",
       "| 5 | BMW   | 535i    | Midsize |\n",
       "| 6 | Buick | Century | Midsize |\n",
       "\n"
      ],
      "text/plain": [
       "  Manufacturer Model   Type   \n",
       "1 Acura        Integra Small  \n",
       "2 Acura        Legend  Midsize\n",
       "3 Audi         90      Compact\n",
       "4 Audi         100     Midsize\n",
       "5 BMW          535i    Midsize\n",
       "6 Buick        Century Midsize"
      ]
     },
     "metadata": {},
     "output_type": "display_data"
    }
   ],
   "source": [
    "tbl3 <- select(tbl1, 1:3)\n",
    "head(tbl3)"
   ]
  },
  {
   "cell_type": "code",
   "execution_count": 6,
   "metadata": {},
   "outputs": [
    {
     "data": {
      "text/html": [
       "<table>\n",
       "<caption>A data.frame: 6 × 4</caption>\n",
       "<thead>\n",
       "\t<tr><th></th><th scope=col>Model</th><th scope=col>Type</th><th scope=col>Min.Price</th><th scope=col>Price</th></tr>\n",
       "\t<tr><th></th><th scope=col>&lt;fct&gt;</th><th scope=col>&lt;fct&gt;</th><th scope=col>&lt;dbl&gt;</th><th scope=col>&lt;dbl&gt;</th></tr>\n",
       "</thead>\n",
       "<tbody>\n",
       "\t<tr><th scope=row>1</th><td>Integra</td><td>Small  </td><td>12.9</td><td>15.9</td></tr>\n",
       "\t<tr><th scope=row>2</th><td>Legend </td><td>Midsize</td><td>29.2</td><td>33.9</td></tr>\n",
       "\t<tr><th scope=row>3</th><td>90     </td><td>Compact</td><td>25.9</td><td>29.1</td></tr>\n",
       "\t<tr><th scope=row>4</th><td>100    </td><td>Midsize</td><td>30.8</td><td>37.7</td></tr>\n",
       "\t<tr><th scope=row>5</th><td>535i   </td><td>Midsize</td><td>23.7</td><td>30.0</td></tr>\n",
       "\t<tr><th scope=row>6</th><td>Century</td><td>Midsize</td><td>14.2</td><td>15.7</td></tr>\n",
       "</tbody>\n",
       "</table>\n"
      ],
      "text/latex": [
       "A data.frame: 6 × 4\n",
       "\\begin{tabular}{r|llll}\n",
       "  & Model & Type & Min.Price & Price\\\\\n",
       "  & <fct> & <fct> & <dbl> & <dbl>\\\\\n",
       "\\hline\n",
       "\t1 & Integra & Small   & 12.9 & 15.9\\\\\n",
       "\t2 & Legend  & Midsize & 29.2 & 33.9\\\\\n",
       "\t3 & 90      & Compact & 25.9 & 29.1\\\\\n",
       "\t4 & 100     & Midsize & 30.8 & 37.7\\\\\n",
       "\t5 & 535i    & Midsize & 23.7 & 30.0\\\\\n",
       "\t6 & Century & Midsize & 14.2 & 15.7\\\\\n",
       "\\end{tabular}\n"
      ],
      "text/markdown": [
       "\n",
       "A data.frame: 6 × 4\n",
       "\n",
       "| <!--/--> | Model &lt;fct&gt; | Type &lt;fct&gt; | Min.Price &lt;dbl&gt; | Price &lt;dbl&gt; |\n",
       "|---|---|---|---|---|\n",
       "| 1 | Integra | Small   | 12.9 | 15.9 |\n",
       "| 2 | Legend  | Midsize | 29.2 | 33.9 |\n",
       "| 3 | 90      | Compact | 25.9 | 29.1 |\n",
       "| 4 | 100     | Midsize | 30.8 | 37.7 |\n",
       "| 5 | 535i    | Midsize | 23.7 | 30.0 |\n",
       "| 6 | Century | Midsize | 14.2 | 15.7 |\n",
       "\n"
      ],
      "text/plain": [
       "  Model   Type    Min.Price Price\n",
       "1 Integra Small   12.9      15.9 \n",
       "2 Legend  Midsize 29.2      33.9 \n",
       "3 90      Compact 25.9      29.1 \n",
       "4 100     Midsize 30.8      37.7 \n",
       "5 535i    Midsize 23.7      30.0 \n",
       "6 Century Midsize 14.2      15.7 "
      ]
     },
     "metadata": {},
     "output_type": "display_data"
    }
   ],
   "source": [
    "tbl4 <- select(tbl1, Model:Price)\n",
    "head(tbl4)"
   ]
  },
  {
   "cell_type": "code",
   "execution_count": 7,
   "metadata": {},
   "outputs": [
    {
     "data": {
      "text/html": [
       "<table>\n",
       "<caption>A data.frame: 6 × 3</caption>\n",
       "<thead>\n",
       "\t<tr><th></th><th scope=col>Min.Price</th><th scope=col>Price</th><th scope=col>Max.Price</th></tr>\n",
       "\t<tr><th></th><th scope=col>&lt;dbl&gt;</th><th scope=col>&lt;dbl&gt;</th><th scope=col>&lt;dbl&gt;</th></tr>\n",
       "</thead>\n",
       "<tbody>\n",
       "\t<tr><th scope=row>1</th><td>12.9</td><td>15.9</td><td>18.8</td></tr>\n",
       "\t<tr><th scope=row>2</th><td>29.2</td><td>33.9</td><td>38.7</td></tr>\n",
       "\t<tr><th scope=row>3</th><td>25.9</td><td>29.1</td><td>32.3</td></tr>\n",
       "\t<tr><th scope=row>4</th><td>30.8</td><td>37.7</td><td>44.6</td></tr>\n",
       "\t<tr><th scope=row>5</th><td>23.7</td><td>30.0</td><td>36.2</td></tr>\n",
       "\t<tr><th scope=row>6</th><td>14.2</td><td>15.7</td><td>17.3</td></tr>\n",
       "</tbody>\n",
       "</table>\n"
      ],
      "text/latex": [
       "A data.frame: 6 × 3\n",
       "\\begin{tabular}{r|lll}\n",
       "  & Min.Price & Price & Max.Price\\\\\n",
       "  & <dbl> & <dbl> & <dbl>\\\\\n",
       "\\hline\n",
       "\t1 & 12.9 & 15.9 & 18.8\\\\\n",
       "\t2 & 29.2 & 33.9 & 38.7\\\\\n",
       "\t3 & 25.9 & 29.1 & 32.3\\\\\n",
       "\t4 & 30.8 & 37.7 & 44.6\\\\\n",
       "\t5 & 23.7 & 30.0 & 36.2\\\\\n",
       "\t6 & 14.2 & 15.7 & 17.3\\\\\n",
       "\\end{tabular}\n"
      ],
      "text/markdown": [
       "\n",
       "A data.frame: 6 × 3\n",
       "\n",
       "| <!--/--> | Min.Price &lt;dbl&gt; | Price &lt;dbl&gt; | Max.Price &lt;dbl&gt; |\n",
       "|---|---|---|---|\n",
       "| 1 | 12.9 | 15.9 | 18.8 |\n",
       "| 2 | 29.2 | 33.9 | 38.7 |\n",
       "| 3 | 25.9 | 29.1 | 32.3 |\n",
       "| 4 | 30.8 | 37.7 | 44.6 |\n",
       "| 5 | 23.7 | 30.0 | 36.2 |\n",
       "| 6 | 14.2 | 15.7 | 17.3 |\n",
       "\n"
      ],
      "text/plain": [
       "  Min.Price Price Max.Price\n",
       "1 12.9      15.9  18.8     \n",
       "2 29.2      33.9  38.7     \n",
       "3 25.9      29.1  32.3     \n",
       "4 30.8      37.7  44.6     \n",
       "5 23.7      30.0  36.2     \n",
       "6 14.2      15.7  17.3     "
      ]
     },
     "metadata": {},
     "output_type": "display_data"
    }
   ],
   "source": [
    "tbl5 <- select(tbl1, ends_with(\"Price\"))\n",
    "head(tbl5)"
   ]
  },
  {
   "cell_type": "code",
   "execution_count": 8,
   "metadata": {},
   "outputs": [
    {
     "data": {
      "text/html": [
       "<table>\n",
       "<caption>A data.frame: 3 × 27</caption>\n",
       "<thead>\n",
       "\t<tr><th scope=col>Manufacturer</th><th scope=col>Model</th><th scope=col>Type</th><th scope=col>Min.Price</th><th scope=col>Price</th><th scope=col>Max.Price</th><th scope=col>MPG.city</th><th scope=col>MPG.highway</th><th scope=col>AirBags</th><th scope=col>DriveTrain</th><th scope=col>⋯</th><th scope=col>Passengers</th><th scope=col>Length</th><th scope=col>Wheelbase</th><th scope=col>Width</th><th scope=col>Turn.circle</th><th scope=col>Rear.seat.room</th><th scope=col>Luggage.room</th><th scope=col>Weight</th><th scope=col>Origin</th><th scope=col>Make</th></tr>\n",
       "\t<tr><th scope=col>&lt;fct&gt;</th><th scope=col>&lt;fct&gt;</th><th scope=col>&lt;fct&gt;</th><th scope=col>&lt;dbl&gt;</th><th scope=col>&lt;dbl&gt;</th><th scope=col>&lt;dbl&gt;</th><th scope=col>&lt;int&gt;</th><th scope=col>&lt;int&gt;</th><th scope=col>&lt;fct&gt;</th><th scope=col>&lt;fct&gt;</th><th scope=col>⋯</th><th scope=col>&lt;int&gt;</th><th scope=col>&lt;int&gt;</th><th scope=col>&lt;int&gt;</th><th scope=col>&lt;int&gt;</th><th scope=col>&lt;int&gt;</th><th scope=col>&lt;dbl&gt;</th><th scope=col>&lt;int&gt;</th><th scope=col>&lt;int&gt;</th><th scope=col>&lt;fct&gt;</th><th scope=col>&lt;fct&gt;</th></tr>\n",
       "</thead>\n",
       "<tbody>\n",
       "\t<tr><td><span style=white-space:pre-wrap>Cadillac     </span></td><td>Seville</td><td>Midsize</td><td>37.5</td><td>40.1</td><td>42.7</td><td>16</td><td>25</td><td>Driver &amp; Passenger</td><td>Front</td><td>⋯</td><td>5</td><td>204</td><td>111</td><td>74</td><td>44</td><td>31</td><td>14</td><td>3935</td><td><span style=white-space:pre-wrap>USA    </span></td><td><span style=white-space:pre-wrap>Cadillac Seville  </span></td></tr>\n",
       "\t<tr><td>Infiniti     </td><td>Q45    </td><td>Midsize</td><td>45.4</td><td>47.9</td><td>50.4</td><td>17</td><td>22</td><td>Driver only       </td><td>Rear </td><td>⋯</td><td>5</td><td>200</td><td>113</td><td>72</td><td>42</td><td>29</td><td>15</td><td>4000</td><td>non-USA</td><td>Infiniti Q45      </td></tr>\n",
       "\t<tr><td>Mercedes-Benz</td><td><span style=white-space:pre-wrap>300E   </span></td><td>Midsize</td><td>43.8</td><td>61.9</td><td>80.0</td><td>19</td><td>25</td><td>Driver &amp; Passenger</td><td>Rear </td><td>⋯</td><td>5</td><td>187</td><td>110</td><td>69</td><td>37</td><td>27</td><td>15</td><td>3525</td><td>non-USA</td><td>Mercedes-Benz 300E</td></tr>\n",
       "</tbody>\n",
       "</table>\n"
      ],
      "text/latex": [
       "A data.frame: 3 × 27\n",
       "\\begin{tabular}{lllllllllllllllllllll}\n",
       " Manufacturer & Model & Type & Min.Price & Price & Max.Price & MPG.city & MPG.highway & AirBags & DriveTrain & ⋯ & Passengers & Length & Wheelbase & Width & Turn.circle & Rear.seat.room & Luggage.room & Weight & Origin & Make\\\\\n",
       " <fct> & <fct> & <fct> & <dbl> & <dbl> & <dbl> & <int> & <int> & <fct> & <fct> & ⋯ & <int> & <int> & <int> & <int> & <int> & <dbl> & <int> & <int> & <fct> & <fct>\\\\\n",
       "\\hline\n",
       "\t Cadillac      & Seville & Midsize & 37.5 & 40.1 & 42.7 & 16 & 25 & Driver \\& Passenger & Front & ⋯ & 5 & 204 & 111 & 74 & 44 & 31 & 14 & 3935 & USA     & Cadillac Seville  \\\\\n",
       "\t Infiniti      & Q45     & Midsize & 45.4 & 47.9 & 50.4 & 17 & 22 & Driver only        & Rear  & ⋯ & 5 & 200 & 113 & 72 & 42 & 29 & 15 & 4000 & non-USA & Infiniti Q45      \\\\\n",
       "\t Mercedes-Benz & 300E    & Midsize & 43.8 & 61.9 & 80.0 & 19 & 25 & Driver \\& Passenger & Rear  & ⋯ & 5 & 187 & 110 & 69 & 37 & 27 & 15 & 3525 & non-USA & Mercedes-Benz 300E\\\\\n",
       "\\end{tabular}\n"
      ],
      "text/markdown": [
       "\n",
       "A data.frame: 3 × 27\n",
       "\n",
       "| Manufacturer &lt;fct&gt; | Model &lt;fct&gt; | Type &lt;fct&gt; | Min.Price &lt;dbl&gt; | Price &lt;dbl&gt; | Max.Price &lt;dbl&gt; | MPG.city &lt;int&gt; | MPG.highway &lt;int&gt; | AirBags &lt;fct&gt; | DriveTrain &lt;fct&gt; | ⋯ ⋯ | Passengers &lt;int&gt; | Length &lt;int&gt; | Wheelbase &lt;int&gt; | Width &lt;int&gt; | Turn.circle &lt;int&gt; | Rear.seat.room &lt;dbl&gt; | Luggage.room &lt;int&gt; | Weight &lt;int&gt; | Origin &lt;fct&gt; | Make &lt;fct&gt; |\n",
       "|---|---|---|---|---|---|---|---|---|---|---|---|---|---|---|---|---|---|---|---|---|\n",
       "| Cadillac      | Seville | Midsize | 37.5 | 40.1 | 42.7 | 16 | 25 | Driver &amp; Passenger | Front | ⋯ | 5 | 204 | 111 | 74 | 44 | 31 | 14 | 3935 | USA     | Cadillac Seville   |\n",
       "| Infiniti      | Q45     | Midsize | 45.4 | 47.9 | 50.4 | 17 | 22 | Driver only        | Rear  | ⋯ | 5 | 200 | 113 | 72 | 42 | 29 | 15 | 4000 | non-USA | Infiniti Q45       |\n",
       "| Mercedes-Benz | 300E    | Midsize | 43.8 | 61.9 | 80.0 | 19 | 25 | Driver &amp; Passenger | Rear  | ⋯ | 5 | 187 | 110 | 69 | 37 | 27 | 15 | 3525 | non-USA | Mercedes-Benz 300E |\n",
       "\n"
      ],
      "text/plain": [
       "  Manufacturer  Model   Type    Min.Price Price Max.Price MPG.city MPG.highway\n",
       "1 Cadillac      Seville Midsize 37.5      40.1  42.7      16       25         \n",
       "2 Infiniti      Q45     Midsize 45.4      47.9  50.4      17       22         \n",
       "3 Mercedes-Benz 300E    Midsize 43.8      61.9  80.0      19       25         \n",
       "  AirBags            DriveTrain ⋯ Passengers Length Wheelbase Width Turn.circle\n",
       "1 Driver & Passenger Front      ⋯ 5          204    111       74    44         \n",
       "2 Driver only        Rear       ⋯ 5          200    113       72    42         \n",
       "3 Driver & Passenger Rear       ⋯ 5          187    110       69    37         \n",
       "  Rear.seat.room Luggage.room Weight Origin  Make              \n",
       "1 31             14           3935   USA     Cadillac Seville  \n",
       "2 29             15           4000   non-USA Infiniti Q45      \n",
       "3 27             15           3525   non-USA Mercedes-Benz 300E"
      ]
     },
     "metadata": {},
     "output_type": "display_data"
    }
   ],
   "source": [
    "tbl6 <- filter(tbl1, Price>40.0)\n",
    "tbl6"
   ]
  },
  {
   "cell_type": "code",
   "execution_count": 9,
   "metadata": {},
   "outputs": [
    {
     "data": {
      "text/html": [
       "<table>\n",
       "<caption>A data.frame: 4 × 27</caption>\n",
       "<thead>\n",
       "\t<tr><th scope=col>Manufacturer</th><th scope=col>Model</th><th scope=col>Type</th><th scope=col>Min.Price</th><th scope=col>Price</th><th scope=col>Max.Price</th><th scope=col>MPG.city</th><th scope=col>MPG.highway</th><th scope=col>AirBags</th><th scope=col>DriveTrain</th><th scope=col>⋯</th><th scope=col>Passengers</th><th scope=col>Length</th><th scope=col>Wheelbase</th><th scope=col>Width</th><th scope=col>Turn.circle</th><th scope=col>Rear.seat.room</th><th scope=col>Luggage.room</th><th scope=col>Weight</th><th scope=col>Origin</th><th scope=col>Make</th></tr>\n",
       "\t<tr><th scope=col>&lt;fct&gt;</th><th scope=col>&lt;fct&gt;</th><th scope=col>&lt;fct&gt;</th><th scope=col>&lt;dbl&gt;</th><th scope=col>&lt;dbl&gt;</th><th scope=col>&lt;dbl&gt;</th><th scope=col>&lt;int&gt;</th><th scope=col>&lt;int&gt;</th><th scope=col>&lt;fct&gt;</th><th scope=col>&lt;fct&gt;</th><th scope=col>⋯</th><th scope=col>&lt;int&gt;</th><th scope=col>&lt;int&gt;</th><th scope=col>&lt;int&gt;</th><th scope=col>&lt;int&gt;</th><th scope=col>&lt;int&gt;</th><th scope=col>&lt;dbl&gt;</th><th scope=col>&lt;int&gt;</th><th scope=col>&lt;int&gt;</th><th scope=col>&lt;fct&gt;</th><th scope=col>&lt;fct&gt;</th></tr>\n",
       "</thead>\n",
       "<tbody>\n",
       "\t<tr><td>Mercedes-Benz</td><td>190E</td><td>Compact</td><td>29.0</td><td>31.9</td><td>34.9</td><td>20</td><td>29</td><td>Driver only       </td><td>Rear </td><td>⋯</td><td>5</td><td>175</td><td>105</td><td>67</td><td>34</td><td>26.0</td><td>12</td><td>2920</td><td>non-USA</td><td>Mercedes-Benz 190E</td></tr>\n",
       "\t<tr><td>Mercedes-Benz</td><td>300E</td><td>Midsize</td><td>43.8</td><td>61.9</td><td>80.0</td><td>19</td><td>25</td><td>Driver &amp; Passenger</td><td>Rear </td><td>⋯</td><td>5</td><td>187</td><td>110</td><td>69</td><td>37</td><td>27.0</td><td>15</td><td>3525</td><td>non-USA</td><td>Mercedes-Benz 300E</td></tr>\n",
       "\t<tr><td>Volvo        </td><td>240 </td><td>Compact</td><td>21.8</td><td>22.7</td><td>23.5</td><td>21</td><td>28</td><td>Driver only       </td><td>Rear </td><td>⋯</td><td>5</td><td>190</td><td>104</td><td>67</td><td>37</td><td>29.5</td><td>14</td><td>2985</td><td>non-USA</td><td>Volvo 240         </td></tr>\n",
       "\t<tr><td><span style=white-space:pre-wrap>Volvo        </span></td><td>850 </td><td>Midsize</td><td>24.8</td><td>26.7</td><td>28.5</td><td>20</td><td>28</td><td>Driver &amp; Passenger</td><td>Front</td><td>⋯</td><td>5</td><td>184</td><td>105</td><td>69</td><td>38</td><td>30.0</td><td>15</td><td>3245</td><td>non-USA</td><td><span style=white-space:pre-wrap>Volvo 850         </span></td></tr>\n",
       "</tbody>\n",
       "</table>\n"
      ],
      "text/latex": [
       "A data.frame: 4 × 27\n",
       "\\begin{tabular}{lllllllllllllllllllll}\n",
       " Manufacturer & Model & Type & Min.Price & Price & Max.Price & MPG.city & MPG.highway & AirBags & DriveTrain & ⋯ & Passengers & Length & Wheelbase & Width & Turn.circle & Rear.seat.room & Luggage.room & Weight & Origin & Make\\\\\n",
       " <fct> & <fct> & <fct> & <dbl> & <dbl> & <dbl> & <int> & <int> & <fct> & <fct> & ⋯ & <int> & <int> & <int> & <int> & <int> & <dbl> & <int> & <int> & <fct> & <fct>\\\\\n",
       "\\hline\n",
       "\t Mercedes-Benz & 190E & Compact & 29.0 & 31.9 & 34.9 & 20 & 29 & Driver only        & Rear  & ⋯ & 5 & 175 & 105 & 67 & 34 & 26.0 & 12 & 2920 & non-USA & Mercedes-Benz 190E\\\\\n",
       "\t Mercedes-Benz & 300E & Midsize & 43.8 & 61.9 & 80.0 & 19 & 25 & Driver \\& Passenger & Rear  & ⋯ & 5 & 187 & 110 & 69 & 37 & 27.0 & 15 & 3525 & non-USA & Mercedes-Benz 300E\\\\\n",
       "\t Volvo         & 240  & Compact & 21.8 & 22.7 & 23.5 & 21 & 28 & Driver only        & Rear  & ⋯ & 5 & 190 & 104 & 67 & 37 & 29.5 & 14 & 2985 & non-USA & Volvo 240         \\\\\n",
       "\t Volvo         & 850  & Midsize & 24.8 & 26.7 & 28.5 & 20 & 28 & Driver \\& Passenger & Front & ⋯ & 5 & 184 & 105 & 69 & 38 & 30.0 & 15 & 3245 & non-USA & Volvo 850         \\\\\n",
       "\\end{tabular}\n"
      ],
      "text/markdown": [
       "\n",
       "A data.frame: 4 × 27\n",
       "\n",
       "| Manufacturer &lt;fct&gt; | Model &lt;fct&gt; | Type &lt;fct&gt; | Min.Price &lt;dbl&gt; | Price &lt;dbl&gt; | Max.Price &lt;dbl&gt; | MPG.city &lt;int&gt; | MPG.highway &lt;int&gt; | AirBags &lt;fct&gt; | DriveTrain &lt;fct&gt; | ⋯ ⋯ | Passengers &lt;int&gt; | Length &lt;int&gt; | Wheelbase &lt;int&gt; | Width &lt;int&gt; | Turn.circle &lt;int&gt; | Rear.seat.room &lt;dbl&gt; | Luggage.room &lt;int&gt; | Weight &lt;int&gt; | Origin &lt;fct&gt; | Make &lt;fct&gt; |\n",
       "|---|---|---|---|---|---|---|---|---|---|---|---|---|---|---|---|---|---|---|---|---|\n",
       "| Mercedes-Benz | 190E | Compact | 29.0 | 31.9 | 34.9 | 20 | 29 | Driver only        | Rear  | ⋯ | 5 | 175 | 105 | 67 | 34 | 26.0 | 12 | 2920 | non-USA | Mercedes-Benz 190E |\n",
       "| Mercedes-Benz | 300E | Midsize | 43.8 | 61.9 | 80.0 | 19 | 25 | Driver &amp; Passenger | Rear  | ⋯ | 5 | 187 | 110 | 69 | 37 | 27.0 | 15 | 3525 | non-USA | Mercedes-Benz 300E |\n",
       "| Volvo         | 240  | Compact | 21.8 | 22.7 | 23.5 | 21 | 28 | Driver only        | Rear  | ⋯ | 5 | 190 | 104 | 67 | 37 | 29.5 | 14 | 2985 | non-USA | Volvo 240          |\n",
       "| Volvo         | 850  | Midsize | 24.8 | 26.7 | 28.5 | 20 | 28 | Driver &amp; Passenger | Front | ⋯ | 5 | 184 | 105 | 69 | 38 | 30.0 | 15 | 3245 | non-USA | Volvo 850          |\n",
       "\n"
      ],
      "text/plain": [
       "  Manufacturer  Model Type    Min.Price Price Max.Price MPG.city MPG.highway\n",
       "1 Mercedes-Benz 190E  Compact 29.0      31.9  34.9      20       29         \n",
       "2 Mercedes-Benz 300E  Midsize 43.8      61.9  80.0      19       25         \n",
       "3 Volvo         240   Compact 21.8      22.7  23.5      21       28         \n",
       "4 Volvo         850   Midsize 24.8      26.7  28.5      20       28         \n",
       "  AirBags            DriveTrain ⋯ Passengers Length Wheelbase Width Turn.circle\n",
       "1 Driver only        Rear       ⋯ 5          175    105       67    34         \n",
       "2 Driver & Passenger Rear       ⋯ 5          187    110       69    37         \n",
       "3 Driver only        Rear       ⋯ 5          190    104       67    37         \n",
       "4 Driver & Passenger Front      ⋯ 5          184    105       69    38         \n",
       "  Rear.seat.room Luggage.room Weight Origin  Make              \n",
       "1 26.0           12           2920   non-USA Mercedes-Benz 190E\n",
       "2 27.0           15           3525   non-USA Mercedes-Benz 300E\n",
       "3 29.5           14           2985   non-USA Volvo 240         \n",
       "4 30.0           15           3245   non-USA Volvo 850         "
      ]
     },
     "metadata": {},
     "output_type": "display_data"
    }
   ],
   "source": [
    "tbl7 <- filter(tbl1, Manufacturer %in% c(\"Volvo\", \"Mercedes-Benz\"))\n",
    "tbl7"
   ]
  },
  {
   "cell_type": "code",
   "execution_count": 10,
   "metadata": {},
   "outputs": [
    {
     "data": {
      "text/html": [
       "<table>\n",
       "<caption>A data.frame: 6 × 27</caption>\n",
       "<thead>\n",
       "\t<tr><th></th><th scope=col>Manufacturer</th><th scope=col>Model</th><th scope=col>Type</th><th scope=col>Min.Price</th><th scope=col>Price</th><th scope=col>Max.Price</th><th scope=col>MPG.city</th><th scope=col>MPG.highway</th><th scope=col>AirBags</th><th scope=col>DriveTrain</th><th scope=col>⋯</th><th scope=col>Passengers</th><th scope=col>Length</th><th scope=col>Wheelbase</th><th scope=col>Width</th><th scope=col>Turn.circle</th><th scope=col>Rear.seat.room</th><th scope=col>Luggage.room</th><th scope=col>Weight</th><th scope=col>Origin</th><th scope=col>Make</th></tr>\n",
       "\t<tr><th></th><th scope=col>&lt;fct&gt;</th><th scope=col>&lt;fct&gt;</th><th scope=col>&lt;fct&gt;</th><th scope=col>&lt;dbl&gt;</th><th scope=col>&lt;dbl&gt;</th><th scope=col>&lt;dbl&gt;</th><th scope=col>&lt;int&gt;</th><th scope=col>&lt;int&gt;</th><th scope=col>&lt;fct&gt;</th><th scope=col>&lt;fct&gt;</th><th scope=col>⋯</th><th scope=col>&lt;int&gt;</th><th scope=col>&lt;int&gt;</th><th scope=col>&lt;int&gt;</th><th scope=col>&lt;int&gt;</th><th scope=col>&lt;int&gt;</th><th scope=col>&lt;dbl&gt;</th><th scope=col>&lt;int&gt;</th><th scope=col>&lt;int&gt;</th><th scope=col>&lt;fct&gt;</th><th scope=col>&lt;fct&gt;</th></tr>\n",
       "</thead>\n",
       "<tbody>\n",
       "\t<tr><th scope=row>1</th><td>Acura</td><td>Integra</td><td>Small  </td><td>12.9</td><td>15.9</td><td>18.8</td><td>25</td><td>31</td><td>None              </td><td>Front</td><td>⋯</td><td>5</td><td>177</td><td>102</td><td>68</td><td>37</td><td>26.5</td><td>11</td><td>2705</td><td>non-USA</td><td>Acura Integra</td></tr>\n",
       "\t<tr><th scope=row>2</th><td>Acura</td><td>Legend </td><td>Midsize</td><td>29.2</td><td>33.9</td><td>38.7</td><td>18</td><td>25</td><td>Driver &amp; Passenger</td><td>Front</td><td>⋯</td><td>5</td><td>195</td><td>115</td><td>71</td><td>38</td><td>30.0</td><td>15</td><td>3560</td><td>non-USA</td><td>Acura Legend </td></tr>\n",
       "\t<tr><th scope=row>3</th><td>Audi </td><td>90     </td><td>Compact</td><td>25.9</td><td>29.1</td><td>32.3</td><td>20</td><td>26</td><td>Driver only       </td><td>Front</td><td>⋯</td><td>5</td><td>180</td><td>102</td><td>67</td><td>37</td><td>28.0</td><td>14</td><td>3375</td><td>non-USA</td><td>Audi 90      </td></tr>\n",
       "\t<tr><th scope=row>4</th><td>Audi </td><td><span style=white-space:pre-wrap>100    </span></td><td>Midsize</td><td>30.8</td><td>37.7</td><td>44.6</td><td>19</td><td>26</td><td>Driver &amp; Passenger</td><td>Front</td><td>⋯</td><td>6</td><td>193</td><td>106</td><td>70</td><td>37</td><td>31.0</td><td>17</td><td>3405</td><td>non-USA</td><td><span style=white-space:pre-wrap>Audi 100     </span></td></tr>\n",
       "\t<tr><th scope=row>5</th><td>BMW  </td><td>535i   </td><td>Midsize</td><td>23.7</td><td>30.0</td><td>36.2</td><td>22</td><td>30</td><td>Driver only       </td><td>Rear </td><td>⋯</td><td>4</td><td>186</td><td>109</td><td>69</td><td>39</td><td>27.0</td><td>13</td><td>3640</td><td>non-USA</td><td>BMW 535i     </td></tr>\n",
       "\t<tr><th scope=row>6</th><td>Buick</td><td>Century</td><td>Midsize</td><td>14.2</td><td>15.7</td><td>17.3</td><td>22</td><td>31</td><td>Driver only       </td><td>Front</td><td>⋯</td><td>6</td><td>189</td><td>105</td><td>69</td><td>41</td><td>28.0</td><td>16</td><td>2880</td><td>USA    </td><td>Buick Century</td></tr>\n",
       "</tbody>\n",
       "</table>\n"
      ],
      "text/latex": [
       "A data.frame: 6 × 27\n",
       "\\begin{tabular}{r|lllllllllllllllllllll}\n",
       "  & Manufacturer & Model & Type & Min.Price & Price & Max.Price & MPG.city & MPG.highway & AirBags & DriveTrain & ⋯ & Passengers & Length & Wheelbase & Width & Turn.circle & Rear.seat.room & Luggage.room & Weight & Origin & Make\\\\\n",
       "  & <fct> & <fct> & <fct> & <dbl> & <dbl> & <dbl> & <int> & <int> & <fct> & <fct> & ⋯ & <int> & <int> & <int> & <int> & <int> & <dbl> & <int> & <int> & <fct> & <fct>\\\\\n",
       "\\hline\n",
       "\t1 & Acura & Integra & Small   & 12.9 & 15.9 & 18.8 & 25 & 31 & None               & Front & ⋯ & 5 & 177 & 102 & 68 & 37 & 26.5 & 11 & 2705 & non-USA & Acura Integra\\\\\n",
       "\t2 & Acura & Legend  & Midsize & 29.2 & 33.9 & 38.7 & 18 & 25 & Driver \\& Passenger & Front & ⋯ & 5 & 195 & 115 & 71 & 38 & 30.0 & 15 & 3560 & non-USA & Acura Legend \\\\\n",
       "\t3 & Audi  & 90      & Compact & 25.9 & 29.1 & 32.3 & 20 & 26 & Driver only        & Front & ⋯ & 5 & 180 & 102 & 67 & 37 & 28.0 & 14 & 3375 & non-USA & Audi 90      \\\\\n",
       "\t4 & Audi  & 100     & Midsize & 30.8 & 37.7 & 44.6 & 19 & 26 & Driver \\& Passenger & Front & ⋯ & 6 & 193 & 106 & 70 & 37 & 31.0 & 17 & 3405 & non-USA & Audi 100     \\\\\n",
       "\t5 & BMW   & 535i    & Midsize & 23.7 & 30.0 & 36.2 & 22 & 30 & Driver only        & Rear  & ⋯ & 4 & 186 & 109 & 69 & 39 & 27.0 & 13 & 3640 & non-USA & BMW 535i     \\\\\n",
       "\t6 & Buick & Century & Midsize & 14.2 & 15.7 & 17.3 & 22 & 31 & Driver only        & Front & ⋯ & 6 & 189 & 105 & 69 & 41 & 28.0 & 16 & 2880 & USA     & Buick Century\\\\\n",
       "\\end{tabular}\n"
      ],
      "text/markdown": [
       "\n",
       "A data.frame: 6 × 27\n",
       "\n",
       "| <!--/--> | Manufacturer &lt;fct&gt; | Model &lt;fct&gt; | Type &lt;fct&gt; | Min.Price &lt;dbl&gt; | Price &lt;dbl&gt; | Max.Price &lt;dbl&gt; | MPG.city &lt;int&gt; | MPG.highway &lt;int&gt; | AirBags &lt;fct&gt; | DriveTrain &lt;fct&gt; | ⋯ ⋯ | Passengers &lt;int&gt; | Length &lt;int&gt; | Wheelbase &lt;int&gt; | Width &lt;int&gt; | Turn.circle &lt;int&gt; | Rear.seat.room &lt;dbl&gt; | Luggage.room &lt;int&gt; | Weight &lt;int&gt; | Origin &lt;fct&gt; | Make &lt;fct&gt; |\n",
       "|---|---|---|---|---|---|---|---|---|---|---|---|---|---|---|---|---|---|---|---|---|---|\n",
       "| 1 | Acura | Integra | Small   | 12.9 | 15.9 | 18.8 | 25 | 31 | None               | Front | ⋯ | 5 | 177 | 102 | 68 | 37 | 26.5 | 11 | 2705 | non-USA | Acura Integra |\n",
       "| 2 | Acura | Legend  | Midsize | 29.2 | 33.9 | 38.7 | 18 | 25 | Driver &amp; Passenger | Front | ⋯ | 5 | 195 | 115 | 71 | 38 | 30.0 | 15 | 3560 | non-USA | Acura Legend  |\n",
       "| 3 | Audi  | 90      | Compact | 25.9 | 29.1 | 32.3 | 20 | 26 | Driver only        | Front | ⋯ | 5 | 180 | 102 | 67 | 37 | 28.0 | 14 | 3375 | non-USA | Audi 90       |\n",
       "| 4 | Audi  | 100     | Midsize | 30.8 | 37.7 | 44.6 | 19 | 26 | Driver &amp; Passenger | Front | ⋯ | 6 | 193 | 106 | 70 | 37 | 31.0 | 17 | 3405 | non-USA | Audi 100      |\n",
       "| 5 | BMW   | 535i    | Midsize | 23.7 | 30.0 | 36.2 | 22 | 30 | Driver only        | Rear  | ⋯ | 4 | 186 | 109 | 69 | 39 | 27.0 | 13 | 3640 | non-USA | BMW 535i      |\n",
       "| 6 | Buick | Century | Midsize | 14.2 | 15.7 | 17.3 | 22 | 31 | Driver only        | Front | ⋯ | 6 | 189 | 105 | 69 | 41 | 28.0 | 16 | 2880 | USA     | Buick Century |\n",
       "\n"
      ],
      "text/plain": [
       "  Manufacturer Model   Type    Min.Price Price Max.Price MPG.city MPG.highway\n",
       "1 Acura        Integra Small   12.9      15.9  18.8      25       31         \n",
       "2 Acura        Legend  Midsize 29.2      33.9  38.7      18       25         \n",
       "3 Audi         90      Compact 25.9      29.1  32.3      20       26         \n",
       "4 Audi         100     Midsize 30.8      37.7  44.6      19       26         \n",
       "5 BMW          535i    Midsize 23.7      30.0  36.2      22       30         \n",
       "6 Buick        Century Midsize 14.2      15.7  17.3      22       31         \n",
       "  AirBags            DriveTrain ⋯ Passengers Length Wheelbase Width Turn.circle\n",
       "1 None               Front      ⋯ 5          177    102       68    37         \n",
       "2 Driver & Passenger Front      ⋯ 5          195    115       71    38         \n",
       "3 Driver only        Front      ⋯ 5          180    102       67    37         \n",
       "4 Driver & Passenger Front      ⋯ 6          193    106       70    37         \n",
       "5 Driver only        Rear       ⋯ 4          186    109       69    39         \n",
       "6 Driver only        Front      ⋯ 6          189    105       69    41         \n",
       "  Rear.seat.room Luggage.room Weight Origin  Make         \n",
       "1 26.5           11           2705   non-USA Acura Integra\n",
       "2 30.0           15           3560   non-USA Acura Legend \n",
       "3 28.0           14           3375   non-USA Audi 90      \n",
       "4 31.0           17           3405   non-USA Audi 100     \n",
       "5 27.0           13           3640   non-USA BMW 535i     \n",
       "6 28.0           16           2880   USA     Buick Century"
      ]
     },
     "metadata": {},
     "output_type": "display_data"
    },
    {
     "data": {
      "text/html": [
       "<table>\n",
       "<caption>A data.frame: 6 × 27</caption>\n",
       "<thead>\n",
       "\t<tr><th></th><th scope=col>Manufacturer</th><th scope=col>Model</th><th scope=col>Type</th><th scope=col>Minimum</th><th scope=col>Price</th><th scope=col>Maximum</th><th scope=col>MPG.city</th><th scope=col>MPG.highway</th><th scope=col>AirBags</th><th scope=col>DriveTrain</th><th scope=col>⋯</th><th scope=col>Passengers</th><th scope=col>Length</th><th scope=col>Wheelbase</th><th scope=col>Width</th><th scope=col>Turn.circle</th><th scope=col>Rear.seat.room</th><th scope=col>Luggage.room</th><th scope=col>Weight</th><th scope=col>Origin</th><th scope=col>Make</th></tr>\n",
       "\t<tr><th></th><th scope=col>&lt;fct&gt;</th><th scope=col>&lt;fct&gt;</th><th scope=col>&lt;fct&gt;</th><th scope=col>&lt;dbl&gt;</th><th scope=col>&lt;dbl&gt;</th><th scope=col>&lt;dbl&gt;</th><th scope=col>&lt;int&gt;</th><th scope=col>&lt;int&gt;</th><th scope=col>&lt;fct&gt;</th><th scope=col>&lt;fct&gt;</th><th scope=col>⋯</th><th scope=col>&lt;int&gt;</th><th scope=col>&lt;int&gt;</th><th scope=col>&lt;int&gt;</th><th scope=col>&lt;int&gt;</th><th scope=col>&lt;int&gt;</th><th scope=col>&lt;dbl&gt;</th><th scope=col>&lt;int&gt;</th><th scope=col>&lt;int&gt;</th><th scope=col>&lt;fct&gt;</th><th scope=col>&lt;fct&gt;</th></tr>\n",
       "</thead>\n",
       "<tbody>\n",
       "\t<tr><th scope=row>1</th><td>Acura</td><td>Integra</td><td>Small  </td><td>12.9</td><td>15.9</td><td>18.8</td><td>25</td><td>31</td><td>None              </td><td>Front</td><td>⋯</td><td>5</td><td>177</td><td>102</td><td>68</td><td>37</td><td>26.5</td><td>11</td><td>2705</td><td>non-USA</td><td>Acura Integra</td></tr>\n",
       "\t<tr><th scope=row>2</th><td>Acura</td><td>Legend </td><td>Midsize</td><td>29.2</td><td>33.9</td><td>38.7</td><td>18</td><td>25</td><td>Driver &amp; Passenger</td><td>Front</td><td>⋯</td><td>5</td><td>195</td><td>115</td><td>71</td><td>38</td><td>30.0</td><td>15</td><td>3560</td><td>non-USA</td><td>Acura Legend </td></tr>\n",
       "\t<tr><th scope=row>3</th><td>Audi </td><td>90     </td><td>Compact</td><td>25.9</td><td>29.1</td><td>32.3</td><td>20</td><td>26</td><td>Driver only       </td><td>Front</td><td>⋯</td><td>5</td><td>180</td><td>102</td><td>67</td><td>37</td><td>28.0</td><td>14</td><td>3375</td><td>non-USA</td><td>Audi 90      </td></tr>\n",
       "\t<tr><th scope=row>4</th><td>Audi </td><td><span style=white-space:pre-wrap>100    </span></td><td>Midsize</td><td>30.8</td><td>37.7</td><td>44.6</td><td>19</td><td>26</td><td>Driver &amp; Passenger</td><td>Front</td><td>⋯</td><td>6</td><td>193</td><td>106</td><td>70</td><td>37</td><td>31.0</td><td>17</td><td>3405</td><td>non-USA</td><td><span style=white-space:pre-wrap>Audi 100     </span></td></tr>\n",
       "\t<tr><th scope=row>5</th><td>BMW  </td><td>535i   </td><td>Midsize</td><td>23.7</td><td>30.0</td><td>36.2</td><td>22</td><td>30</td><td>Driver only       </td><td>Rear </td><td>⋯</td><td>4</td><td>186</td><td>109</td><td>69</td><td>39</td><td>27.0</td><td>13</td><td>3640</td><td>non-USA</td><td>BMW 535i     </td></tr>\n",
       "\t<tr><th scope=row>6</th><td>Buick</td><td>Century</td><td>Midsize</td><td>14.2</td><td>15.7</td><td>17.3</td><td>22</td><td>31</td><td>Driver only       </td><td>Front</td><td>⋯</td><td>6</td><td>189</td><td>105</td><td>69</td><td>41</td><td>28.0</td><td>16</td><td>2880</td><td>USA    </td><td>Buick Century</td></tr>\n",
       "</tbody>\n",
       "</table>\n"
      ],
      "text/latex": [
       "A data.frame: 6 × 27\n",
       "\\begin{tabular}{r|lllllllllllllllllllll}\n",
       "  & Manufacturer & Model & Type & Minimum & Price & Maximum & MPG.city & MPG.highway & AirBags & DriveTrain & ⋯ & Passengers & Length & Wheelbase & Width & Turn.circle & Rear.seat.room & Luggage.room & Weight & Origin & Make\\\\\n",
       "  & <fct> & <fct> & <fct> & <dbl> & <dbl> & <dbl> & <int> & <int> & <fct> & <fct> & ⋯ & <int> & <int> & <int> & <int> & <int> & <dbl> & <int> & <int> & <fct> & <fct>\\\\\n",
       "\\hline\n",
       "\t1 & Acura & Integra & Small   & 12.9 & 15.9 & 18.8 & 25 & 31 & None               & Front & ⋯ & 5 & 177 & 102 & 68 & 37 & 26.5 & 11 & 2705 & non-USA & Acura Integra\\\\\n",
       "\t2 & Acura & Legend  & Midsize & 29.2 & 33.9 & 38.7 & 18 & 25 & Driver \\& Passenger & Front & ⋯ & 5 & 195 & 115 & 71 & 38 & 30.0 & 15 & 3560 & non-USA & Acura Legend \\\\\n",
       "\t3 & Audi  & 90      & Compact & 25.9 & 29.1 & 32.3 & 20 & 26 & Driver only        & Front & ⋯ & 5 & 180 & 102 & 67 & 37 & 28.0 & 14 & 3375 & non-USA & Audi 90      \\\\\n",
       "\t4 & Audi  & 100     & Midsize & 30.8 & 37.7 & 44.6 & 19 & 26 & Driver \\& Passenger & Front & ⋯ & 6 & 193 & 106 & 70 & 37 & 31.0 & 17 & 3405 & non-USA & Audi 100     \\\\\n",
       "\t5 & BMW   & 535i    & Midsize & 23.7 & 30.0 & 36.2 & 22 & 30 & Driver only        & Rear  & ⋯ & 4 & 186 & 109 & 69 & 39 & 27.0 & 13 & 3640 & non-USA & BMW 535i     \\\\\n",
       "\t6 & Buick & Century & Midsize & 14.2 & 15.7 & 17.3 & 22 & 31 & Driver only        & Front & ⋯ & 6 & 189 & 105 & 69 & 41 & 28.0 & 16 & 2880 & USA     & Buick Century\\\\\n",
       "\\end{tabular}\n"
      ],
      "text/markdown": [
       "\n",
       "A data.frame: 6 × 27\n",
       "\n",
       "| <!--/--> | Manufacturer &lt;fct&gt; | Model &lt;fct&gt; | Type &lt;fct&gt; | Minimum &lt;dbl&gt; | Price &lt;dbl&gt; | Maximum &lt;dbl&gt; | MPG.city &lt;int&gt; | MPG.highway &lt;int&gt; | AirBags &lt;fct&gt; | DriveTrain &lt;fct&gt; | ⋯ ⋯ | Passengers &lt;int&gt; | Length &lt;int&gt; | Wheelbase &lt;int&gt; | Width &lt;int&gt; | Turn.circle &lt;int&gt; | Rear.seat.room &lt;dbl&gt; | Luggage.room &lt;int&gt; | Weight &lt;int&gt; | Origin &lt;fct&gt; | Make &lt;fct&gt; |\n",
       "|---|---|---|---|---|---|---|---|---|---|---|---|---|---|---|---|---|---|---|---|---|---|\n",
       "| 1 | Acura | Integra | Small   | 12.9 | 15.9 | 18.8 | 25 | 31 | None               | Front | ⋯ | 5 | 177 | 102 | 68 | 37 | 26.5 | 11 | 2705 | non-USA | Acura Integra |\n",
       "| 2 | Acura | Legend  | Midsize | 29.2 | 33.9 | 38.7 | 18 | 25 | Driver &amp; Passenger | Front | ⋯ | 5 | 195 | 115 | 71 | 38 | 30.0 | 15 | 3560 | non-USA | Acura Legend  |\n",
       "| 3 | Audi  | 90      | Compact | 25.9 | 29.1 | 32.3 | 20 | 26 | Driver only        | Front | ⋯ | 5 | 180 | 102 | 67 | 37 | 28.0 | 14 | 3375 | non-USA | Audi 90       |\n",
       "| 4 | Audi  | 100     | Midsize | 30.8 | 37.7 | 44.6 | 19 | 26 | Driver &amp; Passenger | Front | ⋯ | 6 | 193 | 106 | 70 | 37 | 31.0 | 17 | 3405 | non-USA | Audi 100      |\n",
       "| 5 | BMW   | 535i    | Midsize | 23.7 | 30.0 | 36.2 | 22 | 30 | Driver only        | Rear  | ⋯ | 4 | 186 | 109 | 69 | 39 | 27.0 | 13 | 3640 | non-USA | BMW 535i      |\n",
       "| 6 | Buick | Century | Midsize | 14.2 | 15.7 | 17.3 | 22 | 31 | Driver only        | Front | ⋯ | 6 | 189 | 105 | 69 | 41 | 28.0 | 16 | 2880 | USA     | Buick Century |\n",
       "\n"
      ],
      "text/plain": [
       "  Manufacturer Model   Type    Minimum Price Maximum MPG.city MPG.highway\n",
       "1 Acura        Integra Small   12.9    15.9  18.8    25       31         \n",
       "2 Acura        Legend  Midsize 29.2    33.9  38.7    18       25         \n",
       "3 Audi         90      Compact 25.9    29.1  32.3    20       26         \n",
       "4 Audi         100     Midsize 30.8    37.7  44.6    19       26         \n",
       "5 BMW          535i    Midsize 23.7    30.0  36.2    22       30         \n",
       "6 Buick        Century Midsize 14.2    15.7  17.3    22       31         \n",
       "  AirBags            DriveTrain ⋯ Passengers Length Wheelbase Width Turn.circle\n",
       "1 None               Front      ⋯ 5          177    102       68    37         \n",
       "2 Driver & Passenger Front      ⋯ 5          195    115       71    38         \n",
       "3 Driver only        Front      ⋯ 5          180    102       67    37         \n",
       "4 Driver & Passenger Front      ⋯ 6          193    106       70    37         \n",
       "5 Driver only        Rear       ⋯ 4          186    109       69    39         \n",
       "6 Driver only        Front      ⋯ 6          189    105       69    41         \n",
       "  Rear.seat.room Luggage.room Weight Origin  Make         \n",
       "1 26.5           11           2705   non-USA Acura Integra\n",
       "2 30.0           15           3560   non-USA Acura Legend \n",
       "3 28.0           14           3375   non-USA Audi 90      \n",
       "4 31.0           17           3405   non-USA Audi 100     \n",
       "5 27.0           13           3640   non-USA BMW 535i     \n",
       "6 28.0           16           2880   USA     Buick Century"
      ]
     },
     "metadata": {},
     "output_type": "display_data"
    }
   ],
   "source": [
    "head(tbl1)\n",
    "tbl8 <- rename(tbl1, Minimum=Min.Price, Maximum=Max.Price)\n",
    "head(tbl8)"
   ]
  },
  {
   "cell_type": "code",
   "execution_count": 11,
   "metadata": {},
   "outputs": [
    {
     "data": {
      "text/html": [
       "<table>\n",
       "<caption>A data.frame: 6 × 27</caption>\n",
       "<thead>\n",
       "\t<tr><th></th><th scope=col>Manufacturer</th><th scope=col>Model</th><th scope=col>Type</th><th scope=col>Min.Price</th><th scope=col>Price</th><th scope=col>Max.Price</th><th scope=col>MPG.city</th><th scope=col>MPG.highway</th><th scope=col>AirBags</th><th scope=col>DriveTrain</th><th scope=col>⋯</th><th scope=col>Passengers</th><th scope=col>Length</th><th scope=col>Wheelbase</th><th scope=col>Width</th><th scope=col>Turn.circle</th><th scope=col>Rear.seat.room</th><th scope=col>Luggage.room</th><th scope=col>Weight</th><th scope=col>Origin</th><th scope=col>Make</th></tr>\n",
       "\t<tr><th></th><th scope=col>&lt;fct&gt;</th><th scope=col>&lt;fct&gt;</th><th scope=col>&lt;fct&gt;</th><th scope=col>&lt;dbl&gt;</th><th scope=col>&lt;dbl&gt;</th><th scope=col>&lt;dbl&gt;</th><th scope=col>&lt;int&gt;</th><th scope=col>&lt;int&gt;</th><th scope=col>&lt;fct&gt;</th><th scope=col>&lt;fct&gt;</th><th scope=col>⋯</th><th scope=col>&lt;int&gt;</th><th scope=col>&lt;int&gt;</th><th scope=col>&lt;int&gt;</th><th scope=col>&lt;int&gt;</th><th scope=col>&lt;int&gt;</th><th scope=col>&lt;dbl&gt;</th><th scope=col>&lt;int&gt;</th><th scope=col>&lt;int&gt;</th><th scope=col>&lt;fct&gt;</th><th scope=col>&lt;fct&gt;</th></tr>\n",
       "</thead>\n",
       "<tbody>\n",
       "\t<tr><th scope=row>1</th><td>Acura</td><td>Integra</td><td>Small  </td><td>12.9</td><td>15.9</td><td>18.8</td><td>25</td><td>31</td><td>None              </td><td>Front</td><td>⋯</td><td>5</td><td>177</td><td>102</td><td>68</td><td>37</td><td>26.5</td><td>11</td><td>2705</td><td>non-USA</td><td>Acura Integra</td></tr>\n",
       "\t<tr><th scope=row>2</th><td>Acura</td><td>Legend </td><td>Midsize</td><td>29.2</td><td>33.9</td><td>38.7</td><td>18</td><td>25</td><td>Driver &amp; Passenger</td><td>Front</td><td>⋯</td><td>5</td><td>195</td><td>115</td><td>71</td><td>38</td><td>30.0</td><td>15</td><td>3560</td><td>non-USA</td><td>Acura Legend </td></tr>\n",
       "\t<tr><th scope=row>3</th><td>Audi </td><td>90     </td><td>Compact</td><td>25.9</td><td>29.1</td><td>32.3</td><td>20</td><td>26</td><td>Driver only       </td><td>Front</td><td>⋯</td><td>5</td><td>180</td><td>102</td><td>67</td><td>37</td><td>28.0</td><td>14</td><td>3375</td><td>non-USA</td><td>Audi 90      </td></tr>\n",
       "\t<tr><th scope=row>4</th><td>Audi </td><td><span style=white-space:pre-wrap>100    </span></td><td>Midsize</td><td>30.8</td><td>37.7</td><td>44.6</td><td>19</td><td>26</td><td>Driver &amp; Passenger</td><td>Front</td><td>⋯</td><td>6</td><td>193</td><td>106</td><td>70</td><td>37</td><td>31.0</td><td>17</td><td>3405</td><td>non-USA</td><td><span style=white-space:pre-wrap>Audi 100     </span></td></tr>\n",
       "\t<tr><th scope=row>5</th><td>BMW  </td><td>535i   </td><td>Midsize</td><td>23.7</td><td>30.0</td><td>36.2</td><td>22</td><td>30</td><td>Driver only       </td><td>Rear </td><td>⋯</td><td>4</td><td>186</td><td>109</td><td>69</td><td>39</td><td>27.0</td><td>13</td><td>3640</td><td>non-USA</td><td>BMW 535i     </td></tr>\n",
       "\t<tr><th scope=row>6</th><td>Buick</td><td>Century</td><td>Midsize</td><td>14.2</td><td>15.7</td><td>17.3</td><td>22</td><td>31</td><td>Driver only       </td><td>Front</td><td>⋯</td><td>6</td><td>189</td><td>105</td><td>69</td><td>41</td><td>28.0</td><td>16</td><td>2880</td><td>USA    </td><td>Buick Century</td></tr>\n",
       "</tbody>\n",
       "</table>\n"
      ],
      "text/latex": [
       "A data.frame: 6 × 27\n",
       "\\begin{tabular}{r|lllllllllllllllllllll}\n",
       "  & Manufacturer & Model & Type & Min.Price & Price & Max.Price & MPG.city & MPG.highway & AirBags & DriveTrain & ⋯ & Passengers & Length & Wheelbase & Width & Turn.circle & Rear.seat.room & Luggage.room & Weight & Origin & Make\\\\\n",
       "  & <fct> & <fct> & <fct> & <dbl> & <dbl> & <dbl> & <int> & <int> & <fct> & <fct> & ⋯ & <int> & <int> & <int> & <int> & <int> & <dbl> & <int> & <int> & <fct> & <fct>\\\\\n",
       "\\hline\n",
       "\t1 & Acura & Integra & Small   & 12.9 & 15.9 & 18.8 & 25 & 31 & None               & Front & ⋯ & 5 & 177 & 102 & 68 & 37 & 26.5 & 11 & 2705 & non-USA & Acura Integra\\\\\n",
       "\t2 & Acura & Legend  & Midsize & 29.2 & 33.9 & 38.7 & 18 & 25 & Driver \\& Passenger & Front & ⋯ & 5 & 195 & 115 & 71 & 38 & 30.0 & 15 & 3560 & non-USA & Acura Legend \\\\\n",
       "\t3 & Audi  & 90      & Compact & 25.9 & 29.1 & 32.3 & 20 & 26 & Driver only        & Front & ⋯ & 5 & 180 & 102 & 67 & 37 & 28.0 & 14 & 3375 & non-USA & Audi 90      \\\\\n",
       "\t4 & Audi  & 100     & Midsize & 30.8 & 37.7 & 44.6 & 19 & 26 & Driver \\& Passenger & Front & ⋯ & 6 & 193 & 106 & 70 & 37 & 31.0 & 17 & 3405 & non-USA & Audi 100     \\\\\n",
       "\t5 & BMW   & 535i    & Midsize & 23.7 & 30.0 & 36.2 & 22 & 30 & Driver only        & Rear  & ⋯ & 4 & 186 & 109 & 69 & 39 & 27.0 & 13 & 3640 & non-USA & BMW 535i     \\\\\n",
       "\t6 & Buick & Century & Midsize & 14.2 & 15.7 & 17.3 & 22 & 31 & Driver only        & Front & ⋯ & 6 & 189 & 105 & 69 & 41 & 28.0 & 16 & 2880 & USA     & Buick Century\\\\\n",
       "\\end{tabular}\n"
      ],
      "text/markdown": [
       "\n",
       "A data.frame: 6 × 27\n",
       "\n",
       "| <!--/--> | Manufacturer &lt;fct&gt; | Model &lt;fct&gt; | Type &lt;fct&gt; | Min.Price &lt;dbl&gt; | Price &lt;dbl&gt; | Max.Price &lt;dbl&gt; | MPG.city &lt;int&gt; | MPG.highway &lt;int&gt; | AirBags &lt;fct&gt; | DriveTrain &lt;fct&gt; | ⋯ ⋯ | Passengers &lt;int&gt; | Length &lt;int&gt; | Wheelbase &lt;int&gt; | Width &lt;int&gt; | Turn.circle &lt;int&gt; | Rear.seat.room &lt;dbl&gt; | Luggage.room &lt;int&gt; | Weight &lt;int&gt; | Origin &lt;fct&gt; | Make &lt;fct&gt; |\n",
       "|---|---|---|---|---|---|---|---|---|---|---|---|---|---|---|---|---|---|---|---|---|---|\n",
       "| 1 | Acura | Integra | Small   | 12.9 | 15.9 | 18.8 | 25 | 31 | None               | Front | ⋯ | 5 | 177 | 102 | 68 | 37 | 26.5 | 11 | 2705 | non-USA | Acura Integra |\n",
       "| 2 | Acura | Legend  | Midsize | 29.2 | 33.9 | 38.7 | 18 | 25 | Driver &amp; Passenger | Front | ⋯ | 5 | 195 | 115 | 71 | 38 | 30.0 | 15 | 3560 | non-USA | Acura Legend  |\n",
       "| 3 | Audi  | 90      | Compact | 25.9 | 29.1 | 32.3 | 20 | 26 | Driver only        | Front | ⋯ | 5 | 180 | 102 | 67 | 37 | 28.0 | 14 | 3375 | non-USA | Audi 90       |\n",
       "| 4 | Audi  | 100     | Midsize | 30.8 | 37.7 | 44.6 | 19 | 26 | Driver &amp; Passenger | Front | ⋯ | 6 | 193 | 106 | 70 | 37 | 31.0 | 17 | 3405 | non-USA | Audi 100      |\n",
       "| 5 | BMW   | 535i    | Midsize | 23.7 | 30.0 | 36.2 | 22 | 30 | Driver only        | Rear  | ⋯ | 4 | 186 | 109 | 69 | 39 | 27.0 | 13 | 3640 | non-USA | BMW 535i      |\n",
       "| 6 | Buick | Century | Midsize | 14.2 | 15.7 | 17.3 | 22 | 31 | Driver only        | Front | ⋯ | 6 | 189 | 105 | 69 | 41 | 28.0 | 16 | 2880 | USA     | Buick Century |\n",
       "\n"
      ],
      "text/plain": [
       "  Manufacturer Model   Type    Min.Price Price Max.Price MPG.city MPG.highway\n",
       "1 Acura        Integra Small   12.9      15.9  18.8      25       31         \n",
       "2 Acura        Legend  Midsize 29.2      33.9  38.7      18       25         \n",
       "3 Audi         90      Compact 25.9      29.1  32.3      20       26         \n",
       "4 Audi         100     Midsize 30.8      37.7  44.6      19       26         \n",
       "5 BMW          535i    Midsize 23.7      30.0  36.2      22       30         \n",
       "6 Buick        Century Midsize 14.2      15.7  17.3      22       31         \n",
       "  AirBags            DriveTrain ⋯ Passengers Length Wheelbase Width Turn.circle\n",
       "1 None               Front      ⋯ 5          177    102       68    37         \n",
       "2 Driver & Passenger Front      ⋯ 5          195    115       71    38         \n",
       "3 Driver only        Front      ⋯ 5          180    102       67    37         \n",
       "4 Driver & Passenger Front      ⋯ 6          193    106       70    37         \n",
       "5 Driver only        Rear       ⋯ 4          186    109       69    39         \n",
       "6 Driver only        Front      ⋯ 6          189    105       69    41         \n",
       "  Rear.seat.room Luggage.room Weight Origin  Make         \n",
       "1 26.5           11           2705   non-USA Acura Integra\n",
       "2 30.0           15           3560   non-USA Acura Legend \n",
       "3 28.0           14           3375   non-USA Audi 90      \n",
       "4 31.0           17           3405   non-USA Audi 100     \n",
       "5 27.0           13           3640   non-USA BMW 535i     \n",
       "6 28.0           16           2880   USA     Buick Century"
      ]
     },
     "metadata": {},
     "output_type": "display_data"
    },
    {
     "data": {
      "text/html": [
       "<table>\n",
       "<caption>A data.frame: 6 × 28</caption>\n",
       "<thead>\n",
       "\t<tr><th></th><th scope=col>Manufacturer</th><th scope=col>Model</th><th scope=col>Type</th><th scope=col>Min.Price</th><th scope=col>Price</th><th scope=col>Max.Price</th><th scope=col>MPG.city</th><th scope=col>MPG.highway</th><th scope=col>AirBags</th><th scope=col>DriveTrain</th><th scope=col>⋯</th><th scope=col>Length</th><th scope=col>Wheelbase</th><th scope=col>Width</th><th scope=col>Turn.circle</th><th scope=col>Rear.seat.room</th><th scope=col>Luggage.room</th><th scope=col>Weight</th><th scope=col>Origin</th><th scope=col>Make</th><th scope=col>PriceRange</th></tr>\n",
       "\t<tr><th></th><th scope=col>&lt;fct&gt;</th><th scope=col>&lt;fct&gt;</th><th scope=col>&lt;fct&gt;</th><th scope=col>&lt;dbl&gt;</th><th scope=col>&lt;dbl&gt;</th><th scope=col>&lt;dbl&gt;</th><th scope=col>&lt;int&gt;</th><th scope=col>&lt;int&gt;</th><th scope=col>&lt;fct&gt;</th><th scope=col>&lt;fct&gt;</th><th scope=col>⋯</th><th scope=col>&lt;int&gt;</th><th scope=col>&lt;int&gt;</th><th scope=col>&lt;int&gt;</th><th scope=col>&lt;int&gt;</th><th scope=col>&lt;dbl&gt;</th><th scope=col>&lt;int&gt;</th><th scope=col>&lt;int&gt;</th><th scope=col>&lt;fct&gt;</th><th scope=col>&lt;fct&gt;</th><th scope=col>&lt;dbl&gt;</th></tr>\n",
       "</thead>\n",
       "<tbody>\n",
       "\t<tr><th scope=row>1</th><td>Acura</td><td>Integra</td><td>Small  </td><td>12.9</td><td>15.9</td><td>18.8</td><td>25</td><td>31</td><td>None              </td><td>Front</td><td>⋯</td><td>177</td><td>102</td><td>68</td><td>37</td><td>26.5</td><td>11</td><td>2705</td><td>non-USA</td><td>Acura Integra</td><td> 5.9</td></tr>\n",
       "\t<tr><th scope=row>2</th><td>Acura</td><td>Legend </td><td>Midsize</td><td>29.2</td><td>33.9</td><td>38.7</td><td>18</td><td>25</td><td>Driver &amp; Passenger</td><td>Front</td><td>⋯</td><td>195</td><td>115</td><td>71</td><td>38</td><td>30.0</td><td>15</td><td>3560</td><td>non-USA</td><td>Acura Legend </td><td> 9.5</td></tr>\n",
       "\t<tr><th scope=row>3</th><td>Audi </td><td>90     </td><td>Compact</td><td>25.9</td><td>29.1</td><td>32.3</td><td>20</td><td>26</td><td>Driver only       </td><td>Front</td><td>⋯</td><td>180</td><td>102</td><td>67</td><td>37</td><td>28.0</td><td>14</td><td>3375</td><td>non-USA</td><td>Audi 90      </td><td> 6.4</td></tr>\n",
       "\t<tr><th scope=row>4</th><td>Audi </td><td><span style=white-space:pre-wrap>100    </span></td><td>Midsize</td><td>30.8</td><td>37.7</td><td>44.6</td><td>19</td><td>26</td><td>Driver &amp; Passenger</td><td>Front</td><td>⋯</td><td>193</td><td>106</td><td>70</td><td>37</td><td>31.0</td><td>17</td><td>3405</td><td>non-USA</td><td><span style=white-space:pre-wrap>Audi 100     </span></td><td>13.8</td></tr>\n",
       "\t<tr><th scope=row>5</th><td>BMW  </td><td>535i   </td><td>Midsize</td><td>23.7</td><td>30.0</td><td>36.2</td><td>22</td><td>30</td><td>Driver only       </td><td>Rear </td><td>⋯</td><td>186</td><td>109</td><td>69</td><td>39</td><td>27.0</td><td>13</td><td>3640</td><td>non-USA</td><td>BMW 535i     </td><td>12.5</td></tr>\n",
       "\t<tr><th scope=row>6</th><td>Buick</td><td>Century</td><td>Midsize</td><td>14.2</td><td>15.7</td><td>17.3</td><td>22</td><td>31</td><td>Driver only       </td><td>Front</td><td>⋯</td><td>189</td><td>105</td><td>69</td><td>41</td><td>28.0</td><td>16</td><td>2880</td><td>USA    </td><td>Buick Century</td><td> 3.1</td></tr>\n",
       "</tbody>\n",
       "</table>\n"
      ],
      "text/latex": [
       "A data.frame: 6 × 28\n",
       "\\begin{tabular}{r|lllllllllllllllllllll}\n",
       "  & Manufacturer & Model & Type & Min.Price & Price & Max.Price & MPG.city & MPG.highway & AirBags & DriveTrain & ⋯ & Length & Wheelbase & Width & Turn.circle & Rear.seat.room & Luggage.room & Weight & Origin & Make & PriceRange\\\\\n",
       "  & <fct> & <fct> & <fct> & <dbl> & <dbl> & <dbl> & <int> & <int> & <fct> & <fct> & ⋯ & <int> & <int> & <int> & <int> & <dbl> & <int> & <int> & <fct> & <fct> & <dbl>\\\\\n",
       "\\hline\n",
       "\t1 & Acura & Integra & Small   & 12.9 & 15.9 & 18.8 & 25 & 31 & None               & Front & ⋯ & 177 & 102 & 68 & 37 & 26.5 & 11 & 2705 & non-USA & Acura Integra &  5.9\\\\\n",
       "\t2 & Acura & Legend  & Midsize & 29.2 & 33.9 & 38.7 & 18 & 25 & Driver \\& Passenger & Front & ⋯ & 195 & 115 & 71 & 38 & 30.0 & 15 & 3560 & non-USA & Acura Legend  &  9.5\\\\\n",
       "\t3 & Audi  & 90      & Compact & 25.9 & 29.1 & 32.3 & 20 & 26 & Driver only        & Front & ⋯ & 180 & 102 & 67 & 37 & 28.0 & 14 & 3375 & non-USA & Audi 90       &  6.4\\\\\n",
       "\t4 & Audi  & 100     & Midsize & 30.8 & 37.7 & 44.6 & 19 & 26 & Driver \\& Passenger & Front & ⋯ & 193 & 106 & 70 & 37 & 31.0 & 17 & 3405 & non-USA & Audi 100      & 13.8\\\\\n",
       "\t5 & BMW   & 535i    & Midsize & 23.7 & 30.0 & 36.2 & 22 & 30 & Driver only        & Rear  & ⋯ & 186 & 109 & 69 & 39 & 27.0 & 13 & 3640 & non-USA & BMW 535i      & 12.5\\\\\n",
       "\t6 & Buick & Century & Midsize & 14.2 & 15.7 & 17.3 & 22 & 31 & Driver only        & Front & ⋯ & 189 & 105 & 69 & 41 & 28.0 & 16 & 2880 & USA     & Buick Century &  3.1\\\\\n",
       "\\end{tabular}\n"
      ],
      "text/markdown": [
       "\n",
       "A data.frame: 6 × 28\n",
       "\n",
       "| <!--/--> | Manufacturer &lt;fct&gt; | Model &lt;fct&gt; | Type &lt;fct&gt; | Min.Price &lt;dbl&gt; | Price &lt;dbl&gt; | Max.Price &lt;dbl&gt; | MPG.city &lt;int&gt; | MPG.highway &lt;int&gt; | AirBags &lt;fct&gt; | DriveTrain &lt;fct&gt; | ⋯ ⋯ | Length &lt;int&gt; | Wheelbase &lt;int&gt; | Width &lt;int&gt; | Turn.circle &lt;int&gt; | Rear.seat.room &lt;dbl&gt; | Luggage.room &lt;int&gt; | Weight &lt;int&gt; | Origin &lt;fct&gt; | Make &lt;fct&gt; | PriceRange &lt;dbl&gt; |\n",
       "|---|---|---|---|---|---|---|---|---|---|---|---|---|---|---|---|---|---|---|---|---|---|\n",
       "| 1 | Acura | Integra | Small   | 12.9 | 15.9 | 18.8 | 25 | 31 | None               | Front | ⋯ | 177 | 102 | 68 | 37 | 26.5 | 11 | 2705 | non-USA | Acura Integra |  5.9 |\n",
       "| 2 | Acura | Legend  | Midsize | 29.2 | 33.9 | 38.7 | 18 | 25 | Driver &amp; Passenger | Front | ⋯ | 195 | 115 | 71 | 38 | 30.0 | 15 | 3560 | non-USA | Acura Legend  |  9.5 |\n",
       "| 3 | Audi  | 90      | Compact | 25.9 | 29.1 | 32.3 | 20 | 26 | Driver only        | Front | ⋯ | 180 | 102 | 67 | 37 | 28.0 | 14 | 3375 | non-USA | Audi 90       |  6.4 |\n",
       "| 4 | Audi  | 100     | Midsize | 30.8 | 37.7 | 44.6 | 19 | 26 | Driver &amp; Passenger | Front | ⋯ | 193 | 106 | 70 | 37 | 31.0 | 17 | 3405 | non-USA | Audi 100      | 13.8 |\n",
       "| 5 | BMW   | 535i    | Midsize | 23.7 | 30.0 | 36.2 | 22 | 30 | Driver only        | Rear  | ⋯ | 186 | 109 | 69 | 39 | 27.0 | 13 | 3640 | non-USA | BMW 535i      | 12.5 |\n",
       "| 6 | Buick | Century | Midsize | 14.2 | 15.7 | 17.3 | 22 | 31 | Driver only        | Front | ⋯ | 189 | 105 | 69 | 41 | 28.0 | 16 | 2880 | USA     | Buick Century |  3.1 |\n",
       "\n"
      ],
      "text/plain": [
       "  Manufacturer Model   Type    Min.Price Price Max.Price MPG.city MPG.highway\n",
       "1 Acura        Integra Small   12.9      15.9  18.8      25       31         \n",
       "2 Acura        Legend  Midsize 29.2      33.9  38.7      18       25         \n",
       "3 Audi         90      Compact 25.9      29.1  32.3      20       26         \n",
       "4 Audi         100     Midsize 30.8      37.7  44.6      19       26         \n",
       "5 BMW          535i    Midsize 23.7      30.0  36.2      22       30         \n",
       "6 Buick        Century Midsize 14.2      15.7  17.3      22       31         \n",
       "  AirBags            DriveTrain ⋯ Length Wheelbase Width Turn.circle\n",
       "1 None               Front      ⋯ 177    102       68    37         \n",
       "2 Driver & Passenger Front      ⋯ 195    115       71    38         \n",
       "3 Driver only        Front      ⋯ 180    102       67    37         \n",
       "4 Driver & Passenger Front      ⋯ 193    106       70    37         \n",
       "5 Driver only        Rear       ⋯ 186    109       69    39         \n",
       "6 Driver only        Front      ⋯ 189    105       69    41         \n",
       "  Rear.seat.room Luggage.room Weight Origin  Make          PriceRange\n",
       "1 26.5           11           2705   non-USA Acura Integra  5.9      \n",
       "2 30.0           15           3560   non-USA Acura Legend   9.5      \n",
       "3 28.0           14           3375   non-USA Audi 90        6.4      \n",
       "4 31.0           17           3405   non-USA Audi 100      13.8      \n",
       "5 27.0           13           3640   non-USA BMW 535i      12.5      \n",
       "6 28.0           16           2880   USA     Buick Century  3.1      "
      ]
     },
     "metadata": {},
     "output_type": "display_data"
    }
   ],
   "source": [
    "head(tbl1)\n",
    "tbl9 <- mutate(tbl1, PriceRange=Max.Price - Min.Price)\n",
    "head(tbl9)"
   ]
  },
  {
   "cell_type": "code",
   "execution_count": 12,
   "metadata": {},
   "outputs": [
    {
     "data": {
      "text/html": [
       "<table>\n",
       "<caption>A data.frame: 1 × 3</caption>\n",
       "<thead>\n",
       "\t<tr><th scope=col>avg.Price</th><th scope=col>avg.Wheelbase</th><th scope=col>avg.Luggageroom</th></tr>\n",
       "\t<tr><th scope=col>&lt;dbl&gt;</th><th scope=col>&lt;dbl&gt;</th><th scope=col>&lt;dbl&gt;</th></tr>\n",
       "</thead>\n",
       "<tbody>\n",
       "\t<tr><td>19.50968</td><td>103.9462</td><td>13.89024</td></tr>\n",
       "</tbody>\n",
       "</table>\n"
      ],
      "text/latex": [
       "A data.frame: 1 × 3\n",
       "\\begin{tabular}{lll}\n",
       " avg.Price & avg.Wheelbase & avg.Luggageroom\\\\\n",
       " <dbl> & <dbl> & <dbl>\\\\\n",
       "\\hline\n",
       "\t 19.50968 & 103.9462 & 13.89024\\\\\n",
       "\\end{tabular}\n"
      ],
      "text/markdown": [
       "\n",
       "A data.frame: 1 × 3\n",
       "\n",
       "| avg.Price &lt;dbl&gt; | avg.Wheelbase &lt;dbl&gt; | avg.Luggageroom &lt;dbl&gt; |\n",
       "|---|---|---|\n",
       "| 19.50968 | 103.9462 | 13.89024 |\n",
       "\n"
      ],
      "text/plain": [
       "  avg.Price avg.Wheelbase avg.Luggageroom\n",
       "1 19.50968  103.9462      13.89024       "
      ]
     },
     "metadata": {},
     "output_type": "display_data"
    }
   ],
   "source": [
    "summarise(tbl1, avg.Price=mean(Price, na.rm=T), avg.Wheelbase=mean(Wheelbase, na.rm=T),\n",
    "          avg.Luggageroom=mean(Luggage.room, na.rm=T))"
   ]
  },
  {
   "cell_type": "code",
   "execution_count": 13,
   "metadata": {},
   "outputs": [
    {
     "data": {
      "text/html": [
       "<table>\n",
       "<caption>A tibble: 6 × 27</caption>\n",
       "<thead>\n",
       "\t<tr><th scope=col>Manufacturer</th><th scope=col>Model</th><th scope=col>Type</th><th scope=col>Min.Price</th><th scope=col>Price</th><th scope=col>Max.Price</th><th scope=col>MPG.city</th><th scope=col>MPG.highway</th><th scope=col>AirBags</th><th scope=col>DriveTrain</th><th scope=col>⋯</th><th scope=col>Passengers</th><th scope=col>Length</th><th scope=col>Wheelbase</th><th scope=col>Width</th><th scope=col>Turn.circle</th><th scope=col>Rear.seat.room</th><th scope=col>Luggage.room</th><th scope=col>Weight</th><th scope=col>Origin</th><th scope=col>Make</th></tr>\n",
       "\t<tr><th scope=col>&lt;fct&gt;</th><th scope=col>&lt;fct&gt;</th><th scope=col>&lt;fct&gt;</th><th scope=col>&lt;dbl&gt;</th><th scope=col>&lt;dbl&gt;</th><th scope=col>&lt;dbl&gt;</th><th scope=col>&lt;int&gt;</th><th scope=col>&lt;int&gt;</th><th scope=col>&lt;fct&gt;</th><th scope=col>&lt;fct&gt;</th><th scope=col>⋯</th><th scope=col>&lt;int&gt;</th><th scope=col>&lt;int&gt;</th><th scope=col>&lt;int&gt;</th><th scope=col>&lt;int&gt;</th><th scope=col>&lt;int&gt;</th><th scope=col>&lt;dbl&gt;</th><th scope=col>&lt;int&gt;</th><th scope=col>&lt;int&gt;</th><th scope=col>&lt;fct&gt;</th><th scope=col>&lt;fct&gt;</th></tr>\n",
       "</thead>\n",
       "<tbody>\n",
       "\t<tr><td>Acura</td><td>Integra</td><td>Small  </td><td>12.9</td><td>15.9</td><td>18.8</td><td>25</td><td>31</td><td>None              </td><td>Front</td><td>⋯</td><td>5</td><td>177</td><td>102</td><td>68</td><td>37</td><td>26.5</td><td>11</td><td>2705</td><td>non-USA</td><td>Acura Integra</td></tr>\n",
       "\t<tr><td>Acura</td><td>Legend </td><td>Midsize</td><td>29.2</td><td>33.9</td><td>38.7</td><td>18</td><td>25</td><td>Driver &amp; Passenger</td><td>Front</td><td>⋯</td><td>5</td><td>195</td><td>115</td><td>71</td><td>38</td><td>30.0</td><td>15</td><td>3560</td><td>non-USA</td><td>Acura Legend </td></tr>\n",
       "\t<tr><td>Audi </td><td>90     </td><td>Compact</td><td>25.9</td><td>29.1</td><td>32.3</td><td>20</td><td>26</td><td>Driver only       </td><td>Front</td><td>⋯</td><td>5</td><td>180</td><td>102</td><td>67</td><td>37</td><td>28.0</td><td>14</td><td>3375</td><td>non-USA</td><td>Audi 90      </td></tr>\n",
       "\t<tr><td>Audi </td><td><span style=white-space:pre-wrap>100    </span></td><td>Midsize</td><td>30.8</td><td>37.7</td><td>44.6</td><td>19</td><td>26</td><td>Driver &amp; Passenger</td><td>Front</td><td>⋯</td><td>6</td><td>193</td><td>106</td><td>70</td><td>37</td><td>31.0</td><td>17</td><td>3405</td><td>non-USA</td><td><span style=white-space:pre-wrap>Audi 100     </span></td></tr>\n",
       "\t<tr><td>BMW  </td><td>535i   </td><td>Midsize</td><td>23.7</td><td>30.0</td><td>36.2</td><td>22</td><td>30</td><td>Driver only       </td><td>Rear </td><td>⋯</td><td>4</td><td>186</td><td>109</td><td>69</td><td>39</td><td>27.0</td><td>13</td><td>3640</td><td>non-USA</td><td>BMW 535i     </td></tr>\n",
       "\t<tr><td>Buick</td><td>Century</td><td>Midsize</td><td>14.2</td><td>15.7</td><td>17.3</td><td>22</td><td>31</td><td>Driver only       </td><td>Front</td><td>⋯</td><td>6</td><td>189</td><td>105</td><td>69</td><td>41</td><td>28.0</td><td>16</td><td>2880</td><td>USA    </td><td>Buick Century</td></tr>\n",
       "</tbody>\n",
       "</table>\n"
      ],
      "text/latex": [
       "A tibble: 6 × 27\n",
       "\\begin{tabular}{lllllllllllllllllllll}\n",
       " Manufacturer & Model & Type & Min.Price & Price & Max.Price & MPG.city & MPG.highway & AirBags & DriveTrain & ⋯ & Passengers & Length & Wheelbase & Width & Turn.circle & Rear.seat.room & Luggage.room & Weight & Origin & Make\\\\\n",
       " <fct> & <fct> & <fct> & <dbl> & <dbl> & <dbl> & <int> & <int> & <fct> & <fct> & ⋯ & <int> & <int> & <int> & <int> & <int> & <dbl> & <int> & <int> & <fct> & <fct>\\\\\n",
       "\\hline\n",
       "\t Acura & Integra & Small   & 12.9 & 15.9 & 18.8 & 25 & 31 & None               & Front & ⋯ & 5 & 177 & 102 & 68 & 37 & 26.5 & 11 & 2705 & non-USA & Acura Integra\\\\\n",
       "\t Acura & Legend  & Midsize & 29.2 & 33.9 & 38.7 & 18 & 25 & Driver \\& Passenger & Front & ⋯ & 5 & 195 & 115 & 71 & 38 & 30.0 & 15 & 3560 & non-USA & Acura Legend \\\\\n",
       "\t Audi  & 90      & Compact & 25.9 & 29.1 & 32.3 & 20 & 26 & Driver only        & Front & ⋯ & 5 & 180 & 102 & 67 & 37 & 28.0 & 14 & 3375 & non-USA & Audi 90      \\\\\n",
       "\t Audi  & 100     & Midsize & 30.8 & 37.7 & 44.6 & 19 & 26 & Driver \\& Passenger & Front & ⋯ & 6 & 193 & 106 & 70 & 37 & 31.0 & 17 & 3405 & non-USA & Audi 100     \\\\\n",
       "\t BMW   & 535i    & Midsize & 23.7 & 30.0 & 36.2 & 22 & 30 & Driver only        & Rear  & ⋯ & 4 & 186 & 109 & 69 & 39 & 27.0 & 13 & 3640 & non-USA & BMW 535i     \\\\\n",
       "\t Buick & Century & Midsize & 14.2 & 15.7 & 17.3 & 22 & 31 & Driver only        & Front & ⋯ & 6 & 189 & 105 & 69 & 41 & 28.0 & 16 & 2880 & USA     & Buick Century\\\\\n",
       "\\end{tabular}\n"
      ],
      "text/markdown": [
       "\n",
       "A tibble: 6 × 27\n",
       "\n",
       "| Manufacturer &lt;fct&gt; | Model &lt;fct&gt; | Type &lt;fct&gt; | Min.Price &lt;dbl&gt; | Price &lt;dbl&gt; | Max.Price &lt;dbl&gt; | MPG.city &lt;int&gt; | MPG.highway &lt;int&gt; | AirBags &lt;fct&gt; | DriveTrain &lt;fct&gt; | ⋯ ⋯ | Passengers &lt;int&gt; | Length &lt;int&gt; | Wheelbase &lt;int&gt; | Width &lt;int&gt; | Turn.circle &lt;int&gt; | Rear.seat.room &lt;dbl&gt; | Luggage.room &lt;int&gt; | Weight &lt;int&gt; | Origin &lt;fct&gt; | Make &lt;fct&gt; |\n",
       "|---|---|---|---|---|---|---|---|---|---|---|---|---|---|---|---|---|---|---|---|---|\n",
       "| Acura | Integra | Small   | 12.9 | 15.9 | 18.8 | 25 | 31 | None               | Front | ⋯ | 5 | 177 | 102 | 68 | 37 | 26.5 | 11 | 2705 | non-USA | Acura Integra |\n",
       "| Acura | Legend  | Midsize | 29.2 | 33.9 | 38.7 | 18 | 25 | Driver &amp; Passenger | Front | ⋯ | 5 | 195 | 115 | 71 | 38 | 30.0 | 15 | 3560 | non-USA | Acura Legend  |\n",
       "| Audi  | 90      | Compact | 25.9 | 29.1 | 32.3 | 20 | 26 | Driver only        | Front | ⋯ | 5 | 180 | 102 | 67 | 37 | 28.0 | 14 | 3375 | non-USA | Audi 90       |\n",
       "| Audi  | 100     | Midsize | 30.8 | 37.7 | 44.6 | 19 | 26 | Driver &amp; Passenger | Front | ⋯ | 6 | 193 | 106 | 70 | 37 | 31.0 | 17 | 3405 | non-USA | Audi 100      |\n",
       "| BMW   | 535i    | Midsize | 23.7 | 30.0 | 36.2 | 22 | 30 | Driver only        | Rear  | ⋯ | 4 | 186 | 109 | 69 | 39 | 27.0 | 13 | 3640 | non-USA | BMW 535i      |\n",
       "| Buick | Century | Midsize | 14.2 | 15.7 | 17.3 | 22 | 31 | Driver only        | Front | ⋯ | 6 | 189 | 105 | 69 | 41 | 28.0 | 16 | 2880 | USA     | Buick Century |\n",
       "\n"
      ],
      "text/plain": [
       "  Manufacturer Model   Type    Min.Price Price Max.Price MPG.city MPG.highway\n",
       "1 Acura        Integra Small   12.9      15.9  18.8      25       31         \n",
       "2 Acura        Legend  Midsize 29.2      33.9  38.7      18       25         \n",
       "3 Audi         90      Compact 25.9      29.1  32.3      20       26         \n",
       "4 Audi         100     Midsize 30.8      37.7  44.6      19       26         \n",
       "5 BMW          535i    Midsize 23.7      30.0  36.2      22       30         \n",
       "6 Buick        Century Midsize 14.2      15.7  17.3      22       31         \n",
       "  AirBags            DriveTrain ⋯ Passengers Length Wheelbase Width Turn.circle\n",
       "1 None               Front      ⋯ 5          177    102       68    37         \n",
       "2 Driver & Passenger Front      ⋯ 5          195    115       71    38         \n",
       "3 Driver only        Front      ⋯ 5          180    102       67    37         \n",
       "4 Driver & Passenger Front      ⋯ 6          193    106       70    37         \n",
       "5 Driver only        Rear       ⋯ 4          186    109       69    39         \n",
       "6 Driver only        Front      ⋯ 6          189    105       69    41         \n",
       "  Rear.seat.room Luggage.room Weight Origin  Make         \n",
       "1 26.5           11           2705   non-USA Acura Integra\n",
       "2 30.0           15           3560   non-USA Acura Legend \n",
       "3 28.0           14           3375   non-USA Audi 90      \n",
       "4 31.0           17           3405   non-USA Audi 100     \n",
       "5 27.0           13           3640   non-USA BMW 535i     \n",
       "6 28.0           16           2880   USA     Buick Century"
      ]
     },
     "metadata": {},
     "output_type": "display_data"
    }
   ],
   "source": [
    "head(group_by(tbl1))"
   ]
  },
  {
   "cell_type": "code",
   "execution_count": 14,
   "metadata": {},
   "outputs": [
    {
     "data": {
      "text/html": [
       "<table>\n",
       "<caption>A data.frame: 16 × 3</caption>\n",
       "<thead>\n",
       "\t<tr><th scope=col>Model</th><th scope=col>Price</th><th scope=col>Type</th></tr>\n",
       "\t<tr><th scope=col>&lt;fct&gt;</th><th scope=col>&lt;dbl&gt;</th><th scope=col>&lt;fct&gt;</th></tr>\n",
       "</thead>\n",
       "<tbody>\n",
       "\t<tr><td>90      </td><td>29.1</td><td>Compact</td></tr>\n",
       "\t<tr><td>Cavalier</td><td>13.4</td><td>Compact</td></tr>\n",
       "\t<tr><td>Corsica </td><td>11.4</td><td>Compact</td></tr>\n",
       "\t<tr><td>LeBaron </td><td>15.8</td><td>Compact</td></tr>\n",
       "\t<tr><td>Spirit  </td><td>13.3</td><td>Compact</td></tr>\n",
       "\t<tr><td>Tempo   </td><td>11.3</td><td>Compact</td></tr>\n",
       "\t<tr><td>Accord  </td><td>17.5</td><td>Compact</td></tr>\n",
       "\t<tr><td>626     </td><td>16.5</td><td>Compact</td></tr>\n",
       "\t<tr><td>190E    </td><td>31.9</td><td>Compact</td></tr>\n",
       "\t<tr><td>Altima  </td><td>15.7</td><td>Compact</td></tr>\n",
       "\t<tr><td>Achieva </td><td>13.5</td><td>Compact</td></tr>\n",
       "\t<tr><td>Sunbird </td><td>11.1</td><td>Compact</td></tr>\n",
       "\t<tr><td>900     </td><td>28.7</td><td>Compact</td></tr>\n",
       "\t<tr><td>Legacy  </td><td>19.5</td><td>Compact</td></tr>\n",
       "\t<tr><td>Passat  </td><td>20.0</td><td>Compact</td></tr>\n",
       "\t<tr><td>240     </td><td>22.7</td><td>Compact</td></tr>\n",
       "</tbody>\n",
       "</table>\n"
      ],
      "text/latex": [
       "A data.frame: 16 × 3\n",
       "\\begin{tabular}{lll}\n",
       " Model & Price & Type\\\\\n",
       " <fct> & <dbl> & <fct>\\\\\n",
       "\\hline\n",
       "\t 90       & 29.1 & Compact\\\\\n",
       "\t Cavalier & 13.4 & Compact\\\\\n",
       "\t Corsica  & 11.4 & Compact\\\\\n",
       "\t LeBaron  & 15.8 & Compact\\\\\n",
       "\t Spirit   & 13.3 & Compact\\\\\n",
       "\t Tempo    & 11.3 & Compact\\\\\n",
       "\t Accord   & 17.5 & Compact\\\\\n",
       "\t 626      & 16.5 & Compact\\\\\n",
       "\t 190E     & 31.9 & Compact\\\\\n",
       "\t Altima   & 15.7 & Compact\\\\\n",
       "\t Achieva  & 13.5 & Compact\\\\\n",
       "\t Sunbird  & 11.1 & Compact\\\\\n",
       "\t 900      & 28.7 & Compact\\\\\n",
       "\t Legacy   & 19.5 & Compact\\\\\n",
       "\t Passat   & 20.0 & Compact\\\\\n",
       "\t 240      & 22.7 & Compact\\\\\n",
       "\\end{tabular}\n"
      ],
      "text/markdown": [
       "\n",
       "A data.frame: 16 × 3\n",
       "\n",
       "| Model &lt;fct&gt; | Price &lt;dbl&gt; | Type &lt;fct&gt; |\n",
       "|---|---|---|\n",
       "| 90       | 29.1 | Compact |\n",
       "| Cavalier | 13.4 | Compact |\n",
       "| Corsica  | 11.4 | Compact |\n",
       "| LeBaron  | 15.8 | Compact |\n",
       "| Spirit   | 13.3 | Compact |\n",
       "| Tempo    | 11.3 | Compact |\n",
       "| Accord   | 17.5 | Compact |\n",
       "| 626      | 16.5 | Compact |\n",
       "| 190E     | 31.9 | Compact |\n",
       "| Altima   | 15.7 | Compact |\n",
       "| Achieva  | 13.5 | Compact |\n",
       "| Sunbird  | 11.1 | Compact |\n",
       "| 900      | 28.7 | Compact |\n",
       "| Legacy   | 19.5 | Compact |\n",
       "| Passat   | 20.0 | Compact |\n",
       "| 240      | 22.7 | Compact |\n",
       "\n"
      ],
      "text/plain": [
       "   Model    Price Type   \n",
       "1  90       29.1  Compact\n",
       "2  Cavalier 13.4  Compact\n",
       "3  Corsica  11.4  Compact\n",
       "4  LeBaron  15.8  Compact\n",
       "5  Spirit   13.3  Compact\n",
       "6  Tempo    11.3  Compact\n",
       "7  Accord   17.5  Compact\n",
       "8  626      16.5  Compact\n",
       "9  190E     31.9  Compact\n",
       "10 Altima   15.7  Compact\n",
       "11 Achieva  13.5  Compact\n",
       "12 Sunbird  11.1  Compact\n",
       "13 900      28.7  Compact\n",
       "14 Legacy   19.5  Compact\n",
       "15 Passat   20.0  Compact\n",
       "16 240      22.7  Compact"
      ]
     },
     "metadata": {},
     "output_type": "display_data"
    }
   ],
   "source": [
    "filter(select(tbl1, Model, Price, Type), Type==\"Compact\")"
   ]
  },
  {
   "cell_type": "code",
   "execution_count": 15,
   "metadata": {},
   "outputs": [
    {
     "data": {
      "text/html": [
       "<table>\n",
       "<caption>A data.frame: 16 × 3</caption>\n",
       "<thead>\n",
       "\t<tr><th scope=col>Model</th><th scope=col>Price</th><th scope=col>Type</th></tr>\n",
       "\t<tr><th scope=col>&lt;fct&gt;</th><th scope=col>&lt;dbl&gt;</th><th scope=col>&lt;fct&gt;</th></tr>\n",
       "</thead>\n",
       "<tbody>\n",
       "\t<tr><td>90      </td><td>29.1</td><td>Compact</td></tr>\n",
       "\t<tr><td>Cavalier</td><td>13.4</td><td>Compact</td></tr>\n",
       "\t<tr><td>Corsica </td><td>11.4</td><td>Compact</td></tr>\n",
       "\t<tr><td>LeBaron </td><td>15.8</td><td>Compact</td></tr>\n",
       "\t<tr><td>Spirit  </td><td>13.3</td><td>Compact</td></tr>\n",
       "\t<tr><td>Tempo   </td><td>11.3</td><td>Compact</td></tr>\n",
       "\t<tr><td>Accord  </td><td>17.5</td><td>Compact</td></tr>\n",
       "\t<tr><td>626     </td><td>16.5</td><td>Compact</td></tr>\n",
       "\t<tr><td>190E    </td><td>31.9</td><td>Compact</td></tr>\n",
       "\t<tr><td>Altima  </td><td>15.7</td><td>Compact</td></tr>\n",
       "\t<tr><td>Achieva </td><td>13.5</td><td>Compact</td></tr>\n",
       "\t<tr><td>Sunbird </td><td>11.1</td><td>Compact</td></tr>\n",
       "\t<tr><td>900     </td><td>28.7</td><td>Compact</td></tr>\n",
       "\t<tr><td>Legacy  </td><td>19.5</td><td>Compact</td></tr>\n",
       "\t<tr><td>Passat  </td><td>20.0</td><td>Compact</td></tr>\n",
       "\t<tr><td>240     </td><td>22.7</td><td>Compact</td></tr>\n",
       "</tbody>\n",
       "</table>\n"
      ],
      "text/latex": [
       "A data.frame: 16 × 3\n",
       "\\begin{tabular}{lll}\n",
       " Model & Price & Type\\\\\n",
       " <fct> & <dbl> & <fct>\\\\\n",
       "\\hline\n",
       "\t 90       & 29.1 & Compact\\\\\n",
       "\t Cavalier & 13.4 & Compact\\\\\n",
       "\t Corsica  & 11.4 & Compact\\\\\n",
       "\t LeBaron  & 15.8 & Compact\\\\\n",
       "\t Spirit   & 13.3 & Compact\\\\\n",
       "\t Tempo    & 11.3 & Compact\\\\\n",
       "\t Accord   & 17.5 & Compact\\\\\n",
       "\t 626      & 16.5 & Compact\\\\\n",
       "\t 190E     & 31.9 & Compact\\\\\n",
       "\t Altima   & 15.7 & Compact\\\\\n",
       "\t Achieva  & 13.5 & Compact\\\\\n",
       "\t Sunbird  & 11.1 & Compact\\\\\n",
       "\t 900      & 28.7 & Compact\\\\\n",
       "\t Legacy   & 19.5 & Compact\\\\\n",
       "\t Passat   & 20.0 & Compact\\\\\n",
       "\t 240      & 22.7 & Compact\\\\\n",
       "\\end{tabular}\n"
      ],
      "text/markdown": [
       "\n",
       "A data.frame: 16 × 3\n",
       "\n",
       "| Model &lt;fct&gt; | Price &lt;dbl&gt; | Type &lt;fct&gt; |\n",
       "|---|---|---|\n",
       "| 90       | 29.1 | Compact |\n",
       "| Cavalier | 13.4 | Compact |\n",
       "| Corsica  | 11.4 | Compact |\n",
       "| LeBaron  | 15.8 | Compact |\n",
       "| Spirit   | 13.3 | Compact |\n",
       "| Tempo    | 11.3 | Compact |\n",
       "| Accord   | 17.5 | Compact |\n",
       "| 626      | 16.5 | Compact |\n",
       "| 190E     | 31.9 | Compact |\n",
       "| Altima   | 15.7 | Compact |\n",
       "| Achieva  | 13.5 | Compact |\n",
       "| Sunbird  | 11.1 | Compact |\n",
       "| 900      | 28.7 | Compact |\n",
       "| Legacy   | 19.5 | Compact |\n",
       "| Passat   | 20.0 | Compact |\n",
       "| 240      | 22.7 | Compact |\n",
       "\n"
      ],
      "text/plain": [
       "   Model    Price Type   \n",
       "1  90       29.1  Compact\n",
       "2  Cavalier 13.4  Compact\n",
       "3  Corsica  11.4  Compact\n",
       "4  LeBaron  15.8  Compact\n",
       "5  Spirit   13.3  Compact\n",
       "6  Tempo    11.3  Compact\n",
       "7  Accord   17.5  Compact\n",
       "8  626      16.5  Compact\n",
       "9  190E     31.9  Compact\n",
       "10 Altima   15.7  Compact\n",
       "11 Achieva  13.5  Compact\n",
       "12 Sunbird  11.1  Compact\n",
       "13 900      28.7  Compact\n",
       "14 Legacy   19.5  Compact\n",
       "15 Passat   20.0  Compact\n",
       "16 240      22.7  Compact"
      ]
     },
     "metadata": {},
     "output_type": "display_data"
    }
   ],
   "source": [
    "tbl1 %>% select(Model, Price, Type) %>% filter(Type==\"Compact\")"
   ]
  }
 ],
 "metadata": {
  "kernelspec": {
   "display_name": "R",
   "language": "R",
   "name": "ir"
  },
  "language_info": {
   "codemirror_mode": "r",
   "file_extension": ".r",
   "mimetype": "text/x-r-source",
   "name": "R",
   "pygments_lexer": "r",
   "version": "3.6.2"
  }
 },
 "nbformat": 4,
 "nbformat_minor": 2
}
