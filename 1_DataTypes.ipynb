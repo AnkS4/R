{
 "cells": [
  {
   "cell_type": "code",
   "execution_count": 18,
   "metadata": {},
   "outputs": [
    {
     "name": "stdout",
     "output_type": "stream",
     "text": [
      "[1] \"character character\"\n"
     ]
    }
   ],
   "source": [
    "a <- \"Apple\"\n",
    "b <- \"12.4\"\n",
    "print(paste(class(a), class(b)))"
   ]
  },
  {
   "cell_type": "code",
   "execution_count": 16,
   "metadata": {},
   "outputs": [
    {
     "name": "stdout",
     "output_type": "stream",
     "text": [
      "[1] \"numeric numeric numeric\"\n"
     ]
    }
   ],
   "source": [
    "c <- 12.3\n",
    "d <- -0.76\n",
    "e <- 0\n",
    "print(paste(class(c), class(d), class(e)))"
   ]
  },
  {
   "cell_type": "code",
   "execution_count": 27,
   "metadata": {},
   "outputs": [
    {
     "name": "stdout",
     "output_type": "stream",
     "text": [
      "[1] \"integer integer\"\n",
      "[1] 0 0 0 0 0 0 0 0\n"
     ]
    }
   ],
   "source": [
    "f <- integer(7)\n",
    "g <- integer(8.2)\n",
    "print(paste(class(f), class(g)))\n",
    "print(g)"
   ]
  },
  {
   "cell_type": "code",
   "execution_count": 28,
   "metadata": {},
   "outputs": [
    {
     "name": "stdout",
     "output_type": "stream",
     "text": [
      "[1] \"complex\"\n"
     ]
    }
   ],
   "source": [
    "h <- 2 + 4i\n",
    "print(class(h))"
   ]
  },
  {
   "cell_type": "code",
   "execution_count": 32,
   "metadata": {},
   "outputs": [
    {
     "name": "stdout",
     "output_type": "stream",
     "text": [
      "[1] \"logical logical logical\"\n",
      "[1] FALSE\n"
     ]
    }
   ],
   "source": [
    "i <- TRUE\n",
    "j <- FALSE\n",
    "k <- F\n",
    "print(paste(class(i), class(j), class(k)))\n",
    "print(k)"
   ]
  },
  {
   "cell_type": "code",
   "execution_count": 36,
   "metadata": {},
   "outputs": [
    {
     "name": "stdout",
     "output_type": "stream",
     "text": [
      "[1] \"numeric character character\"\n"
     ]
    }
   ],
   "source": [
    "l <- c(1, 2, 12.0)\n",
    "m <- c(\"ABC\", \"PQ\")\n",
    "n <- c(\"ABC\", 12)\n",
    "print(paste(class(l), class(m), class(n)))"
   ]
  },
  {
   "cell_type": "code",
   "execution_count": 39,
   "metadata": {},
   "outputs": [
    {
     "name": "stdout",
     "output_type": "stream",
     "text": [
      "[1] \"list\"\n",
      "[1] \"ABC 12\"\n"
     ]
    }
   ],
   "source": [
    "o <- list(\"ABC\", 12)\n",
    "print(class(o))\n",
    "print(paste(o[1], o[2]))"
   ]
  },
  {
   "cell_type": "code",
   "execution_count": 42,
   "metadata": {},
   "outputs": [
    {
     "name": "stdout",
     "output_type": "stream",
     "text": [
      "[1] \"factor\"\n",
      "[1] ABC 12  PQ  12  1   12  ABC\n",
      "Levels: 1 12 ABC PQ\n"
     ]
    }
   ],
   "source": [
    "p <- c(\"ABC\", 12, \"PQ\", 12, 1, 12, \"ABC\")\n",
    "f_p <- factor(p)\n",
    "print(class(f_p))\n",
    "print(f_p)"
   ]
  },
  {
   "cell_type": "code",
   "execution_count": 46,
   "metadata": {},
   "outputs": [
    {
     "name": "stdout",
     "output_type": "stream",
     "text": [
      "[1] \"logical numeric\"\n",
      "[1] TRUE\n",
      "[1] \"TRUE TRUE\"\n"
     ]
    }
   ],
   "source": [
    "q <- NA\n",
    "r <- 0\n",
    "s <- 12\n",
    "t <- 0/0\n",
    "print(paste(class(q), class(t)))\n",
    "print(is.na(q))\n",
    "print(paste(is.na(t), is.nan(t)))"
   ]
  },
  {
   "cell_type": "code",
   "execution_count": 47,
   "metadata": {},
   "outputs": [
    {
     "name": "stdout",
     "output_type": "stream",
     "text": [
      "[1] \"matrix\"\n",
      "     [,1] [,2] [,3] [,4]\n",
      "[1,]    1   13    4   45\n",
      "[2,]    1    1   34   98\n"
     ]
    }
   ],
   "source": [
    "u <- matrix(c(1, 1, 13, 1, 4, 34, 45, 98), 2, 4)\n",
    "print(class(u))\n",
    "print(u)"
   ]
  },
  {
   "cell_type": "code",
   "execution_count": 50,
   "metadata": {},
   "outputs": [
    {
     "name": "stdout",
     "output_type": "stream",
     "text": [
      "[1] \"matrix matrix\"\n",
      "     v   w\n",
      "[1,] 1 100\n",
      "[2,] 2  99\n",
      "[3,] 3  98\n",
      "[4,] 4  97\n",
      "[5,] 5  96\n",
      "  [,1] [,2] [,3] [,4] [,5]\n",
      "v    1    2    3    4    5\n",
      "w  100   99   98   97   96\n"
     ]
    }
   ],
   "source": [
    "v <- 1:5\n",
    "w <- 100:96\n",
    "vw1 <- cbind(v, w)\n",
    "vw2 <- rbind(v, w)\n",
    "print(paste(class(vw1), class(vw2)))\n",
    "print(vw1)\n",
    "print(vw2)"
   ]
  },
  {
   "cell_type": "code",
   "execution_count": 51,
   "metadata": {},
   "outputs": [
    {
     "name": "stdout",
     "output_type": "stream",
     "text": [
      "  [,1] [,2] [,3] [,4] [,5]\n",
      "x    1    1    1    1    1\n",
      "y  100   99   98   97   96\n"
     ]
    }
   ],
   "source": [
    "x <- 1\n",
    "y <- 100:96\n",
    "xy <- rbind(x, y)\n",
    "print(xy)"
   ]
  },
  {
   "cell_type": "code",
   "execution_count": 55,
   "metadata": {},
   "outputs": [
    {
     "name": "stdout",
     "output_type": "stream",
     "text": [
      "[1] \"array matrix\"\n",
      "[1] NA NA NA NA NA\n",
      "     [,1] [,2] [,3] [,4] [,5] [,6]\n",
      "[1,]   NA   NA   NA   NA   NA   NA\n",
      "[2,]   NA   NA   NA   NA   NA   NA\n",
      "[3,]   NA   NA   NA   NA   NA   NA\n",
      "[4,]   NA   NA   NA   NA   NA   NA\n",
      "[5,]   NA   NA   NA   NA   NA   NA\n"
     ]
    }
   ],
   "source": [
    "z1 <- array(dim=c(5))\n",
    "z2 <- array(dim=c(5, 6))\n",
    "print(paste(class(z1), class(z2)))\n",
    "print(z1)\n",
    "print(z2)"
   ]
  },
  {
   "cell_type": "code",
   "execution_count": 64,
   "metadata": {},
   "outputs": [
    {
     "data": {
      "text/html": [
       "<table>\n",
       "<caption>A matrix: 5 × 6 of type dbl</caption>\n",
       "<tbody>\n",
       "\t<tr><td>1</td><td>NA</td><td>NA</td><td>NA</td><td>NA</td><td>NA</td></tr>\n",
       "\t<tr><td>2</td><td>NA</td><td>NA</td><td>NA</td><td>NA</td><td>NA</td></tr>\n",
       "\t<tr><td>3</td><td>NA</td><td> 1</td><td>NA</td><td>NA</td><td>NA</td></tr>\n",
       "\t<tr><td>4</td><td>NA</td><td>NA</td><td>NA</td><td>NA</td><td>NA</td></tr>\n",
       "\t<tr><td>5</td><td>NA</td><td>NA</td><td>NA</td><td>NA</td><td>NA</td></tr>\n",
       "</tbody>\n",
       "</table>\n"
      ],
      "text/latex": [
       "A matrix: 5 × 6 of type dbl\n",
       "\\begin{tabular}{llllll}\n",
       "\t 1 & NA & NA & NA & NA & NA\\\\\n",
       "\t 2 & NA & NA & NA & NA & NA\\\\\n",
       "\t 3 & NA &  1 & NA & NA & NA\\\\\n",
       "\t 4 & NA & NA & NA & NA & NA\\\\\n",
       "\t 5 & NA & NA & NA & NA & NA\\\\\n",
       "\\end{tabular}\n"
      ],
      "text/markdown": [
       "\n",
       "A matrix: 5 × 6 of type dbl\n",
       "\n",
       "| 1 | NA | NA | NA | NA | NA |\n",
       "| 2 | NA | NA | NA | NA | NA |\n",
       "| 3 | NA |  1 | NA | NA | NA |\n",
       "| 4 | NA | NA | NA | NA | NA |\n",
       "| 5 | NA | NA | NA | NA | NA |\n",
       "\n"
      ],
      "text/plain": [
       "     [,1] [,2] [,3] [,4] [,5] [,6]\n",
       "[1,] 1    NA   NA   NA   NA   NA  \n",
       "[2,] 2    NA   NA   NA   NA   NA  \n",
       "[3,] 3    NA    1   NA   NA   NA  \n",
       "[4,] 4    NA   NA   NA   NA   NA  \n",
       "[5,] 5    NA   NA   NA   NA   NA  "
      ]
     },
     "metadata": {},
     "output_type": "display_data"
    }
   ],
   "source": [
    "z2[3,3] <- 1\n",
    "z2"
   ]
  },
  {
   "cell_type": "markdown",
   "metadata": {},
   "source": [
    "**typeof** determines the (R internal) type or storage mode of any object \n",
    "\n",
    "R possesses a simple generic function mechanism which can be used for an object-oriented style of programming. Method dispatch takes place based on the **class** of the first argument to the generic function."
   ]
  },
  {
   "cell_type": "code",
   "execution_count": 86,
   "metadata": {},
   "outputs": [
    {
     "name": "stdout",
     "output_type": "stream",
     "text": [
      "[1] \"data.frame\"\n",
      "[1] \"list\"\n",
      "      name  id msalary\n",
      "1    Abyss 101    5000\n",
      "2 Benjamin 102    8000\n",
      "3    Chloe 103   10000\n"
     ]
    }
   ],
   "source": [
    "name <- c(\"Abyss\", \"Benjamin\", \"Chloe\")\n",
    "id <- c(101, 102, 103)\n",
    "msalary <- c(5000, 8000, 10000)\n",
    "df <- data.frame(name, id, msalary)\n",
    "print(class(df))\n",
    "print(typeof(df))\n",
    "print(df)"
   ]
  },
  {
   "cell_type": "code",
   "execution_count": 73,
   "metadata": {},
   "outputs": [
    {
     "name": "stdout",
     "output_type": "stream",
     "text": [
      "[1] \"name\"    \"id\"      \"msalary\"\n",
      "[1] \"name\"    \"id\"      \"msalary\"\n"
     ]
    }
   ],
   "source": [
    "print(colnames(df))\n",
    "print(names(df)) #Names works only for dataframes"
   ]
  },
  {
   "cell_type": "code",
   "execution_count": 78,
   "metadata": {},
   "outputs": [
    {
     "data": {
      "text/html": [
       "<table>\n",
       "<caption>A data.frame: 3 × 3</caption>\n",
       "<thead>\n",
       "\t<tr><th scope=col>name</th><th scope=col>id</th><th scope=col>expenditure</th></tr>\n",
       "\t<tr><th scope=col>&lt;fct&gt;</th><th scope=col>&lt;dbl&gt;</th><th scope=col>&lt;dbl&gt;</th></tr>\n",
       "</thead>\n",
       "<tbody>\n",
       "\t<tr><td>Abyss   </td><td>101</td><td> 5000</td></tr>\n",
       "\t<tr><td>Benjamin</td><td>102</td><td> 8000</td></tr>\n",
       "\t<tr><td>Chloe   </td><td>103</td><td>10000</td></tr>\n",
       "</tbody>\n",
       "</table>\n"
      ],
      "text/latex": [
       "A data.frame: 3 × 3\n",
       "\\begin{tabular}{lll}\n",
       " name & id & expenditure\\\\\n",
       " <fct> & <dbl> & <dbl>\\\\\n",
       "\\hline\n",
       "\t Abyss    & 101 &  5000\\\\\n",
       "\t Benjamin & 102 &  8000\\\\\n",
       "\t Chloe    & 103 & 10000\\\\\n",
       "\\end{tabular}\n"
      ],
      "text/markdown": [
       "\n",
       "A data.frame: 3 × 3\n",
       "\n",
       "| name &lt;fct&gt; | id &lt;dbl&gt; | expenditure &lt;dbl&gt; |\n",
       "|---|---|---|\n",
       "| Abyss    | 101 |  5000 |\n",
       "| Benjamin | 102 |  8000 |\n",
       "| Chloe    | 103 | 10000 |\n",
       "\n"
      ],
      "text/plain": [
       "  name     id  expenditure\n",
       "1 Abyss    101  5000      \n",
       "2 Benjamin 102  8000      \n",
       "3 Chloe    103 10000      "
      ]
     },
     "metadata": {},
     "output_type": "display_data"
    }
   ],
   "source": [
    "names(df)[3] <- \"expenditure\"\n",
    "df"
   ]
  }
 ],
 "metadata": {
  "kernelspec": {
   "display_name": "R",
   "language": "R",
   "name": "ir"
  },
  "language_info": {
   "codemirror_mode": "r",
   "file_extension": ".r",
   "mimetype": "text/x-r-source",
   "name": "R",
   "pygments_lexer": "r",
   "version": "3.6.2"
  }
 },
 "nbformat": 4,
 "nbformat_minor": 2
}
