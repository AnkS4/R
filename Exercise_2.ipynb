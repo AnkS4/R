{
 "cells": [
  {
   "cell_type": "markdown",
   "metadata": {},
   "source": [
    "**Q1.** Given Orders.csv file in the folder datasets. Import the file into R and generate the following outputs:\n",
    "\n",
    "**a.** Display the meta-data of its data frame object"
   ]
  },
  {
   "cell_type": "code",
   "execution_count": 1,
   "metadata": {},
   "outputs": [
    {
     "name": "stdout",
     "output_type": "stream",
     "text": [
      "'data.frame':\t70 obs. of  4 variables:\n",
      " $ Order.ID         : Factor w/ 70 levels \"32 90 001\",\"32 90 002\",..: 1 2 3 4 5 6 7 8 9 10 ...\n",
      " $ Order.Date       : Factor w/ 67 levels \"1-Jan-12\",\"1-Mar-11\",..: 63 66 31 37 42 2 64 35 44 59 ...\n",
      " $ Place.of.Shipment: Factor w/ 19 levels \"Ahmednagar\",\"Aurangabad\",..: 12 11 1 10 6 3 11 12 7 19 ...\n",
      " $ Payment.Terms    : Factor w/ 3 levels \"Cash\",\"Cheque\",..: 2 3 1 2 1 3 3 3 3 3 ...\n"
     ]
    }
   ],
   "source": [
    "df <- read.csv(\"Orders.csv\")\n",
    "str(df)"
   ]
  },
  {
   "cell_type": "markdown",
   "metadata": {},
   "source": [
    "**b.** Descriptive Statistics:"
   ]
  },
  {
   "cell_type": "code",
   "execution_count": 2,
   "metadata": {},
   "outputs": [
    {
     "data": {
      "text/plain": [
       "      Order.ID      Order.Date   Place.of.Shipment Payment.Terms\n",
       " 32 90 001: 1   13-Jan-13: 2   Ratnagiri  : 8      Cash  :18    \n",
       " 32 90 002: 1   14-Apr-13: 2   Dhule      : 5      Cheque:23    \n",
       " 32 90 003: 1   19-Aug-11: 2   Raigad     : 5      Online:29    \n",
       " 32 90 004: 1   1-Jan-12 : 1   Sindhudurga: 5                   \n",
       " 32 90 005: 1   1-Mar-11 : 1   Aurangabad : 4                   \n",
       " 32 90 006: 1   1-Mar-13 : 1   Nasik      : 4                   \n",
       " (Other)  :64   (Other)  :61   (Other)    :39                   "
      ]
     },
     "metadata": {},
     "output_type": "display_data"
    }
   ],
   "source": [
    "summary(df)"
   ]
  },
  {
   "cell_type": "markdown",
   "metadata": {},
   "source": [
    "**Q2.** Import the file Bollywood_2015.csv and generate the following outputs for variable BO_COLLECTION:\n",
    "\n",
    "**a.** Binning the data:"
   ]
  },
  {
   "cell_type": "code",
   "execution_count": 3,
   "metadata": {},
   "outputs": [
    {
     "data": {
      "text/html": [
       "<style>\n",
       ".list-inline {list-style: none; margin:0; padding: 0}\n",
       ".list-inline>li {display: inline-block}\n",
       ".list-inline>li:not(:last-child)::after {content: \"\\00b7\"; padding: 0 .5ex}\n",
       "</style>\n",
       "<ol class=list-inline><li>(0.78,67.1]</li><li>(0.78,67.1]</li><li>(67.1,133]</li><li>(0.78,67.1]</li><li>(0.78,67.1]</li><li>(0.78,67.1]</li><li>(0.78,67.1]</li><li>(0.78,67.1]</li><li>(0.78,67.1]</li><li>(67.1,133]</li><li>(0.78,67.1]</li><li>(0.78,67.1]</li><li>(0.78,67.1]</li><li>(67.1,133]</li><li>(0.78,67.1]</li><li>(265,331]</li><li>(0.78,67.1]</li><li>(67.1,133]</li><li>(0.78,67.1]</li><li>(0.78,67.1]</li><li>(67.1,133]</li><li>(0.78,67.1]</li><li>(0.78,67.1]</li><li>(0.78,67.1]</li><li>(0.78,67.1]</li><li>(67.1,133]</li><li>(133,199]</li><li>(0.78,67.1]</li><li>(67.1,133]</li><li>(67.1,133]</li><li>(0.78,67.1]</li><li>(0.78,67.1]</li><li>(0.78,67.1]</li><li>(0.78,67.1]</li><li>(0.78,67.1]</li><li>(0.78,67.1]</li><li>(0.78,67.1]</li><li>(0.78,67.1]</li><li>(0.78,67.1]</li><li>(0.78,67.1]</li><li>(0.78,67.1]</li><li>(0.78,67.1]</li><li>(0.78,67.1]</li><li>(0.78,67.1]</li><li>(0.78,67.1]</li><li>(67.1,133]</li><li>(0.78,67.1]</li><li>(0.78,67.1]</li><li>(0.78,67.1]</li><li>(265,331]</li><li>(0.78,67.1]</li><li>(0.78,67.1]</li></ol>\n",
       "\n",
       "<details>\n",
       "\t<summary style=display:list-item;cursor:pointer>\n",
       "\t\t<strong>Levels</strong>:\n",
       "\t</summary>\n",
       "\t<style>\n",
       "\t.list-inline {list-style: none; margin:0; padding: 0}\n",
       "\t.list-inline>li {display: inline-block}\n",
       "\t.list-inline>li:not(:last-child)::after {content: \"\\00b7\"; padding: 0 .5ex}\n",
       "\t</style>\n",
       "\t<ol class=list-inline><li>'(0.78,67.1]'</li><li>'(67.1,133]'</li><li>'(133,199]'</li><li>'(199,265]'</li><li>'(265,331]'</li></ol>\n",
       "</details>"
      ],
      "text/latex": [
       "\\begin{enumerate*}\n",
       "\\item (0.78,67.1{]}\n",
       "\\item (0.78,67.1{]}\n",
       "\\item (67.1,133{]}\n",
       "\\item (0.78,67.1{]}\n",
       "\\item (0.78,67.1{]}\n",
       "\\item (0.78,67.1{]}\n",
       "\\item (0.78,67.1{]}\n",
       "\\item (0.78,67.1{]}\n",
       "\\item (0.78,67.1{]}\n",
       "\\item (67.1,133{]}\n",
       "\\item (0.78,67.1{]}\n",
       "\\item (0.78,67.1{]}\n",
       "\\item (0.78,67.1{]}\n",
       "\\item (67.1,133{]}\n",
       "\\item (0.78,67.1{]}\n",
       "\\item (265,331{]}\n",
       "\\item (0.78,67.1{]}\n",
       "\\item (67.1,133{]}\n",
       "\\item (0.78,67.1{]}\n",
       "\\item (0.78,67.1{]}\n",
       "\\item (67.1,133{]}\n",
       "\\item (0.78,67.1{]}\n",
       "\\item (0.78,67.1{]}\n",
       "\\item (0.78,67.1{]}\n",
       "\\item (0.78,67.1{]}\n",
       "\\item (67.1,133{]}\n",
       "\\item (133,199{]}\n",
       "\\item (0.78,67.1{]}\n",
       "\\item (67.1,133{]}\n",
       "\\item (67.1,133{]}\n",
       "\\item (0.78,67.1{]}\n",
       "\\item (0.78,67.1{]}\n",
       "\\item (0.78,67.1{]}\n",
       "\\item (0.78,67.1{]}\n",
       "\\item (0.78,67.1{]}\n",
       "\\item (0.78,67.1{]}\n",
       "\\item (0.78,67.1{]}\n",
       "\\item (0.78,67.1{]}\n",
       "\\item (0.78,67.1{]}\n",
       "\\item (0.78,67.1{]}\n",
       "\\item (0.78,67.1{]}\n",
       "\\item (0.78,67.1{]}\n",
       "\\item (0.78,67.1{]}\n",
       "\\item (0.78,67.1{]}\n",
       "\\item (0.78,67.1{]}\n",
       "\\item (67.1,133{]}\n",
       "\\item (0.78,67.1{]}\n",
       "\\item (0.78,67.1{]}\n",
       "\\item (0.78,67.1{]}\n",
       "\\item (265,331{]}\n",
       "\\item (0.78,67.1{]}\n",
       "\\item (0.78,67.1{]}\n",
       "\\end{enumerate*}\n",
       "\n",
       "\\emph{Levels}: \\begin{enumerate*}\n",
       "\\item '(0.78,67.1{]}'\n",
       "\\item '(67.1,133{]}'\n",
       "\\item '(133,199{]}'\n",
       "\\item '(199,265{]}'\n",
       "\\item '(265,331{]}'\n",
       "\\end{enumerate*}\n"
      ],
      "text/markdown": [
       "1. (0.78,67.1]\n",
       "2. (0.78,67.1]\n",
       "3. (67.1,133]\n",
       "4. (0.78,67.1]\n",
       "5. (0.78,67.1]\n",
       "6. (0.78,67.1]\n",
       "7. (0.78,67.1]\n",
       "8. (0.78,67.1]\n",
       "9. (0.78,67.1]\n",
       "10. (67.1,133]\n",
       "11. (0.78,67.1]\n",
       "12. (0.78,67.1]\n",
       "13. (0.78,67.1]\n",
       "14. (67.1,133]\n",
       "15. (0.78,67.1]\n",
       "16. (265,331]\n",
       "17. (0.78,67.1]\n",
       "18. (67.1,133]\n",
       "19. (0.78,67.1]\n",
       "20. (0.78,67.1]\n",
       "21. (67.1,133]\n",
       "22. (0.78,67.1]\n",
       "23. (0.78,67.1]\n",
       "24. (0.78,67.1]\n",
       "25. (0.78,67.1]\n",
       "26. (67.1,133]\n",
       "27. (133,199]\n",
       "28. (0.78,67.1]\n",
       "29. (67.1,133]\n",
       "30. (67.1,133]\n",
       "31. (0.78,67.1]\n",
       "32. (0.78,67.1]\n",
       "33. (0.78,67.1]\n",
       "34. (0.78,67.1]\n",
       "35. (0.78,67.1]\n",
       "36. (0.78,67.1]\n",
       "37. (0.78,67.1]\n",
       "38. (0.78,67.1]\n",
       "39. (0.78,67.1]\n",
       "40. (0.78,67.1]\n",
       "41. (0.78,67.1]\n",
       "42. (0.78,67.1]\n",
       "43. (0.78,67.1]\n",
       "44. (0.78,67.1]\n",
       "45. (0.78,67.1]\n",
       "46. (67.1,133]\n",
       "47. (0.78,67.1]\n",
       "48. (0.78,67.1]\n",
       "49. (0.78,67.1]\n",
       "50. (265,331]\n",
       "51. (0.78,67.1]\n",
       "52. (0.78,67.1]\n",
       "\n",
       "\n",
       "\n",
       "**Levels**: 1. '(0.78,67.1]'\n",
       "2. '(67.1,133]'\n",
       "3. '(133,199]'\n",
       "4. '(199,265]'\n",
       "5. '(265,331]'\n",
       "\n",
       "\n"
      ],
      "text/plain": [
       " [1] (0.78,67.1] (0.78,67.1] (67.1,133]  (0.78,67.1] (0.78,67.1] (0.78,67.1]\n",
       " [7] (0.78,67.1] (0.78,67.1] (0.78,67.1] (67.1,133]  (0.78,67.1] (0.78,67.1]\n",
       "[13] (0.78,67.1] (67.1,133]  (0.78,67.1] (265,331]   (0.78,67.1] (67.1,133] \n",
       "[19] (0.78,67.1] (0.78,67.1] (67.1,133]  (0.78,67.1] (0.78,67.1] (0.78,67.1]\n",
       "[25] (0.78,67.1] (67.1,133]  (133,199]   (0.78,67.1] (67.1,133]  (67.1,133] \n",
       "[31] (0.78,67.1] (0.78,67.1] (0.78,67.1] (0.78,67.1] (0.78,67.1] (0.78,67.1]\n",
       "[37] (0.78,67.1] (0.78,67.1] (0.78,67.1] (0.78,67.1] (0.78,67.1] (0.78,67.1]\n",
       "[43] (0.78,67.1] (0.78,67.1] (0.78,67.1] (67.1,133]  (0.78,67.1] (0.78,67.1]\n",
       "[49] (0.78,67.1] (265,331]   (0.78,67.1] (0.78,67.1]\n",
       "Levels: (0.78,67.1] (67.1,133] (133,199] (199,265] (265,331]"
      ]
     },
     "metadata": {},
     "output_type": "display_data"
    }
   ],
   "source": [
    "df <- read.csv(\"Bollywood_2015.csv\")\n",
    "df2 <- cut(df$BO_Collection, breaks=5)\n",
    "df2"
   ]
  },
  {
   "cell_type": "markdown",
   "metadata": {},
   "source": [
    "**b.** Generating the frequency counts"
   ]
  },
  {
   "cell_type": "code",
   "execution_count": 4,
   "metadata": {},
   "outputs": [
    {
     "data": {
      "text/plain": [
       "df2\n",
       "(0.78,67.1]  (67.1,133]   (133,199]   (199,265]   (265,331] \n",
       "         40           9           1           0           2 "
      ]
     },
     "metadata": {},
     "output_type": "display_data"
    }
   ],
   "source": [
    "df3 <- table(df2)\n",
    "df3"
   ]
  },
  {
   "cell_type": "markdown",
   "metadata": {},
   "source": [
    "**c.** Precentages of corresponding frequency counts:"
   ]
  },
  {
   "cell_type": "code",
   "execution_count": 5,
   "metadata": {},
   "outputs": [
    {
     "data": {
      "text/plain": [
       "df2\n",
       "(0.78,67.1]  (67.1,133]   (133,199]   (199,265]   (265,331] \n",
       " 0.76923077  0.17307692  0.01923077  0.00000000  0.03846154 "
      ]
     },
     "metadata": {},
     "output_type": "display_data"
    }
   ],
   "source": [
    "prop.table(df3)"
   ]
  },
  {
   "cell_type": "markdown",
   "metadata": {},
   "source": [
    "**Q3.** Draw a random sample with replacement of size 80 from the values of the variable Qty from dataset\n",
    "Ord_Details.csv"
   ]
  },
  {
   "cell_type": "code",
   "execution_count": 6,
   "metadata": {},
   "outputs": [
    {
     "data": {
      "text/html": [
       "<style>\n",
       ".list-inline {list-style: none; margin:0; padding: 0}\n",
       ".list-inline>li {display: inline-block}\n",
       ".list-inline>li:not(:last-child)::after {content: \"\\00b7\"; padding: 0 .5ex}\n",
       "</style>\n",
       "<ol class=list-inline><li>18</li><li>21</li><li>2</li><li>10</li><li>5</li><li>21</li><li>4</li><li>48</li><li>20</li><li>20</li><li>15</li><li>46</li><li>44</li><li>24</li><li>30</li><li>14</li><li>1</li><li>11</li><li>43</li><li>31</li><li>36</li><li>21</li><li>39</li><li>22</li><li>44</li><li>11</li><li>12</li><li>17</li><li>29</li><li>45</li><li>39</li><li>42</li><li>28</li><li>21</li><li>6</li><li>11</li><li>16</li><li>2</li><li>4</li><li>8</li><li>44</li><li>41</li><li>46</li><li>33</li><li>17</li><li>11</li><li>37</li><li>43</li><li>41</li><li>43</li><li>1</li><li>44</li><li>18</li><li>1</li><li>37</li><li>42</li><li>4</li><li>50</li><li>35</li><li>49</li><li>45</li><li>43</li><li>11</li><li>15</li><li>49</li><li>29</li><li>39</li><li>45</li><li>16</li><li>34</li><li>44</li><li>13</li><li>38</li><li>17</li><li>5</li><li>18</li><li>44</li><li>9</li><li>32</li><li>37</li></ol>\n"
      ],
      "text/latex": [
       "\\begin{enumerate*}\n",
       "\\item 18\n",
       "\\item 21\n",
       "\\item 2\n",
       "\\item 10\n",
       "\\item 5\n",
       "\\item 21\n",
       "\\item 4\n",
       "\\item 48\n",
       "\\item 20\n",
       "\\item 20\n",
       "\\item 15\n",
       "\\item 46\n",
       "\\item 44\n",
       "\\item 24\n",
       "\\item 30\n",
       "\\item 14\n",
       "\\item 1\n",
       "\\item 11\n",
       "\\item 43\n",
       "\\item 31\n",
       "\\item 36\n",
       "\\item 21\n",
       "\\item 39\n",
       "\\item 22\n",
       "\\item 44\n",
       "\\item 11\n",
       "\\item 12\n",
       "\\item 17\n",
       "\\item 29\n",
       "\\item 45\n",
       "\\item 39\n",
       "\\item 42\n",
       "\\item 28\n",
       "\\item 21\n",
       "\\item 6\n",
       "\\item 11\n",
       "\\item 16\n",
       "\\item 2\n",
       "\\item 4\n",
       "\\item 8\n",
       "\\item 44\n",
       "\\item 41\n",
       "\\item 46\n",
       "\\item 33\n",
       "\\item 17\n",
       "\\item 11\n",
       "\\item 37\n",
       "\\item 43\n",
       "\\item 41\n",
       "\\item 43\n",
       "\\item 1\n",
       "\\item 44\n",
       "\\item 18\n",
       "\\item 1\n",
       "\\item 37\n",
       "\\item 42\n",
       "\\item 4\n",
       "\\item 50\n",
       "\\item 35\n",
       "\\item 49\n",
       "\\item 45\n",
       "\\item 43\n",
       "\\item 11\n",
       "\\item 15\n",
       "\\item 49\n",
       "\\item 29\n",
       "\\item 39\n",
       "\\item 45\n",
       "\\item 16\n",
       "\\item 34\n",
       "\\item 44\n",
       "\\item 13\n",
       "\\item 38\n",
       "\\item 17\n",
       "\\item 5\n",
       "\\item 18\n",
       "\\item 44\n",
       "\\item 9\n",
       "\\item 32\n",
       "\\item 37\n",
       "\\end{enumerate*}\n"
      ],
      "text/markdown": [
       "1. 18\n",
       "2. 21\n",
       "3. 2\n",
       "4. 10\n",
       "5. 5\n",
       "6. 21\n",
       "7. 4\n",
       "8. 48\n",
       "9. 20\n",
       "10. 20\n",
       "11. 15\n",
       "12. 46\n",
       "13. 44\n",
       "14. 24\n",
       "15. 30\n",
       "16. 14\n",
       "17. 1\n",
       "18. 11\n",
       "19. 43\n",
       "20. 31\n",
       "21. 36\n",
       "22. 21\n",
       "23. 39\n",
       "24. 22\n",
       "25. 44\n",
       "26. 11\n",
       "27. 12\n",
       "28. 17\n",
       "29. 29\n",
       "30. 45\n",
       "31. 39\n",
       "32. 42\n",
       "33. 28\n",
       "34. 21\n",
       "35. 6\n",
       "36. 11\n",
       "37. 16\n",
       "38. 2\n",
       "39. 4\n",
       "40. 8\n",
       "41. 44\n",
       "42. 41\n",
       "43. 46\n",
       "44. 33\n",
       "45. 17\n",
       "46. 11\n",
       "47. 37\n",
       "48. 43\n",
       "49. 41\n",
       "50. 43\n",
       "51. 1\n",
       "52. 44\n",
       "53. 18\n",
       "54. 1\n",
       "55. 37\n",
       "56. 42\n",
       "57. 4\n",
       "58. 50\n",
       "59. 35\n",
       "60. 49\n",
       "61. 45\n",
       "62. 43\n",
       "63. 11\n",
       "64. 15\n",
       "65. 49\n",
       "66. 29\n",
       "67. 39\n",
       "68. 45\n",
       "69. 16\n",
       "70. 34\n",
       "71. 44\n",
       "72. 13\n",
       "73. 38\n",
       "74. 17\n",
       "75. 5\n",
       "76. 18\n",
       "77. 44\n",
       "78. 9\n",
       "79. 32\n",
       "80. 37\n",
       "\n",
       "\n"
      ],
      "text/plain": [
       " [1] 18 21  2 10  5 21  4 48 20 20 15 46 44 24 30 14  1 11 43 31 36 21 39 22 44\n",
       "[26] 11 12 17 29 45 39 42 28 21  6 11 16  2  4  8 44 41 46 33 17 11 37 43 41 43\n",
       "[51]  1 44 18  1 37 42  4 50 35 49 45 43 11 15 49 29 39 45 16 34 44 13 38 17  5\n",
       "[76] 18 44  9 32 37"
      ]
     },
     "metadata": {},
     "output_type": "display_data"
    }
   ],
   "source": [
    "df <- read.csv(\"Ord_Details.csv\")\n",
    "sample(df$Qty, size=80, replace = T)"
   ]
  },
  {
   "cell_type": "markdown",
   "metadata": {},
   "source": [
    "**Q4.** Load the file events.RData. Data frame object events will get loaded in the memory.\n",
    "\n",
    "The first 4 observations have been shown below :"
   ]
  },
  {
   "cell_type": "code",
   "execution_count": 7,
   "metadata": {},
   "outputs": [
    {
     "data": {
      "text/html": [
       "<table>\n",
       "<caption>A data.frame: 4 × 2</caption>\n",
       "<thead>\n",
       "\t<tr><th></th><th scope=col>eventID</th><th scope=col>occur</th></tr>\n",
       "\t<tr><th></th><th scope=col>&lt;dbl&gt;</th><th scope=col>&lt;dbl&gt;</th></tr>\n",
       "</thead>\n",
       "<tbody>\n",
       "\t<tr><th scope=row>1</th><td>1</td><td>12</td></tr>\n",
       "\t<tr><th scope=row>2</th><td>2</td><td>14</td></tr>\n",
       "\t<tr><th scope=row>3</th><td>3</td><td>15</td></tr>\n",
       "\t<tr><th scope=row>4</th><td>4</td><td>34</td></tr>\n",
       "</tbody>\n",
       "</table>\n"
      ],
      "text/latex": [
       "A data.frame: 4 × 2\n",
       "\\begin{tabular}{r|ll}\n",
       "  & eventID & occur\\\\\n",
       "  & <dbl> & <dbl>\\\\\n",
       "\\hline\n",
       "\t1 & 1 & 12\\\\\n",
       "\t2 & 2 & 14\\\\\n",
       "\t3 & 3 & 15\\\\\n",
       "\t4 & 4 & 34\\\\\n",
       "\\end{tabular}\n"
      ],
      "text/markdown": [
       "\n",
       "A data.frame: 4 × 2\n",
       "\n",
       "| <!--/--> | eventID &lt;dbl&gt; | occur &lt;dbl&gt; |\n",
       "|---|---|---|\n",
       "| 1 | 1 | 12 |\n",
       "| 2 | 2 | 14 |\n",
       "| 3 | 3 | 15 |\n",
       "| 4 | 4 | 34 |\n",
       "\n"
      ],
      "text/plain": [
       "  eventID occur\n",
       "1 1       12   \n",
       "2 2       14   \n",
       "3 3       15   \n",
       "4 4       34   "
      ]
     },
     "metadata": {},
     "output_type": "display_data"
    }
   ],
   "source": [
    "load(\"events.Rdata\")\n",
    "events[1:4,]"
   ]
  },
  {
   "cell_type": "markdown",
   "metadata": {},
   "source": [
    "You need to create a column named dur which will calculate the difference in two consecutive values in the\n",
    "variable occur as shown below:"
   ]
  },
  {
   "cell_type": "code",
   "execution_count": 8,
   "metadata": {},
   "outputs": [
    {
     "data": {
      "text/html": [
       "<table>\n",
       "<caption>A data.frame: 15 × 3</caption>\n",
       "<thead>\n",
       "\t<tr><th scope=col>eventID</th><th scope=col>occur</th><th scope=col>dur</th></tr>\n",
       "\t<tr><th scope=col>&lt;dbl&gt;</th><th scope=col>&lt;dbl&gt;</th><th scope=col>&lt;dbl&gt;</th></tr>\n",
       "</thead>\n",
       "<tbody>\n",
       "\t<tr><td> 1</td><td> 12</td><td>12</td></tr>\n",
       "\t<tr><td> 2</td><td> 14</td><td> 2</td></tr>\n",
       "\t<tr><td> 3</td><td> 15</td><td> 1</td></tr>\n",
       "\t<tr><td> 4</td><td> 34</td><td>19</td></tr>\n",
       "\t<tr><td> 5</td><td> 45</td><td>11</td></tr>\n",
       "\t<tr><td> 6</td><td> 46</td><td> 1</td></tr>\n",
       "\t<tr><td> 7</td><td> 57</td><td>11</td></tr>\n",
       "\t<tr><td> 8</td><td> 63</td><td> 6</td></tr>\n",
       "\t<tr><td> 9</td><td> 76</td><td>13</td></tr>\n",
       "\t<tr><td>10</td><td> 88</td><td>12</td></tr>\n",
       "\t<tr><td>11</td><td>110</td><td>22</td></tr>\n",
       "\t<tr><td>12</td><td>114</td><td> 4</td></tr>\n",
       "\t<tr><td>13</td><td>132</td><td>18</td></tr>\n",
       "\t<tr><td>14</td><td>132</td><td> 0</td></tr>\n",
       "\t<tr><td>15</td><td>138</td><td> 6</td></tr>\n",
       "</tbody>\n",
       "</table>\n"
      ],
      "text/latex": [
       "A data.frame: 15 × 3\n",
       "\\begin{tabular}{lll}\n",
       " eventID & occur & dur\\\\\n",
       " <dbl> & <dbl> & <dbl>\\\\\n",
       "\\hline\n",
       "\t  1 &  12 & 12\\\\\n",
       "\t  2 &  14 &  2\\\\\n",
       "\t  3 &  15 &  1\\\\\n",
       "\t  4 &  34 & 19\\\\\n",
       "\t  5 &  45 & 11\\\\\n",
       "\t  6 &  46 &  1\\\\\n",
       "\t  7 &  57 & 11\\\\\n",
       "\t  8 &  63 &  6\\\\\n",
       "\t  9 &  76 & 13\\\\\n",
       "\t 10 &  88 & 12\\\\\n",
       "\t 11 & 110 & 22\\\\\n",
       "\t 12 & 114 &  4\\\\\n",
       "\t 13 & 132 & 18\\\\\n",
       "\t 14 & 132 &  0\\\\\n",
       "\t 15 & 138 &  6\\\\\n",
       "\\end{tabular}\n"
      ],
      "text/markdown": [
       "\n",
       "A data.frame: 15 × 3\n",
       "\n",
       "| eventID &lt;dbl&gt; | occur &lt;dbl&gt; | dur &lt;dbl&gt; |\n",
       "|---|---|---|\n",
       "|  1 |  12 | 12 |\n",
       "|  2 |  14 |  2 |\n",
       "|  3 |  15 |  1 |\n",
       "|  4 |  34 | 19 |\n",
       "|  5 |  45 | 11 |\n",
       "|  6 |  46 |  1 |\n",
       "|  7 |  57 | 11 |\n",
       "|  8 |  63 |  6 |\n",
       "|  9 |  76 | 13 |\n",
       "| 10 |  88 | 12 |\n",
       "| 11 | 110 | 22 |\n",
       "| 12 | 114 |  4 |\n",
       "| 13 | 132 | 18 |\n",
       "| 14 | 132 |  0 |\n",
       "| 15 | 138 |  6 |\n",
       "\n"
      ],
      "text/plain": [
       "   eventID occur dur\n",
       "1   1       12   12 \n",
       "2   2       14    2 \n",
       "3   3       15    1 \n",
       "4   4       34   19 \n",
       "5   5       45   11 \n",
       "6   6       46    1 \n",
       "7   7       57   11 \n",
       "8   8       63    6 \n",
       "9   9       76   13 \n",
       "10 10       88   12 \n",
       "11 11      110   22 \n",
       "12 12      114    4 \n",
       "13 13      132   18 \n",
       "14 14      132    0 \n",
       "15 15      138    6 "
      ]
     },
     "metadata": {},
     "output_type": "display_data"
    }
   ],
   "source": [
    "dur <- array(dim=nrow(events))\n",
    "dur[1] <- events$occur[1]\n",
    "dur[2:15] <- diff(events$occur)\n",
    "events <- cbind(events, dur)\n",
    "events"
   ]
  },
  {
   "cell_type": "markdown",
   "metadata": {},
   "source": [
    "**Q5.** Create a function which accepts a number as temperature in degrees Fahrenheit and returns the\n",
    "temperature in Celsius"
   ]
  },
  {
   "cell_type": "code",
   "execution_count": 9,
   "metadata": {},
   "outputs": [
    {
     "data": {
      "text/html": [
       "37.7777777777778"
      ],
      "text/latex": [
       "37.7777777777778"
      ],
      "text/markdown": [
       "37.7777777777778"
      ],
      "text/plain": [
       "[1] 37.77778"
      ]
     },
     "metadata": {},
     "output_type": "display_data"
    }
   ],
   "source": [
    "tempC <- function(f){(f-32)*5/9}\n",
    "tempC(100)"
   ]
  },
  {
   "cell_type": "markdown",
   "metadata": {},
   "source": [
    "**Q6.** Create a function which accepts a numeric variable(input) and outputs a data frame containing two\n",
    "calculated values namely, mean(input) – 2 SD(input) and mean(input) + 2 SD(input). Take care that null\n",
    "values get removed before calculation"
   ]
  },
  {
   "cell_type": "code",
   "execution_count": 10,
   "metadata": {},
   "outputs": [],
   "source": [
    "fun <- function(input){\n",
    "    m <- mean(input, na.rm=T)\n",
    "    std <- sd(input, na.rm=T)\n",
    "    out <- m-2*std + m+2*std\n",
    "    out\n",
    "}"
   ]
  },
  {
   "cell_type": "code",
   "execution_count": 11,
   "metadata": {},
   "outputs": [
    {
     "data": {
      "text/html": [
       "17.2"
      ],
      "text/latex": [
       "17.2"
      ],
      "text/markdown": [
       "17.2"
      ],
      "text/plain": [
       "[1] 17.2"
      ]
     },
     "metadata": {},
     "output_type": "display_data"
    }
   ],
   "source": [
    "s <- c(2, 3, NA, 5, 19, 14)\n",
    "fun(s)"
   ]
  },
  {
   "cell_type": "markdown",
   "metadata": {},
   "source": [
    "**Q7.** Create a function which accepts a numeric variable(input)and outputs its coefficient of variation with\n",
    "formula: (SD / mean) *100"
   ]
  },
  {
   "cell_type": "code",
   "execution_count": 12,
   "metadata": {},
   "outputs": [],
   "source": [
    "cov <- function(input){\n",
    "    m <- mean(input, na.rm=T)\n",
    "    std <- sd(input, na.rm=T)\n",
    "    out <- std/m*100\n",
    "    out\n",
    "}"
   ]
  },
  {
   "cell_type": "code",
   "execution_count": 13,
   "metadata": {},
   "outputs": [
    {
     "data": {
      "text/html": [
       "87.2480534060654"
      ],
      "text/latex": [
       "87.2480534060654"
      ],
      "text/markdown": [
       "87.2480534060654"
      ],
      "text/plain": [
       "[1] 87.24805"
      ]
     },
     "metadata": {},
     "output_type": "display_data"
    }
   ],
   "source": [
    "s <- c(2, 3, NA, 5, 19, 14)\n",
    "cov(s)"
   ]
  },
  {
   "cell_type": "markdown",
   "metadata": {},
   "source": [
    "**Q8.** Create a function which can impute the missing values in a numeric vector by mean. That means, the function\n",
    "should take a numeric vector as an argument and return a numeric vector in which NA values will be found\n",
    "imputed."
   ]
  },
  {
   "cell_type": "code",
   "execution_count": 14,
   "metadata": {},
   "outputs": [],
   "source": [
    "imputeMean <- function(input){\n",
    "    m <- mean(input, na.rm=T)\n",
    "    impu <- ifelse(is.na(input)==T, m, input)\n",
    "    impu\n",
    "}"
   ]
  },
  {
   "cell_type": "markdown",
   "metadata": {},
   "source": [
    "OR"
   ]
  },
  {
   "cell_type": "code",
   "execution_count": 15,
   "metadata": {},
   "outputs": [],
   "source": [
    "imputeMean <- function(input){\n",
    "    m <- mean(input, na.rm=T)\n",
    "    input[is.na(input)] <- m\n",
    "    input\n",
    "}"
   ]
  },
  {
   "cell_type": "code",
   "execution_count": 16,
   "metadata": {},
   "outputs": [
    {
     "data": {
      "text/html": [
       "<style>\n",
       ".list-inline {list-style: none; margin:0; padding: 0}\n",
       ".list-inline>li {display: inline-block}\n",
       ".list-inline>li:not(:last-child)::after {content: \"\\00b7\"; padding: 0 .5ex}\n",
       "</style>\n",
       "<ol class=list-inline><li>2</li><li>3</li><li>8.6</li><li>5</li><li>19</li><li>14</li></ol>\n"
      ],
      "text/latex": [
       "\\begin{enumerate*}\n",
       "\\item 2\n",
       "\\item 3\n",
       "\\item 8.6\n",
       "\\item 5\n",
       "\\item 19\n",
       "\\item 14\n",
       "\\end{enumerate*}\n"
      ],
      "text/markdown": [
       "1. 2\n",
       "2. 3\n",
       "3. 8.6\n",
       "4. 5\n",
       "5. 19\n",
       "6. 14\n",
       "\n",
       "\n"
      ],
      "text/plain": [
       "[1]  2.0  3.0  8.6  5.0 19.0 14.0"
      ]
     },
     "metadata": {},
     "output_type": "display_data"
    }
   ],
   "source": [
    "s <- c(2, 3, NA, 5, 19, 14)\n",
    "imputeMean(s)"
   ]
  }
 ],
 "metadata": {
  "kernelspec": {
   "display_name": "R",
   "language": "R",
   "name": "ir"
  },
  "language_info": {
   "codemirror_mode": "r",
   "file_extension": ".r",
   "mimetype": "text/x-r-source",
   "name": "R",
   "pygments_lexer": "r",
   "version": "3.6.2"
  }
 },
 "nbformat": 4,
 "nbformat_minor": 2
}
